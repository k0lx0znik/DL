{
  "cells": [
    {
      "cell_type": "markdown",
      "metadata": {
        "id": "Q_upCOEI3Upu"
      },
      "source": [
        "# Основы глубинного обучения, майнор ИАД\n",
        "\n",
        "## Домашнее задание 1. Введение в PyTorch. Полносвязные нейронные сети.\n",
        "\n",
        "### Общая информация\n",
        "\n",
        "Дата выдачи: 07.10.2023\n",
        "\n",
        "Мягкий дедлайн: 23:59MSK 20.10.2023\n",
        "\n",
        "Жесткий дедлайн: 23:59MSK 24.10.2023\n",
        "\n",
        "### Оценивание и штрафы\n",
        "Максимально допустимая оценка за работу — 10 баллов. За каждый день просрочки снимается 1 балл. Сдавать задание после жёсткого дедлайна сдачи нельзя.\n",
        "\n",
        "Задание выполняется самостоятельно. «Похожие» решения считаются плагиатом и все задействованные студенты (в том числе те, у кого списали) не могут получить за него больше 0 баллов. Если вы нашли решение какого-то из заданий (или его часть) в открытом источнике, необходимо указать ссылку на этот источник в отдельном блоке в конце вашей работы (скорее всего вы будете не единственным, кто это нашел, поэтому чтобы исключить подозрение в плагиате, необходима ссылка на источник).\n",
        "\n",
        "Неэффективная реализация кода может негативно отразиться на оценке.\n",
        "Также оценка может быть снижена за плохо читаемый код и плохо оформленные графики. Все ответы должны сопровождаться кодом или комментариями о том, как они были получены.\n",
        "\n",
        "Итогова оценка считается как\n",
        "$$\n",
        "min(task_1, task_2)*0.6 + max(task_1, task_2)*0.2 + task_4*0.2\n",
        "$$\n",
        "\n",
        "где $task_1$, $task_2$ и $task_4$ - оценки за первое и второе заданиее соответсвенно.\n",
        "Также, за домашнее задание выставляется 0, если не сделано нулевое или третье задание.\n",
        "### О задании\n",
        "\n",
        "В этом задании вам предстоит предсказывать год выпуска песни (**задача регрессии**) по некоторым звуковым признакам: [данные](https://archive.ics.uci.edu/ml/datasets/yearpredictionmsd). В ячейках ниже находится код для загрузки данных. Обратите внимание, что обучающая и тестовая выборки располагаются в одном файле, поэтому НЕ меняйте ячейку, в которой производится деление данных."
      ]
    },
    {
      "cell_type": "code",
      "execution_count": null,
      "metadata": {
        "id": "RI_eoe063VaP"
      },
      "outputs": [],
      "source": [
        "import torch\n",
        "from torch import nn\n",
        "import torch.nn.functional as F\n",
        "import pandas as pd\n",
        "import numpy as np\n",
        "import random\n",
        "device = \"cuda\" if torch.cuda.is_available() else \"cpu\"\n",
        "from tqdm.notebook import tqdm\n",
        "from IPython.display import clear_output\n",
        "import matplotlib.pyplot as plt"
      ]
    },
    {
      "cell_type": "code",
      "execution_count": null,
      "metadata": {
        "colab": {
          "base_uri": "https://localhost:8080/"
        },
        "id": "7NgSZeU-7vgj",
        "outputId": "6fa35485-1c98-45fc-8e39-d0ee7b58f729"
      },
      "outputs": [
        {
          "output_type": "stream",
          "name": "stdout",
          "text": [
            "--2024-10-24 13:41:14--  https://archive.ics.uci.edu/ml/machine-learning-databases/00203/YearPredictionMSD.txt.zip\n",
            "Resolving archive.ics.uci.edu (archive.ics.uci.edu)... 128.195.10.252\n",
            "Connecting to archive.ics.uci.edu (archive.ics.uci.edu)|128.195.10.252|:443... connected.\n",
            "HTTP request sent, awaiting response... 200 OK\n",
            "Length: unspecified\n",
            "Saving to: ‘data.txt.zip’\n",
            "\n",
            "data.txt.zip            [     <=>            ] 201.24M  33.7MB/s    in 6.0s    \n",
            "\n",
            "2024-10-24 13:41:20 (33.4 MB/s) - ‘data.txt.zip’ saved [211011981]\n",
            "\n"
          ]
        }
      ],
      "source": [
        "!wget -O data.txt.zip https://archive.ics.uci.edu/ml/machine-learning-databases/00203/YearPredictionMSD.txt.zip"
      ]
    },
    {
      "cell_type": "code",
      "execution_count": null,
      "metadata": {
        "id": "DSVJZzkJ7zZE",
        "outputId": "e763c306-7352-44df-f60c-436e2df244f8",
        "scrolled": false,
        "colab": {
          "base_uri": "https://localhost:8080/",
          "height": 255
        }
      },
      "outputs": [
        {
          "output_type": "execute_result",
          "data": {
            "text/plain": [
              "     0         1         2         3         4         5         6         7   \\\n",
              "0  2001  49.94357  21.47114  73.07750   8.74861 -17.40628 -13.09905 -25.01202   \n",
              "1  2001  48.73215  18.42930  70.32679  12.94636 -10.32437 -24.83777   8.76630   \n",
              "2  2001  50.95714  31.85602  55.81851  13.41693  -6.57898 -18.54940  -3.27872   \n",
              "3  2001  48.24750  -1.89837  36.29772   2.58776   0.97170 -26.21683   5.05097   \n",
              "4  2001  50.97020  42.20998  67.09964   8.46791 -15.85279 -16.81409 -12.48207   \n",
              "\n",
              "         8         9   ...        81         82        83        84        85  \\\n",
              "0 -12.23257   7.83089  ...  13.01620  -54.40548  58.99367  15.37344   1.11144   \n",
              "1  -0.92019  18.76548  ...   5.66812  -19.68073  33.04964  42.87836  -9.90378   \n",
              "2  -2.35035  16.07017  ...   3.03800   26.05866 -50.92779  10.93792  -0.07568   \n",
              "3 -10.34124   3.55005  ...  34.57337 -171.70734 -16.96705 -46.67617 -12.51516   \n",
              "4  -9.37636  12.63699  ...   9.92661  -55.95724  64.92712 -17.72522  -1.49237   \n",
              "\n",
              "         86         87        88         89        90  \n",
              "0 -23.08793   68.40795  -1.82223  -27.46348   2.26327  \n",
              "1 -32.22788   70.49388  12.04941   58.43453  26.92061  \n",
              "2  43.20130 -115.00698  -0.05859   39.67068  -0.66345  \n",
              "3  82.58061  -72.08993   9.90558  199.62971  18.85382  \n",
              "4  -7.50035   51.76631   7.88713   55.66926  28.74903  \n",
              "\n",
              "[5 rows x 91 columns]"
            ],
            "text/html": [
              "\n",
              "  <div id=\"df-c61bcae8-b4fc-4138-9a83-ff05fe796336\" class=\"colab-df-container\">\n",
              "    <div>\n",
              "<style scoped>\n",
              "    .dataframe tbody tr th:only-of-type {\n",
              "        vertical-align: middle;\n",
              "    }\n",
              "\n",
              "    .dataframe tbody tr th {\n",
              "        vertical-align: top;\n",
              "    }\n",
              "\n",
              "    .dataframe thead th {\n",
              "        text-align: right;\n",
              "    }\n",
              "</style>\n",
              "<table border=\"1\" class=\"dataframe\">\n",
              "  <thead>\n",
              "    <tr style=\"text-align: right;\">\n",
              "      <th></th>\n",
              "      <th>0</th>\n",
              "      <th>1</th>\n",
              "      <th>2</th>\n",
              "      <th>3</th>\n",
              "      <th>4</th>\n",
              "      <th>5</th>\n",
              "      <th>6</th>\n",
              "      <th>7</th>\n",
              "      <th>8</th>\n",
              "      <th>9</th>\n",
              "      <th>...</th>\n",
              "      <th>81</th>\n",
              "      <th>82</th>\n",
              "      <th>83</th>\n",
              "      <th>84</th>\n",
              "      <th>85</th>\n",
              "      <th>86</th>\n",
              "      <th>87</th>\n",
              "      <th>88</th>\n",
              "      <th>89</th>\n",
              "      <th>90</th>\n",
              "    </tr>\n",
              "  </thead>\n",
              "  <tbody>\n",
              "    <tr>\n",
              "      <th>0</th>\n",
              "      <td>2001</td>\n",
              "      <td>49.94357</td>\n",
              "      <td>21.47114</td>\n",
              "      <td>73.07750</td>\n",
              "      <td>8.74861</td>\n",
              "      <td>-17.40628</td>\n",
              "      <td>-13.09905</td>\n",
              "      <td>-25.01202</td>\n",
              "      <td>-12.23257</td>\n",
              "      <td>7.83089</td>\n",
              "      <td>...</td>\n",
              "      <td>13.01620</td>\n",
              "      <td>-54.40548</td>\n",
              "      <td>58.99367</td>\n",
              "      <td>15.37344</td>\n",
              "      <td>1.11144</td>\n",
              "      <td>-23.08793</td>\n",
              "      <td>68.40795</td>\n",
              "      <td>-1.82223</td>\n",
              "      <td>-27.46348</td>\n",
              "      <td>2.26327</td>\n",
              "    </tr>\n",
              "    <tr>\n",
              "      <th>1</th>\n",
              "      <td>2001</td>\n",
              "      <td>48.73215</td>\n",
              "      <td>18.42930</td>\n",
              "      <td>70.32679</td>\n",
              "      <td>12.94636</td>\n",
              "      <td>-10.32437</td>\n",
              "      <td>-24.83777</td>\n",
              "      <td>8.76630</td>\n",
              "      <td>-0.92019</td>\n",
              "      <td>18.76548</td>\n",
              "      <td>...</td>\n",
              "      <td>5.66812</td>\n",
              "      <td>-19.68073</td>\n",
              "      <td>33.04964</td>\n",
              "      <td>42.87836</td>\n",
              "      <td>-9.90378</td>\n",
              "      <td>-32.22788</td>\n",
              "      <td>70.49388</td>\n",
              "      <td>12.04941</td>\n",
              "      <td>58.43453</td>\n",
              "      <td>26.92061</td>\n",
              "    </tr>\n",
              "    <tr>\n",
              "      <th>2</th>\n",
              "      <td>2001</td>\n",
              "      <td>50.95714</td>\n",
              "      <td>31.85602</td>\n",
              "      <td>55.81851</td>\n",
              "      <td>13.41693</td>\n",
              "      <td>-6.57898</td>\n",
              "      <td>-18.54940</td>\n",
              "      <td>-3.27872</td>\n",
              "      <td>-2.35035</td>\n",
              "      <td>16.07017</td>\n",
              "      <td>...</td>\n",
              "      <td>3.03800</td>\n",
              "      <td>26.05866</td>\n",
              "      <td>-50.92779</td>\n",
              "      <td>10.93792</td>\n",
              "      <td>-0.07568</td>\n",
              "      <td>43.20130</td>\n",
              "      <td>-115.00698</td>\n",
              "      <td>-0.05859</td>\n",
              "      <td>39.67068</td>\n",
              "      <td>-0.66345</td>\n",
              "    </tr>\n",
              "    <tr>\n",
              "      <th>3</th>\n",
              "      <td>2001</td>\n",
              "      <td>48.24750</td>\n",
              "      <td>-1.89837</td>\n",
              "      <td>36.29772</td>\n",
              "      <td>2.58776</td>\n",
              "      <td>0.97170</td>\n",
              "      <td>-26.21683</td>\n",
              "      <td>5.05097</td>\n",
              "      <td>-10.34124</td>\n",
              "      <td>3.55005</td>\n",
              "      <td>...</td>\n",
              "      <td>34.57337</td>\n",
              "      <td>-171.70734</td>\n",
              "      <td>-16.96705</td>\n",
              "      <td>-46.67617</td>\n",
              "      <td>-12.51516</td>\n",
              "      <td>82.58061</td>\n",
              "      <td>-72.08993</td>\n",
              "      <td>9.90558</td>\n",
              "      <td>199.62971</td>\n",
              "      <td>18.85382</td>\n",
              "    </tr>\n",
              "    <tr>\n",
              "      <th>4</th>\n",
              "      <td>2001</td>\n",
              "      <td>50.97020</td>\n",
              "      <td>42.20998</td>\n",
              "      <td>67.09964</td>\n",
              "      <td>8.46791</td>\n",
              "      <td>-15.85279</td>\n",
              "      <td>-16.81409</td>\n",
              "      <td>-12.48207</td>\n",
              "      <td>-9.37636</td>\n",
              "      <td>12.63699</td>\n",
              "      <td>...</td>\n",
              "      <td>9.92661</td>\n",
              "      <td>-55.95724</td>\n",
              "      <td>64.92712</td>\n",
              "      <td>-17.72522</td>\n",
              "      <td>-1.49237</td>\n",
              "      <td>-7.50035</td>\n",
              "      <td>51.76631</td>\n",
              "      <td>7.88713</td>\n",
              "      <td>55.66926</td>\n",
              "      <td>28.74903</td>\n",
              "    </tr>\n",
              "  </tbody>\n",
              "</table>\n",
              "<p>5 rows × 91 columns</p>\n",
              "</div>\n",
              "    <div class=\"colab-df-buttons\">\n",
              "\n",
              "  <div class=\"colab-df-container\">\n",
              "    <button class=\"colab-df-convert\" onclick=\"convertToInteractive('df-c61bcae8-b4fc-4138-9a83-ff05fe796336')\"\n",
              "            title=\"Convert this dataframe to an interactive table.\"\n",
              "            style=\"display:none;\">\n",
              "\n",
              "  <svg xmlns=\"http://www.w3.org/2000/svg\" height=\"24px\" viewBox=\"0 -960 960 960\">\n",
              "    <path d=\"M120-120v-720h720v720H120Zm60-500h600v-160H180v160Zm220 220h160v-160H400v160Zm0 220h160v-160H400v160ZM180-400h160v-160H180v160Zm440 0h160v-160H620v160ZM180-180h160v-160H180v160Zm440 0h160v-160H620v160Z\"/>\n",
              "  </svg>\n",
              "    </button>\n",
              "\n",
              "  <style>\n",
              "    .colab-df-container {\n",
              "      display:flex;\n",
              "      gap: 12px;\n",
              "    }\n",
              "\n",
              "    .colab-df-convert {\n",
              "      background-color: #E8F0FE;\n",
              "      border: none;\n",
              "      border-radius: 50%;\n",
              "      cursor: pointer;\n",
              "      display: none;\n",
              "      fill: #1967D2;\n",
              "      height: 32px;\n",
              "      padding: 0 0 0 0;\n",
              "      width: 32px;\n",
              "    }\n",
              "\n",
              "    .colab-df-convert:hover {\n",
              "      background-color: #E2EBFA;\n",
              "      box-shadow: 0px 1px 2px rgba(60, 64, 67, 0.3), 0px 1px 3px 1px rgba(60, 64, 67, 0.15);\n",
              "      fill: #174EA6;\n",
              "    }\n",
              "\n",
              "    .colab-df-buttons div {\n",
              "      margin-bottom: 4px;\n",
              "    }\n",
              "\n",
              "    [theme=dark] .colab-df-convert {\n",
              "      background-color: #3B4455;\n",
              "      fill: #D2E3FC;\n",
              "    }\n",
              "\n",
              "    [theme=dark] .colab-df-convert:hover {\n",
              "      background-color: #434B5C;\n",
              "      box-shadow: 0px 1px 3px 1px rgba(0, 0, 0, 0.15);\n",
              "      filter: drop-shadow(0px 1px 2px rgba(0, 0, 0, 0.3));\n",
              "      fill: #FFFFFF;\n",
              "    }\n",
              "  </style>\n",
              "\n",
              "    <script>\n",
              "      const buttonEl =\n",
              "        document.querySelector('#df-c61bcae8-b4fc-4138-9a83-ff05fe796336 button.colab-df-convert');\n",
              "      buttonEl.style.display =\n",
              "        google.colab.kernel.accessAllowed ? 'block' : 'none';\n",
              "\n",
              "      async function convertToInteractive(key) {\n",
              "        const element = document.querySelector('#df-c61bcae8-b4fc-4138-9a83-ff05fe796336');\n",
              "        const dataTable =\n",
              "          await google.colab.kernel.invokeFunction('convertToInteractive',\n",
              "                                                    [key], {});\n",
              "        if (!dataTable) return;\n",
              "\n",
              "        const docLinkHtml = 'Like what you see? Visit the ' +\n",
              "          '<a target=\"_blank\" href=https://colab.research.google.com/notebooks/data_table.ipynb>data table notebook</a>'\n",
              "          + ' to learn more about interactive tables.';\n",
              "        element.innerHTML = '';\n",
              "        dataTable['output_type'] = 'display_data';\n",
              "        await google.colab.output.renderOutput(dataTable, element);\n",
              "        const docLink = document.createElement('div');\n",
              "        docLink.innerHTML = docLinkHtml;\n",
              "        element.appendChild(docLink);\n",
              "      }\n",
              "    </script>\n",
              "  </div>\n",
              "\n",
              "\n",
              "<div id=\"df-9063d6b2-9364-4098-9d0a-34ec68468478\">\n",
              "  <button class=\"colab-df-quickchart\" onclick=\"quickchart('df-9063d6b2-9364-4098-9d0a-34ec68468478')\"\n",
              "            title=\"Suggest charts\"\n",
              "            style=\"display:none;\">\n",
              "\n",
              "<svg xmlns=\"http://www.w3.org/2000/svg\" height=\"24px\"viewBox=\"0 0 24 24\"\n",
              "     width=\"24px\">\n",
              "    <g>\n",
              "        <path d=\"M19 3H5c-1.1 0-2 .9-2 2v14c0 1.1.9 2 2 2h14c1.1 0 2-.9 2-2V5c0-1.1-.9-2-2-2zM9 17H7v-7h2v7zm4 0h-2V7h2v10zm4 0h-2v-4h2v4z\"/>\n",
              "    </g>\n",
              "</svg>\n",
              "  </button>\n",
              "\n",
              "<style>\n",
              "  .colab-df-quickchart {\n",
              "      --bg-color: #E8F0FE;\n",
              "      --fill-color: #1967D2;\n",
              "      --hover-bg-color: #E2EBFA;\n",
              "      --hover-fill-color: #174EA6;\n",
              "      --disabled-fill-color: #AAA;\n",
              "      --disabled-bg-color: #DDD;\n",
              "  }\n",
              "\n",
              "  [theme=dark] .colab-df-quickchart {\n",
              "      --bg-color: #3B4455;\n",
              "      --fill-color: #D2E3FC;\n",
              "      --hover-bg-color: #434B5C;\n",
              "      --hover-fill-color: #FFFFFF;\n",
              "      --disabled-bg-color: #3B4455;\n",
              "      --disabled-fill-color: #666;\n",
              "  }\n",
              "\n",
              "  .colab-df-quickchart {\n",
              "    background-color: var(--bg-color);\n",
              "    border: none;\n",
              "    border-radius: 50%;\n",
              "    cursor: pointer;\n",
              "    display: none;\n",
              "    fill: var(--fill-color);\n",
              "    height: 32px;\n",
              "    padding: 0;\n",
              "    width: 32px;\n",
              "  }\n",
              "\n",
              "  .colab-df-quickchart:hover {\n",
              "    background-color: var(--hover-bg-color);\n",
              "    box-shadow: 0 1px 2px rgba(60, 64, 67, 0.3), 0 1px 3px 1px rgba(60, 64, 67, 0.15);\n",
              "    fill: var(--button-hover-fill-color);\n",
              "  }\n",
              "\n",
              "  .colab-df-quickchart-complete:disabled,\n",
              "  .colab-df-quickchart-complete:disabled:hover {\n",
              "    background-color: var(--disabled-bg-color);\n",
              "    fill: var(--disabled-fill-color);\n",
              "    box-shadow: none;\n",
              "  }\n",
              "\n",
              "  .colab-df-spinner {\n",
              "    border: 2px solid var(--fill-color);\n",
              "    border-color: transparent;\n",
              "    border-bottom-color: var(--fill-color);\n",
              "    animation:\n",
              "      spin 1s steps(1) infinite;\n",
              "  }\n",
              "\n",
              "  @keyframes spin {\n",
              "    0% {\n",
              "      border-color: transparent;\n",
              "      border-bottom-color: var(--fill-color);\n",
              "      border-left-color: var(--fill-color);\n",
              "    }\n",
              "    20% {\n",
              "      border-color: transparent;\n",
              "      border-left-color: var(--fill-color);\n",
              "      border-top-color: var(--fill-color);\n",
              "    }\n",
              "    30% {\n",
              "      border-color: transparent;\n",
              "      border-left-color: var(--fill-color);\n",
              "      border-top-color: var(--fill-color);\n",
              "      border-right-color: var(--fill-color);\n",
              "    }\n",
              "    40% {\n",
              "      border-color: transparent;\n",
              "      border-right-color: var(--fill-color);\n",
              "      border-top-color: var(--fill-color);\n",
              "    }\n",
              "    60% {\n",
              "      border-color: transparent;\n",
              "      border-right-color: var(--fill-color);\n",
              "    }\n",
              "    80% {\n",
              "      border-color: transparent;\n",
              "      border-right-color: var(--fill-color);\n",
              "      border-bottom-color: var(--fill-color);\n",
              "    }\n",
              "    90% {\n",
              "      border-color: transparent;\n",
              "      border-bottom-color: var(--fill-color);\n",
              "    }\n",
              "  }\n",
              "</style>\n",
              "\n",
              "  <script>\n",
              "    async function quickchart(key) {\n",
              "      const quickchartButtonEl =\n",
              "        document.querySelector('#' + key + ' button');\n",
              "      quickchartButtonEl.disabled = true;  // To prevent multiple clicks.\n",
              "      quickchartButtonEl.classList.add('colab-df-spinner');\n",
              "      try {\n",
              "        const charts = await google.colab.kernel.invokeFunction(\n",
              "            'suggestCharts', [key], {});\n",
              "      } catch (error) {\n",
              "        console.error('Error during call to suggestCharts:', error);\n",
              "      }\n",
              "      quickchartButtonEl.classList.remove('colab-df-spinner');\n",
              "      quickchartButtonEl.classList.add('colab-df-quickchart-complete');\n",
              "    }\n",
              "    (() => {\n",
              "      let quickchartButtonEl =\n",
              "        document.querySelector('#df-9063d6b2-9364-4098-9d0a-34ec68468478 button');\n",
              "      quickchartButtonEl.style.display =\n",
              "        google.colab.kernel.accessAllowed ? 'block' : 'none';\n",
              "    })();\n",
              "  </script>\n",
              "</div>\n",
              "    </div>\n",
              "  </div>\n"
            ],
            "application/vnd.google.colaboratory.intrinsic+json": {
              "type": "dataframe",
              "variable_name": "df"
            }
          },
          "metadata": {},
          "execution_count": 77
        }
      ],
      "source": [
        "df = pd.read_csv('/content/data.txt.zip', header=None)\n",
        "df.head()"
      ]
    },
    {
      "cell_type": "markdown",
      "metadata": {
        "id": "N9a-eJUG35C3"
      },
      "source": [
        "Мы вывели кусок данных, чтобы понять, насколько они пригодны для работы без изменений. Здесь ясно, что сомнительно дальше с такими данными работать, потому что как минимум есть отрицательные значения, которые не отмасштабированы, кроме того еще сразу бросается в глаза совсем разная размерность, где-то видим реально большие числа, а где-то 0.075. Ясно, что будем скейлить."
      ]
    },
    {
      "cell_type": "code",
      "execution_count": null,
      "metadata": {
        "id": "n4wnRJT1778j"
      },
      "outputs": [],
      "source": [
        "X = df.iloc[:, 1:].values\n",
        "y = df.iloc[:, 0].values\n",
        "\n",
        "train_size = 463715\n",
        "X_train = X[:train_size, :]\n",
        "y_train = y[:train_size]\n",
        "X_test = X[train_size:, :]\n",
        "y_test = y[train_size:]"
      ]
    },
    {
      "cell_type": "markdown",
      "metadata": {
        "id": "_386JE_o5gOd"
      },
      "source": [
        "## Задание 0. (0 баллов, но при невыполнении максимум за все задание &mdash; 0 баллов)\n",
        "\n",
        "Мы будем использовать RMSE как метрику качества. Для самого первого бейзлайна обучите `Ridge` регрессию из `sklearn`. Кроме того, посчитайте качество при наилучшем константном прогнозе.\n",
        "\n",
        "Для выполнения данного задания (и всех последующих) предобработайте данные.\n",
        "\n",
        "1. Зафиксируйте random_seed везде где только возможно. Вам предоставлена функция для этого, однако вы можете дополнить ее своими дополнениями\n",
        "2. Обучите StandertScaler и предобработайте ваши данные. В следующих заданиях можете использовать другой scaler или вообще отказаться от него\n"
      ]
    },
    {
      "cell_type": "code",
      "execution_count": null,
      "metadata": {
        "id": "1kV-kCVs8Aju"
      },
      "outputs": [],
      "source": [
        "from sklearn.preprocessing import StandardScaler\n",
        "\n",
        "scaler = StandardScaler()"
      ]
    },
    {
      "cell_type": "code",
      "source": [
        "scaler.fit(X_train)\n",
        "X_st_train = scaler.transform(X_train)\n",
        "X_st_train = pd.DataFrame(data=X_st_train, columns=df.columns[1:])\n",
        "X_st_test = scaler.transform(X_test)\n",
        "X_st_test = pd.DataFrame(data=X_st_test, columns=df.columns[1:])"
      ],
      "metadata": {
        "id": "aEeYbHFdrQIX"
      },
      "execution_count": null,
      "outputs": []
    },
    {
      "cell_type": "code",
      "source": [
        "sum(X_st_train.isna().sum())"
      ],
      "metadata": {
        "colab": {
          "base_uri": "https://localhost:8080/"
        },
        "id": "43QxZZrdrzDj",
        "outputId": "4d8b75b5-16cb-48d0-f0ac-965b882bca1f"
      },
      "execution_count": null,
      "outputs": [
        {
          "output_type": "execute_result",
          "data": {
            "text/plain": [
              "0"
            ]
          },
          "metadata": {},
          "execution_count": 35
        }
      ]
    },
    {
      "cell_type": "code",
      "source": [
        "sum(X_st_test.isna().any())"
      ],
      "metadata": {
        "colab": {
          "base_uri": "https://localhost:8080/"
        },
        "id": "QSdD7J-0tShg",
        "outputId": "f669457e-1582-4819-d1aa-e476bbd1331a"
      },
      "execution_count": null,
      "outputs": [
        {
          "output_type": "execute_result",
          "data": {
            "text/plain": [
              "0"
            ]
          },
          "metadata": {},
          "execution_count": 36
        }
      ]
    },
    {
      "cell_type": "markdown",
      "source": [
        "Пропусков в данных нет"
      ],
      "metadata": {
        "id": "knMVAo6ptXC2"
      }
    },
    {
      "cell_type": "code",
      "execution_count": null,
      "metadata": {
        "id": "lkfkXylb8U-O"
      },
      "outputs": [],
      "source": [
        "def set_random_seed(seed):\n",
        "    torch.backends.cudnn.deterministic = True\n",
        "    torch.manual_seed(seed)\n",
        "    torch.cuda.manual_seed(seed)\n",
        "    np.random.seed(seed)\n",
        "    random.seed(seed)\n",
        "    # Add smth here if you need..."
      ]
    },
    {
      "cell_type": "code",
      "execution_count": null,
      "metadata": {
        "id": "GKVVatBw8cH7"
      },
      "outputs": [],
      "source": [
        "set_random_seed(42)"
      ]
    },
    {
      "cell_type": "markdown",
      "source": [
        "Импортируем из sklearn ridge регрессию и RMSE.\n"
      ],
      "metadata": {
        "id": "E6gwe6egtsuz"
      }
    },
    {
      "cell_type": "code",
      "source": [
        "from sklearn.linear_model import Ridge\n",
        "from sklearn.metrics import root_mean_squared_error\n",
        "\n",
        "alpha = [0 ,0.005, 0.01, 0.05, 1, 3, 5, 7, 10]\n",
        "\n",
        "rmse_list_train = []\n",
        "rmse_list_test = []\n",
        "\n",
        "for a in alpha:\n",
        "  rr = Ridge(a).fit(X_st_train, y_train)\n",
        "  rmse_list_train.append(root_mean_squared_error(y_train, rr.predict(X_st_train)))\n",
        "  rmse_list_test.append(root_mean_squared_error(y_test, rr.predict(X_st_test)))\n",
        "\n",
        "print(f\"Best alpha for train {alpha[np.argmin(rmse_list_train)]} with RMSE {min(rmse_list_train)}\")\n",
        "print(f\"Best alpha for test {alpha[np.argmin(rmse_list_test)]} with RMSE {min(rmse_list_test)}\")"
      ],
      "metadata": {
        "colab": {
          "base_uri": "https://localhost:8080/"
        },
        "id": "iY5Ir4I5tr7O",
        "outputId": "d1ca53e8-e177-4d9d-a07c-199cec15b2ff"
      },
      "execution_count": null,
      "outputs": [
        {
          "output_type": "stream",
          "name": "stdout",
          "text": [
            "Best alpha for train 0 with RMSE 9.552822967904037\n",
            "Best alpha for test 0 with RMSE 9.510160707488621\n"
          ]
        }
      ]
    },
    {
      "cell_type": "markdown",
      "metadata": {
        "id": "HJKGuhFi35C4"
      },
      "source": [
        "Лучшая константа для RMSE это среднее, посчитаем значение метрики при нем, для этого импортируем DummyRegression из sklearn."
      ]
    },
    {
      "cell_type": "code",
      "source": [
        "from sklearn.dummy import DummyRegressor\n",
        "\n",
        "dumb = DummyRegressor(strategy='mean').fit(X_st_train, y_train)\n",
        "\n",
        "print(f\"RMSE on train {root_mean_squared_error(y_train, dumb.predict(y_train))}\")\n",
        "print(f\"RMSE on test {root_mean_squared_error(y_test, dumb.predict(y_test))}\")"
      ],
      "metadata": {
        "colab": {
          "base_uri": "https://localhost:8080/"
        },
        "id": "bOYv6YJcxepL",
        "outputId": "572c9225-980b-470c-bf81-808f81f91837"
      },
      "execution_count": null,
      "outputs": [
        {
          "output_type": "stream",
          "name": "stdout",
          "text": [
            "RMSE on train 10.939755150678016\n",
            "RMSE on test 10.85246390513634\n"
          ]
        }
      ]
    },
    {
      "cell_type": "markdown",
      "metadata": {
        "id": "BDHAnIkS8vNY"
      },
      "source": [
        "## Задание 1. (максимум 10 баллов)\n",
        "\n",
        "Закрепите свои знания о том, как pytorch работает с обратным распространением ошибки, проделав следующие шаги:\n",
        "\n",
        "1. Создайте модель линейной регрессии, которая будет состоять только из одного Linear слоя.\n",
        "2. Напишите цикл обучения вашей линейной регрессии. В нем реализуйте подсчет функции потерь, сделайте шаг градиентного спуска. Запрещено использовать готовые оптимизаторы и loss-функции из библиотеки pytorch. Для подсчета градиента воспользуйтесь методом backward.\n",
        "3. Запустите обучение на 10 эпохах, после каждой проверяйте значение целевой метрики на тестовой выборке.\n",
        "4. Выведите на экран графики метрики и значения функции потерь на тестовой и обучающей выборке.\n",
        "\n",
        "В данном задании нет цели побить какой-то порог по метрике. Ваша задача - убедиться в том, что ваш рукописный цикл обучения работает. Для ускорения вычислений и обучения модели можете брать только срез данных, а не весь датасет."
      ]
    },
    {
      "cell_type": "markdown",
      "source": [
        "Возьмем часть данных, чтобы быстрее считал."
      ],
      "metadata": {
        "id": "iqQ_igC9kEVl"
      }
    },
    {
      "cell_type": "code",
      "source": [
        "X_train_short = X_st_train.values[:5000, :]\n",
        "y_train_short = y_train[:5000]\n",
        "X_test_short = X_st_test.values[:1000,:]\n",
        "y_test_short = y_test[:1000]"
      ],
      "metadata": {
        "id": "9bpyJ-i2kJ-0"
      },
      "execution_count": null,
      "outputs": []
    },
    {
      "cell_type": "code",
      "source": [
        "class MariaNet(nn.Module):\n",
        "  def __init__(self, n_feat, n_out):\n",
        "    super().__init__()\n",
        "    self.layer = nn.Linear(n_feat, n_out)\n",
        "\n",
        "  def forward(self, X):\n",
        "    return self.layer(X)"
      ],
      "metadata": {
        "id": "aEPyA4SF5Ywc"
      },
      "execution_count": null,
      "outputs": []
    },
    {
      "cell_type": "code",
      "source": [
        "model = MariaNet(X_train.shape[1], 1)"
      ],
      "metadata": {
        "id": "fQZexeXvioP6"
      },
      "execution_count": null,
      "outputs": []
    },
    {
      "cell_type": "code",
      "source": [
        "X_train_tensor = torch.tensor(X_train_short, dtype=torch.float32)\n",
        "y_train_tensor = torch.tensor(y_train_short, dtype=torch.float32)\n",
        "X_test_tensor = torch.tensor(X_test_short, dtype=torch.float32)\n",
        "y_test_tensor = torch.tensor(y_test_short, dtype=torch.float32)"
      ],
      "metadata": {
        "id": "X5yRHnZNfcKO"
      },
      "execution_count": null,
      "outputs": []
    },
    {
      "cell_type": "code",
      "source": [
        "set_random_seed(42)"
      ],
      "metadata": {
        "id": "1w-bNisvqrZU"
      },
      "execution_count": null,
      "outputs": []
    },
    {
      "cell_type": "code",
      "source": [
        "eta = 0.1\n",
        "epoches = 10\n",
        "\n",
        "rmse_list_train = []\n",
        "rmse_list_test = []\n",
        "\n",
        "weights = model.layer.weight\n",
        "bias = model.layer.bias\n",
        "\n",
        "for i in range(epoches):\n",
        "    model.train()\n",
        "    predictions_train = model(X_train_tensor)\n",
        "    train_loss = torch.mean((predictions_train - y_train_tensor)**2)\n",
        "    rmse_list_train.append((train_loss.item())**(1/2))\n",
        "    train_loss.backward()\n",
        "\n",
        "    with torch.no_grad():\n",
        "      weights -= eta * weights.grad\n",
        "      bias -= eta * bias.grad\n",
        "\n",
        "    model.zero_grad()\n",
        "\n",
        "    model.eval()\n",
        "    predictions = model(X_test_tensor)\n",
        "    test_loss = torch.mean((predictions - y_test_tensor)**2)\n",
        "    rmse_list_test.append((test_loss.item())**(1/2))\n",
        "    print(f\"In epoch {i+1} RMSE on Train equals {(train_loss.item())**(1/2)} and RMSE on Test equals {(test_loss.item())**(1/2)}\")"
      ],
      "metadata": {
        "colab": {
          "base_uri": "https://localhost:8080/"
        },
        "id": "jWaWGQ0SjlJY",
        "outputId": "e4829a3d-ccda-4412-8047-2b5a9af0d4de"
      },
      "execution_count": null,
      "outputs": [
        {
          "output_type": "stream",
          "name": "stdout",
          "text": [
            "In epoch 1 RMSE on Train equals 1998.5963199205587 and RMSE on Test equals 1593.4612483521523\n",
            "In epoch 2 RMSE on Train equals 1573.0236012215455 and RMSE on Test equals 1289.7550154971293\n",
            "In epoch 3 RMSE on Train equals 1259.225108945974 and RMSE on Test equals 1041.2455882259478\n",
            "In epoch 4 RMSE on Train equals 1014.1754655876862 and RMSE on Test equals 847.617322262824\n",
            "In epoch 5 RMSE on Train equals 820.278344527027 and RMSE on Test equals 687.8951137346448\n",
            "In epoch 6 RMSE on Train equals 665.9914836167202 and RMSE on Test equals 565.2809312633851\n",
            "In epoch 7 RMSE on Train equals 542.8331638266034 and RMSE on Test equals 461.01164234214303\n",
            "In epoch 8 RMSE on Train equals 444.37524613214 and RMSE on Test equals 383.4290596055547\n",
            "In epoch 9 RMSE on Train equals 365.6903360426688 and RMSE on Test equals 314.47900863968647\n",
            "In epoch 10 RMSE on Train equals 302.99207136903766 and RMSE on Test equals 266.26627004279004\n"
          ]
        }
      ]
    },
    {
      "cell_type": "markdown",
      "source": [
        "Теперь визуализируем, что у нас получилось"
      ],
      "metadata": {
        "id": "r5XX4fN5Kte1"
      }
    },
    {
      "cell_type": "code",
      "source": [
        "rmse_list_train, rmse_list_test"
      ],
      "metadata": {
        "colab": {
          "base_uri": "https://localhost:8080/"
        },
        "id": "tkyYpRGhPAiI",
        "outputId": "23e5eb2e-bd98-49b9-f541-11182961ada7"
      },
      "execution_count": null,
      "outputs": [
        {
          "output_type": "execute_result",
          "data": {
            "text/plain": [
              "([1998.5963199205587,\n",
              "  1573.0236012215455,\n",
              "  1259.225108945974,\n",
              "  1014.1754655876862,\n",
              "  820.278344527027,\n",
              "  665.9914836167202,\n",
              "  542.8331638266034,\n",
              "  444.37524613214,\n",
              "  365.6903360426688,\n",
              "  302.99207136903766],\n",
              " [1593.4612483521523,\n",
              "  1289.7550154971293,\n",
              "  1041.2455882259478,\n",
              "  847.617322262824,\n",
              "  687.8951137346448,\n",
              "  565.2809312633851,\n",
              "  461.01164234214303,\n",
              "  383.4290596055547,\n",
              "  314.47900863968647,\n",
              "  266.26627004279004])"
            ]
          },
          "metadata": {},
          "execution_count": 20
        }
      ]
    },
    {
      "cell_type": "code",
      "source": [
        "plt.plot(rmse_list_train, label='RMSE on trian')\n",
        "plt.plot(rmse_list_test, label='RMSE on test')\n",
        "plt.title('RMSE on train and test')\n",
        "plt.xlabel('Epoches')\n",
        "plt.ylabel('RMSE')\n",
        "plt.legend()\n",
        "plt.show()"
      ],
      "metadata": {
        "colab": {
          "base_uri": "https://localhost:8080/",
          "height": 472
        },
        "id": "ubJ2g6EolvRi",
        "outputId": "b495172d-4098-429d-8c08-49351351395f"
      },
      "execution_count": null,
      "outputs": [
        {
          "output_type": "display_data",
          "data": {
            "text/plain": [
              "<Figure size 640x480 with 1 Axes>"
            ],
            "image/png": "[encoded data removed]"
          },
          "metadata": {}
        }
      ]
    },
    {
      "cell_type": "code",
      "source": [
        "print(f\"The best RMSE on train {rmse_list_train[-1]}\")\n",
        "print(f\"The best RMSE on test {rmse_list_test[-1]}\")\n"
      ],
      "metadata": {
        "colab": {
          "base_uri": "https://localhost:8080/"
        },
        "id": "wAFTR4FtRNoE",
        "outputId": "3fcf0bd3-e088-49c7-a31d-977ce4813ca4"
      },
      "execution_count": null,
      "outputs": [
        {
          "output_type": "stream",
          "name": "stdout",
          "text": [
            "The best RMSE on train 302.99207136903766\n",
            "The best RMSE on test 266.26627004279004\n"
          ]
        }
      ]
    },
    {
      "cell_type": "markdown",
      "metadata": {
        "id": "_6ilBKYt6OdD"
      },
      "source": [
        "## Задание 2. (максимум 10 баллов)\n",
        "\n",
        "Реализуйте обучение и тестирование нейронной сети для предоставленного вам набора данных. Соотношение между полученным значением метрики на тестовой выборке и баллами за задание следующее:\n",
        "\n",
        "- $\\text{RMSE} \\le 9.00 $ &mdash; 4 балла\n",
        "- $\\text{RMSE} \\le 8.90 $ &mdash; 6 баллов\n",
        "- $\\text{RMSE} \\le 8.80 $ &mdash; 8 баллов\n",
        "- $\\text{RMSE} \\le 8.75 $ &mdash; 10 баллов\n",
        "\n",
        "Есть несколько правил, которых вам нужно придерживаться:\n",
        "\n",
        "- Весь пайплайн обучения должен быть написан на PyTorch. При этом вы можете пользоваться другими библиотеками (`numpy`, `sklearn` и пр.), но только для обработки данных. То есть как угодно трансформировать данные и считать метрики с помощью этих библиотек можно, а импортировать модели из `sklearn` и выбивать с их помощью требуемое качество &mdash; нельзя. Также нельзя пользоваться библиотеками, для которых сам PyTorch является зависимостью.\n",
        "\n",
        "- Мы никак не ограничиваем ваш выбор архитектуры модели, но скорее всего вам будет достаточно полносвязной нейронной сети.\n",
        "\n",
        "- Для обучения запрещается использовать какие-либо иные данные, кроме обучающей выборки.\n",
        "\n",
        "- Ансамблирование моделей запрещено.\n",
        "\n",
        "### Полезные советы:\n",
        "\n",
        "- Очень вряд ли, что у вас с первого раза получится выбить качество на 10 баллов, поэтому пробуйте разные архитектуры, оптимизаторы и значения гиперпараметров. В идеале при запуске каждого нового эксперимента вы должны менять что-то одно, чтобы точно знать, как этот фактор влияет на качество.\n",
        "\n",
        "- Не забудьте, что для улучшения качества модели вам поможет **нормировка таргета**.\n",
        "\n",
        "- Тот факт, что мы занимаемся глубинным обучением, не означает, что стоит забывать про приемы, использующиеся в классическом машинном обучении. Так что обязательно проводите исследовательский анализ данных, отрисовывайте нужные графики и не забывайте про масштабирование и подбор гиперпараметров.\n",
        "\n",
        "- Вы наверняка столкнетесь с тем, что ваша нейронная сеть будет сильно переобучаться. Для нейросетей существуют специальные методы регуляризации, например, dropout ([статья](https://jmlr.org/papers/volume15/srivastava14a/srivastava14a.pdf)) и weight decay ([блогпост](https://towardsdatascience.com/weight-decay-l2-regularization-90a9e17713cd)). Они, разумеется, реализованы в PyTorch. Попробуйте поэкспериментировать с ними.\n",
        "\n",
        "- Если вы чего-то не знаете, не гнушайтесь гуглить. В интернете очень много полезной информации, туториалов и советов по глубинному обучению в целом и по PyTorch в частности. Но не забывайте, что за скатанный код без ссылки на источник придется ответить по всей строгости!\n",
        "\n",
        "- Если вы сразу реализуете обучение на GPU, то у вас будет больше времени на эксперименты, так как любые вычисления будут работать быстрее. Google Colab предоставляет несколько GPU-часов (обычно около 8-10) в сутки бесплатно.\n",
        "\n",
        "- Чтобы отладить код, можете обучаться на небольшой части данных или даже на одном батче. Если лосс на обучающей выборке не падает, то что-то точно идет не так!\n",
        "\n",
        "- Пользуйтесь утилитами, которые вам предоставляет PyTorch (например, Dataset и Dataloader). Их специально разработали для упрощения разработки пайплайна обучения.\n",
        "\n",
        "- Скорее всего вы захотите отслеживать прогресс обучения. Для создания прогресс-баров есть удобная библиотека `tqdm`.\n",
        "\n",
        "- Быть может, вы захотите, чтобы графики рисовались прямо во время обучения. Можете воспользоваться функцией [clear_output](http://ipython.org/ipython-doc/dev/api/generated/IPython.display.html#IPython.display.clear_output), чтобы удалять старый график и рисовать новый на его месте.\n",
        "\n",
        "**ОБЯЗАТЕЛЬНО** рисуйте графики зависимости лосса/метрики на обучающей и тестовой выборках в зависимости от времени обучения. Если обучение занимает относительно небольшое число эпох, то лучше рисовать зависимость от номера шага обучения, если же эпох больше, то рисуйте зависимость по эпохам. Если проверяющий не увидит такого графика для вашей лучшей модели, то он в праве снизить баллы за задание.\n",
        "\n",
        "**ВАЖНО!** Ваше решение должно быть воспроизводимым. Если это не так, то проверяющий имеет право снизить баллы за задание. Чтобы зафиксировать random seed, воспользуйтесь функцией из предыдущего задания.\n",
        "\n"
      ]
    },
    {
      "cell_type": "markdown",
      "metadata": {
        "id": "TZW0gMe3vT8u"
      },
      "source": [
        "Вы можете придерживаться любой адекватной струкуры кода, но мы советуем воспользоваться сигнатурами функций, которые приведены ниже. Лучше всего, если вы проверите ваши предсказания ассертом: так вы убережете себя от разных косяков, например, что вектор предсказаний состоит из всего одного числа. В любом случае, внимательно следите за тем, для каких тензоров вы считаете метрику RMSE. При случайном или намеренном введении в заблуждение проверяющие очень сильно разозлятся."
      ]
    },
    {
      "cell_type": "markdown",
      "source": [
        "Теперь нужно весь датасет сделать в тензор"
      ],
      "metadata": {
        "id": "pvFpke2z7xtF"
      }
    },
    {
      "cell_type": "code",
      "source": [
        "X_train_tensor_orig = torch.tensor(X_st_train.values, dtype=torch.float32)\n",
        "y_train_tensor_orig = torch.tensor(y_train, dtype=torch.float32)\n",
        "X_test_tensor_orig = torch.tensor(X_st_test.values, dtype=torch.float32)\n",
        "y_test_tensor_orig = torch.tensor(y_test, dtype=torch.float32)"
      ],
      "metadata": {
        "id": "I5etdZRk7xgk"
      },
      "execution_count": null,
      "outputs": []
    },
    {
      "cell_type": "markdown",
      "source": [
        "Для первого эксперимента я просто добавлю пару слоев и возьму улучшенный стохастический ГС и посмотрю, что получится.\n"
      ],
      "metadata": {
        "id": "5mNXskx4BPLq"
      }
    },
    {
      "cell_type": "code",
      "source": [
        "class RandomDataset(torch.utils.data.Dataset):\n",
        "    \"\"\"\n",
        "    Our random dataset\n",
        "    \"\"\"\n",
        "\n",
        "    def __init__(self, x, y):\n",
        "        self.x = x\n",
        "        self.y = y\n",
        "\n",
        "    def __len__(self):\n",
        "        return len(self.x)\n",
        "\n",
        "    def __getitem__(self, idx):\n",
        "        return (self.x[idx], self.y[idx])"
      ],
      "metadata": {
        "id": "d6aFOYmNBeuh"
      },
      "execution_count": null,
      "outputs": []
    },
    {
      "cell_type": "code",
      "source": [
        "train_set = RandomDataset(X_train_tensor_orig, y_train_tensor_orig)\n",
        "test_set = RandomDataset(X_test_tensor_orig, y_test_tensor_orig)\n",
        "\n",
        "train_loader = torch.utils.data.DataLoader(train_set, batch_size=8192, num_workers=0, shuffle=True)\n",
        "test_loader = torch.utils.data.DataLoader(test_set, batch_size=8192, num_workers=0, shuffle=False)\n",
        "\n",
        "model = nn.Sequential(\n",
        "    nn.Linear(90, 75),\n",
        "    nn.ReLU(),\n",
        "    nn.Linear(75, 50),\n",
        "    nn.ReLU(),\n",
        "    nn.Linear(50, 25),\n",
        "    nn.ReLU(),\n",
        "    nn.Linear(25,1)\n",
        ")\n",
        "optimizer = torch.optim.AdamW(model.parameters(), lr=0.05, weight_decay = 0.5, eps = 0.005)"
      ],
      "metadata": {
        "id": "ZiyItE-cERY1"
      },
      "execution_count": null,
      "outputs": []
    },
    {
      "cell_type": "code",
      "source": [
        "epoches = 70\n",
        "\n",
        "rmse_train_list_1 = []\n",
        "rmse_test_list_1 = []\n",
        "\n",
        "for epoch in range(epoches):\n",
        "  train_loss = 0.0\n",
        "  model.train()\n",
        "  for X_train, y_train in train_loader:\n",
        "    optimizer.zero_grad()\n",
        "    pred_y = model(X_train)\n",
        "    criterion = nn.MSELoss()\n",
        "    loss = criterion(pred_y, y_train)\n",
        "    loss.backward()\n",
        "    optimizer.step()\n",
        "\n",
        "    train_loss += loss.item() * X_train.shape[0]\n",
        "\n",
        "  train_loss /= len(train_loader.dataset)\n",
        "  rmse_train_list_1.append(np.sqrt(train_loss))\n",
        "\n",
        "\n",
        "  test_loss = 0.0\n",
        "  model.eval()\n",
        "  for X_test, y_test in test_loader:\n",
        "    with torch.no_grad():\n",
        "      pred_test = model(X_test)\n",
        "      loss = criterion(pred_test, y_test)\n",
        "\n",
        "      test_loss += loss.item() * X_test.shape[0]\n",
        "\n",
        "\n",
        "  test_loss /= len(test_loader.dataset)\n",
        "  rmse_test_list_1.append(np.sqrt(test_loss))"
      ],
      "metadata": {
        "colab": {
          "base_uri": "https://localhost:8080/"
        },
        "id": "i8TWg_fIPT5_",
        "outputId": "ee240e6a-3dd7-47f4-fa3b-f7ecd1d24717"
      },
      "execution_count": null,
      "outputs": [
        {
          "output_type": "stream",
          "name": "stderr",
          "text": [
            "/usr/local/lib/python3.10/dist-packages/torch/nn/modules/loss.py:608: UserWarning: Using a target size (torch.Size([8192])) that is different to the input size (torch.Size([8192, 1])). This will likely lead to incorrect results due to broadcasting. Please ensure they have the same size.\n",
            "  return F.mse_loss(input, target, reduction=self.reduction)\n",
            "/usr/local/lib/python3.10/dist-packages/torch/nn/modules/loss.py:608: UserWarning: Using a target size (torch.Size([4963])) that is different to the input size (torch.Size([4963, 1])). This will likely lead to incorrect results due to broadcasting. Please ensure they have the same size.\n",
            "  return F.mse_loss(input, target, reduction=self.reduction)\n",
            "/usr/local/lib/python3.10/dist-packages/torch/nn/modules/loss.py:608: UserWarning: Using a target size (torch.Size([2478])) that is different to the input size (torch.Size([2478, 1])). This will likely lead to incorrect results due to broadcasting. Please ensure they have the same size.\n",
            "  return F.mse_loss(input, target, reduction=self.reduction)\n"
          ]
        }
      ]
    },
    {
      "cell_type": "code",
      "source": [
        "rmse_test_list_1"
      ],
      "metadata": {
        "colab": {
          "base_uri": "https://localhost:8080/"
        },
        "id": "OQ3jzmhr0-Cl",
        "outputId": "91e70dee-a88a-4a6b-ea5b-ba58ecfdba8d"
      },
      "execution_count": null,
      "outputs": [
        {
          "output_type": "execute_result",
          "data": {
            "text/plain": [
              "[357.06282090899504,\n",
              " 162.50287224951202,\n",
              " 99.31334801320071,\n",
              " 84.70378834232444,\n",
              " 80.04271932214431,\n",
              " 97.06625192284383,\n",
              " 103.19282119487505,\n",
              " 102.93777590456766,\n",
              " 61.347968676272615,\n",
              " 74.19564469333231,\n",
              " 65.31840500281487,\n",
              " 116.69677669271913,\n",
              " 62.991648164284406,\n",
              " 48.369978274576525,\n",
              " 46.60122786259609,\n",
              " 52.4781396655436,\n",
              " 64.59202323560692,\n",
              " 64.03458192701676,\n",
              " 118.5082068309237,\n",
              " 41.95036826486711,\n",
              " 37.56925324463423,\n",
              " 46.892572326473854,\n",
              " 51.18569335628025,\n",
              " 45.04447256681911,\n",
              " 49.251228677310785,\n",
              " 49.38733012211836,\n",
              " 40.986765694998276,\n",
              " 44.91587042834259,\n",
              " 65.22127937206432,\n",
              " 39.960350486329695,\n",
              " 41.84692934476891,\n",
              " 37.220130502097504,\n",
              " 34.828177730121254,\n",
              " 46.17050367465995,\n",
              " 72.45547637451848,\n",
              " 47.28586594273493,\n",
              " 43.65245500077006,\n",
              " 59.5742320409022,\n",
              " 57.13639236146656,\n",
              " 65.39589825596201,\n",
              " 114.38747475754624,\n",
              " 103.67440491312465,\n",
              " 81.56830711015803,\n",
              " 76.74266264133384,\n",
              " 53.01012961456511,\n",
              " 33.99928110999475,\n",
              " 43.52355912792091,\n",
              " 49.153659033911524,\n",
              " 51.58007586444168,\n",
              " 85.17514460518312,\n",
              " 106.38487834891666,\n",
              " 131.4153271802265,\n",
              " 141.9990831134037,\n",
              " 61.43167705660489,\n",
              " 62.37462187509959,\n",
              " 111.43550028607021,\n",
              " 100.3015651664243,\n",
              " 81.7649348999607,\n",
              " 108.32828074672443,\n",
              " 114.3589685668546,\n",
              " 97.75816824260122,\n",
              " 212.06247579604715,\n",
              " 91.80672988252329,\n",
              " 239.4350455145253,\n",
              " 360.97325014917885,\n",
              " 26.61977210593137,\n",
              " 31.652091100522515,\n",
              " 89.86442033869615,\n",
              " 82.15596797386317,\n",
              " 88.9243661959038]"
            ]
          },
          "metadata": {},
          "execution_count": 28
        }
      ]
    },
    {
      "cell_type": "markdown",
      "source": [
        "У нас получаются очень большие значения rmse, это может быть связано с тем, что у меня большие гиперпараметры. Перейдем к другой попытке."
      ],
      "metadata": {
        "id": "nZKGBFHR23uM"
      }
    },
    {
      "cell_type": "code",
      "source": [
        "y_st_train = scaler.fit_transform(y_train.reshape(-1,1))\n",
        "y_st_test = scaler.transform(y_test.reshape(-1,1))\n",
        "\n",
        "X_train_tensor_orig_1 = torch.tensor(X_st_train.values, dtype=torch.float32)\n",
        "y_train_tensor_orig_1 = torch.tensor(y_st_train, dtype=torch.float32)\n",
        "X_test_tensor_orig_1 = torch.tensor(X_st_test.values, dtype=torch.float32)\n",
        "y_test_tensor_orig_1 = torch.tensor(y_st_test, dtype=torch.float32)"
      ],
      "metadata": {
        "id": "7IiYMyt24uBn"
      },
      "execution_count": null,
      "outputs": []
    },
    {
      "cell_type": "code",
      "source": [
        "train_set = RandomDataset(X_train_tensor_orig_1, y_train_tensor_orig_1)\n",
        "test_set = RandomDataset(X_test_tensor_orig_1, y_test_tensor_orig_1)\n",
        "\n",
        "train_loader = torch.utils.data.DataLoader(train_set, batch_size=8192, num_workers=0, shuffle=True)\n",
        "test_loader = torch.utils.data.DataLoader(test_set, batch_size=8192, num_workers=0, shuffle=False)\n",
        "\n",
        "model = nn.Sequential(\n",
        "    nn.Linear(90, 75),\n",
        "    nn.Dropout(0.1),\n",
        "    nn.SiLU(),\n",
        "    nn.Linear(75, 50),\n",
        "    nn.SiLU(),\n",
        "    nn.Linear(50, 25),\n",
        "    nn.SiLU(),\n",
        "    nn.Linear(25,1)\n",
        ")\n",
        "optimizer = torch.optim.AdamW(model.parameters(), lr=0.0005, weight_decay = 0.5, eps = 0.00005)"
      ],
      "metadata": {
        "id": "5GFpIUjR3OaZ"
      },
      "execution_count": null,
      "outputs": []
    },
    {
      "cell_type": "code",
      "source": [
        "set_random_seed(42)\n",
        "epoches = 70\n",
        "\n",
        "rmse_train_list_2 = []\n",
        "rmse_test_list_2 = []\n",
        "\n",
        "for epoch in range(epoches):\n",
        "  train_loss = 0.0\n",
        "  model.train()\n",
        "  for X_train, y_train in train_loader:\n",
        "    optimizer.zero_grad()\n",
        "    pred_y = model(X_train)\n",
        "    criterion = nn.MSELoss()\n",
        "    loss = criterion(pred_y, y_train)\n",
        "    loss_inverse = criterion(torch.tensor(scaler.inverse_transform(pred_y.detach())), torch.tensor(scaler.inverse_transform(y_train.detach())))\n",
        "    loss.backward()\n",
        "    optimizer.step()\n",
        "\n",
        "    train_loss += loss_inverse.item() * X_train.shape[0]\n",
        "\n",
        "  train_loss /= len(train_loader.dataset)\n",
        "  rmse_train_list_2.append(np.sqrt(train_loss))\n",
        "\n",
        "\n",
        "  test_loss = 0.0\n",
        "  model.eval()\n",
        "  for X_test, y_test in test_loader:\n",
        "    with torch.no_grad():\n",
        "      pred_test = model(X_test)\n",
        "      loss = criterion(torch.tensor(scaler.inverse_transform(pred_test)), torch.tensor(scaler.inverse_transform(y_test)))\n",
        "\n",
        "      test_loss += loss.item() * X_test.shape[0]\n",
        "\n",
        "\n",
        "  test_loss /= len(test_loader.dataset)\n",
        "  rmse_test_list_2.append(np.sqrt(test_loss))"
      ],
      "metadata": {
        "id": "gDDoPrmU5jSV"
      },
      "execution_count": null,
      "outputs": []
    },
    {
      "cell_type": "code",
      "source": [
        "np.min(rmse_test_list_2), np.mean(rmse_test_list_2)"
      ],
      "metadata": {
        "colab": {
          "base_uri": "https://localhost:8080/"
        },
        "id": "ohYg2u4RCE45",
        "outputId": "3aa55aa3-1ea5-4d9f-8b39-619dee34843c"
      },
      "execution_count": null,
      "outputs": [
        {
          "output_type": "execute_result",
          "data": {
            "text/plain": [
              "(8.768392521528545, 8.793267698678234)"
            ]
          },
          "metadata": {},
          "execution_count": 110
        }
      ]
    },
    {
      "cell_type": "code",
      "source": [
        "plt.plot(rmse_train_list_2, label='RMSE on trian')\n",
        "plt.plot(rmse_test_list_2, label='RMSE on test')\n",
        "plt.title('RMSE on train and test')\n",
        "plt.legend()\n",
        "plt.xlabel('Epoches')\n",
        "plt.ylabel('RMSE')\n",
        "plt.show()"
      ],
      "metadata": {
        "colab": {
          "base_uri": "https://localhost:8080/",
          "height": 472
        },
        "id": "AIBjSBlXGxSS",
        "outputId": "19e01db1-5614-4232-9b17-83e0f5d77efd"
      },
      "execution_count": null,
      "outputs": [
        {
          "output_type": "display_data",
          "data": {
            "text/plain": [
              "<Figure size 640x480 with 1 Axes>"
            ],
            "image/png": "[encoded data removed]"
          },
          "metadata": {}
        }
      ]
    },
    {
      "cell_type": "markdown",
      "source": [
        "Почти получили тот результат, который максимальный. Нормировка таргета, изменение ReLU на SiLU, и маленькое уменьшение гиперпараметров дали свои плады. Сделаю 3-ую попытку и напишу отчет."
      ],
      "metadata": {
        "id": "5_Bxy8QQGvfl"
      }
    },
    {
      "cell_type": "code",
      "source": [
        "model = nn.Sequential(\n",
        "    nn.Linear(90, 75),\n",
        "    nn.Dropout(0.1),\n",
        "    nn.SiLU(),\n",
        "    nn.Linear(75, 50),\n",
        "    nn.SiLU(),\n",
        "    nn.Linear(50, 25),\n",
        "    nn.SiLU(),\n",
        "    nn.Linear(25,1)\n",
        ")\n",
        "optimizer = torch.optim.AdamW(model.parameters(), lr=0.0005, weight_decay = 0.5, eps = 0.005)"
      ],
      "metadata": {
        "id": "veBpC2ujDUfR"
      },
      "execution_count": null,
      "outputs": []
    },
    {
      "cell_type": "code",
      "source": [
        "set_random_seed(42)\n",
        "epoches = 99\n",
        "\n",
        "rmse_train_list_3 = []\n",
        "rmse_test_list_3 = []\n",
        "\n",
        "for epoch in range(epoches):\n",
        "  train_loss = 0.0\n",
        "  model.train()\n",
        "  for X_train, y_train in train_loader:\n",
        "    optimizer.zero_grad()\n",
        "    pred_y = model(X_train)\n",
        "    criterion = nn.MSELoss()\n",
        "    loss = criterion(pred_y, y_train)\n",
        "    loss_inverse = criterion(torch.tensor(scaler.inverse_transform(pred_y.detach())), torch.tensor(scaler.inverse_transform(y_train.detach())))\n",
        "    loss.backward()\n",
        "    optimizer.step()\n",
        "\n",
        "    train_loss += loss_inverse.item() * X_train.shape[0]\n",
        "\n",
        "  train_loss /= len(train_loader.dataset)\n",
        "  rmse_train_list_3.append(np.sqrt(train_loss))\n",
        "\n",
        "\n",
        "  test_loss = 0.0\n",
        "  model.eval()\n",
        "  for X_test, y_test in test_loader:\n",
        "    with torch.no_grad():\n",
        "      pred_test = model(X_test)\n",
        "      loss = criterion(torch.tensor(scaler.inverse_transform(pred_test)), torch.tensor(scaler.inverse_transform(y_test)))\n",
        "\n",
        "      test_loss += loss.item() * X_test.shape[0]\n",
        "\n",
        "\n",
        "  test_loss /= len(test_loader.dataset)\n",
        "  rmse_test_list_3.append(np.sqrt(test_loss))"
      ],
      "metadata": {
        "id": "SRoWCh_oDdAA"
      },
      "execution_count": null,
      "outputs": []
    },
    {
      "cell_type": "code",
      "source": [
        "min(rmse_test_list_3)"
      ],
      "metadata": {
        "colab": {
          "base_uri": "https://localhost:8080/"
        },
        "id": "i8M4HloxGkz-",
        "outputId": "47cde4a4-10ef-4934-98b4-62cb69566682"
      },
      "execution_count": null,
      "outputs": [
        {
          "output_type": "execute_result",
          "data": {
            "text/plain": [
              "8.968627523510605"
            ]
          },
          "metadata": {},
          "execution_count": 104
        }
      ]
    },
    {
      "cell_type": "markdown",
      "source": [
        "Такая себе попытка вышла, вторая лучше (в разы)"
      ],
      "metadata": {
        "id": "jvo8RXFBI9Y7"
      }
    },
    {
      "cell_type": "markdown",
      "metadata": {
        "id": "bine9EES6TIn"
      },
      "source": [
        "## Задание 3. (0 баллов, но при невыполнении максимум за все задание &mdash; 0 баллов)\n",
        "\n",
        "Напишите небольшой отчет о том, как вы добились полученного качества: какие средства использовали и какие эксперименты проводили. Подробно расскажите об архитектурах и значениях гиперпараметров, а также какие метрики на тесте они показывали. Чтобы отчет был зачтен, необходимо привести хотя бы 3 эксперимента."
      ]
    },
    {
      "cell_type": "markdown",
      "source": [
        "1. Нужно отметить, что на первой попытке я попробовал просто понять как работают данные и насколько сильные методы нужны, чтобы получить хороший результат. Там я использовал AdamW (по наставлению Фила), ReLU (база) и больше ничего интересного. Как оказалось, тяжело выбить хорошее качество.\n",
        "\n",
        "2. Для второй попытки я просто использовал все что можно: и дропаут, и нормировал таргет (возвращал обратно потом кнш), и даже ReLU поменял, потому что он для меня очень странный и я не понимаю как можно занулить часть и все равно получить хороший градиент, поэтому я взял SiLU, она частично сигмоидная функция и частично линейная (мне показалось, что он будет лучше). И я чуть-чуть поменял гиперпараметры для AdamW. В итоге получил значение RMSE меньше чем 8.8 (этого мне хватит). Можно сказать, что идеи были удачные.\n",
        "\n",
        "3. Для 3 эксперимента я ничего не стал придумывать, просто увеличил количество эпох, и уменьшил лернинг рейт (очень плохо все вышло)."
      ],
      "metadata": {
        "id": "aHj34zeAVjcH"
      }
    }
  ],
  "metadata": {
    "colab": {
      "provenance": [],
      "gpuType": "V28"
    },
    "kernelspec": {
      "display_name": "Python 3",
      "name": "python3"
    },
    "language_info": {
      "codemirror_mode": {
        "name": "ipython",
        "version": 3
      },
      "file_extension": ".py",
      "mimetype": "text/x-python",
      "name": "python",
      "nbconvert_exporter": "python",
      "pygments_lexer": "ipython3",
      "version": "3.9.7"
    },
    "accelerator": "TPU"
  },
  "nbformat": 4,
  "nbformat_minor": 0
}