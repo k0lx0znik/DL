{
  "cells": [
    {
      "cell_type": "markdown",
      "metadata": {
        "id": "Ffq6A2-ifzAA"
      },
      "source": [
        "# Интеллектуальный анализ данных – весна 2024\n",
        "# Домашнее задание 6: классификация текстов"
      ]
    },
    {
      "cell_type": "markdown",
      "metadata": {
        "id": "EPcxtekTA1Sm"
      },
      "source": [
        "Правила:\n",
        "\n",
        "\n",
        "\n",
        "*   Домашнее задание оценивается в 10 баллов.\n",
        "*   Можно использовать без доказательства любые результаты, встречавшиеся на лекциях или семинарах по курсу, если получение этих результатов не является вопросом задания.\n",
        "*  Можно использовать любые свободные источники с *обязательным* указанием ссылки на них.\n",
        "*  Плагиат не допускается. При обнаружении случаев списывания, 0 за работу выставляется всем участникам нарушения, даже если можно установить, кто у кого списал.\n",
        "*  Старайтесь сделать код как можно более оптимальным. В частности, будет штрафоваться использование циклов в тех случаях, когда операцию можно совершить при помощи инструментов библиотек, о которых рассказывалось в курсе."
      ]
    },
    {
      "cell_type": "markdown",
      "metadata": {
        "id": "itRtFtrOf0_b"
      },
      "source": [
        "В этом домашнем задании вам предстоит построить классификатор текстов.\n",
        "\n",
        "Будем предсказывать эмоциональную окраску твиттов о коронавирусе.\n",
        "\n"
      ]
    },
    {
      "cell_type": "code",
      "execution_count": null,
      "metadata": {
        "id": "tNGRVO7_g9mz"
      },
      "outputs": [],
      "source": [
        "import numpy as np\n",
        "import pandas as pd\n",
        "from typing import  List\n",
        "import matplotlib.pyplot as plt\n",
        "import seaborn as sns\n",
        "from string import punctuation"
      ]
    },
    {
      "cell_type": "code",
      "execution_count": null,
      "metadata": {
        "colab": {
          "base_uri": "https://localhost:8080/",
          "height": 175
        },
        "id": "zOy8iHJQg_Ss",
        "outputId": "5eadc586-2c53-4257-b771-27f20ec366cf"
      },
      "outputs": [
        {
          "output_type": "execute_result",
          "data": {
            "text/plain": [
              "       UserName  ScreenName               Location     TweetAt  \\\n",
              "26735     36583       81535                    NaN  07-04-2020   \n",
              "19567     27623       72575                    NaN  26-03-2020   \n",
              "18187     25928       70880                    NaN  25-03-2020   \n",
              "23917     33034       77986  Bucure?ti, RomÃÂ¢nia  05-04-2020   \n",
              "\n",
              "                                           OriginalTweet           Sentiment  \n",
              "26735  Govt of Guinea announces it will cover water&a...            Positive  \n",
              "19567  @Direct773 \\r\\r\\n@Direct7E\\r\\r\\n#Pennsylvania ...  Extremely Negative  \n",
              "18187  @Tejasvi_Surya Precisely. And what is the hurr...  Extremely Negative  \n",
              "23917  Online grocery shopping is recommended these d...  Extremely Positive  "
            ],
            "text/html": [
              "\n",
              "  <div id=\"df-f4ac8cc0-967a-4fed-8da2-054aeffdcaa1\" class=\"colab-df-container\">\n",
              "    <div>\n",
              "<style scoped>\n",
              "    .dataframe tbody tr th:only-of-type {\n",
              "        vertical-align: middle;\n",
              "    }\n",
              "\n",
              "    .dataframe tbody tr th {\n",
              "        vertical-align: top;\n",
              "    }\n",
              "\n",
              "    .dataframe thead th {\n",
              "        text-align: right;\n",
              "    }\n",
              "</style>\n",
              "<table border=\"1\" class=\"dataframe\">\n",
              "  <thead>\n",
              "    <tr style=\"text-align: right;\">\n",
              "      <th></th>\n",
              "      <th>UserName</th>\n",
              "      <th>ScreenName</th>\n",
              "      <th>Location</th>\n",
              "      <th>TweetAt</th>\n",
              "      <th>OriginalTweet</th>\n",
              "      <th>Sentiment</th>\n",
              "    </tr>\n",
              "  </thead>\n",
              "  <tbody>\n",
              "    <tr>\n",
              "      <th>26735</th>\n",
              "      <td>36583</td>\n",
              "      <td>81535</td>\n",
              "      <td>NaN</td>\n",
              "      <td>07-04-2020</td>\n",
              "      <td>Govt of Guinea announces it will cover water&amp;a...</td>\n",
              "      <td>Positive</td>\n",
              "    </tr>\n",
              "    <tr>\n",
              "      <th>19567</th>\n",
              "      <td>27623</td>\n",
              "      <td>72575</td>\n",
              "      <td>NaN</td>\n",
              "      <td>26-03-2020</td>\n",
              "      <td>@Direct773 \\r\\r\\n@Direct7E\\r\\r\\n#Pennsylvania ...</td>\n",
              "      <td>Extremely Negative</td>\n",
              "    </tr>\n",
              "    <tr>\n",
              "      <th>18187</th>\n",
              "      <td>25928</td>\n",
              "      <td>70880</td>\n",
              "      <td>NaN</td>\n",
              "      <td>25-03-2020</td>\n",
              "      <td>@Tejasvi_Surya Precisely. And what is the hurr...</td>\n",
              "      <td>Extremely Negative</td>\n",
              "    </tr>\n",
              "    <tr>\n",
              "      <th>23917</th>\n",
              "      <td>33034</td>\n",
              "      <td>77986</td>\n",
              "      <td>Bucure?ti, RomÃÂ¢nia</td>\n",
              "      <td>05-04-2020</td>\n",
              "      <td>Online grocery shopping is recommended these d...</td>\n",
              "      <td>Extremely Positive</td>\n",
              "    </tr>\n",
              "  </tbody>\n",
              "</table>\n",
              "</div>\n",
              "    <div class=\"colab-df-buttons\">\n",
              "\n",
              "  <div class=\"colab-df-container\">\n",
              "    <button class=\"colab-df-convert\" onclick=\"convertToInteractive('df-f4ac8cc0-967a-4fed-8da2-054aeffdcaa1')\"\n",
              "            title=\"Convert this dataframe to an interactive table.\"\n",
              "            style=\"display:none;\">\n",
              "\n",
              "  <svg xmlns=\"http://www.w3.org/2000/svg\" height=\"24px\" viewBox=\"0 -960 960 960\">\n",
              "    <path d=\"M120-120v-720h720v720H120Zm60-500h600v-160H180v160Zm220 220h160v-160H400v160Zm0 220h160v-160H400v160ZM180-400h160v-160H180v160Zm440 0h160v-160H620v160ZM180-180h160v-160H180v160Zm440 0h160v-160H620v160Z\"/>\n",
              "  </svg>\n",
              "    </button>\n",
              "\n",
              "  <style>\n",
              "    .colab-df-container {\n",
              "      display:flex;\n",
              "      gap: 12px;\n",
              "    }\n",
              "\n",
              "    .colab-df-convert {\n",
              "      background-color: #E8F0FE;\n",
              "      border: none;\n",
              "      border-radius: 50%;\n",
              "      cursor: pointer;\n",
              "      display: none;\n",
              "      fill: #1967D2;\n",
              "      height: 32px;\n",
              "      padding: 0 0 0 0;\n",
              "      width: 32px;\n",
              "    }\n",
              "\n",
              "    .colab-df-convert:hover {\n",
              "      background-color: #E2EBFA;\n",
              "      box-shadow: 0px 1px 2px rgba(60, 64, 67, 0.3), 0px 1px 3px 1px rgba(60, 64, 67, 0.15);\n",
              "      fill: #174EA6;\n",
              "    }\n",
              "\n",
              "    .colab-df-buttons div {\n",
              "      margin-bottom: 4px;\n",
              "    }\n",
              "\n",
              "    [theme=dark] .colab-df-convert {\n",
              "      background-color: #3B4455;\n",
              "      fill: #D2E3FC;\n",
              "    }\n",
              "\n",
              "    [theme=dark] .colab-df-convert:hover {\n",
              "      background-color: #434B5C;\n",
              "      box-shadow: 0px 1px 3px 1px rgba(0, 0, 0, 0.15);\n",
              "      filter: drop-shadow(0px 1px 2px rgba(0, 0, 0, 0.3));\n",
              "      fill: #FFFFFF;\n",
              "    }\n",
              "  </style>\n",
              "\n",
              "    <script>\n",
              "      const buttonEl =\n",
              "        document.querySelector('#df-f4ac8cc0-967a-4fed-8da2-054aeffdcaa1 button.colab-df-convert');\n",
              "      buttonEl.style.display =\n",
              "        google.colab.kernel.accessAllowed ? 'block' : 'none';\n",
              "\n",
              "      async function convertToInteractive(key) {\n",
              "        const element = document.querySelector('#df-f4ac8cc0-967a-4fed-8da2-054aeffdcaa1');\n",
              "        const dataTable =\n",
              "          await google.colab.kernel.invokeFunction('convertToInteractive',\n",
              "                                                    [key], {});\n",
              "        if (!dataTable) return;\n",
              "\n",
              "        const docLinkHtml = 'Like what you see? Visit the ' +\n",
              "          '<a target=\"_blank\" href=https://colab.research.google.com/notebooks/data_table.ipynb>data table notebook</a>'\n",
              "          + ' to learn more about interactive tables.';\n",
              "        element.innerHTML = '';\n",
              "        dataTable['output_type'] = 'display_data';\n",
              "        await google.colab.output.renderOutput(dataTable, element);\n",
              "        const docLink = document.createElement('div');\n",
              "        docLink.innerHTML = docLinkHtml;\n",
              "        element.appendChild(docLink);\n",
              "      }\n",
              "    </script>\n",
              "  </div>\n",
              "\n",
              "\n",
              "<div id=\"df-4db275d2-92f7-46c7-971b-4a0f3987a701\">\n",
              "  <button class=\"colab-df-quickchart\" onclick=\"quickchart('df-4db275d2-92f7-46c7-971b-4a0f3987a701')\"\n",
              "            title=\"Suggest charts\"\n",
              "            style=\"display:none;\">\n",
              "\n",
              "<svg xmlns=\"http://www.w3.org/2000/svg\" height=\"24px\"viewBox=\"0 0 24 24\"\n",
              "     width=\"24px\">\n",
              "    <g>\n",
              "        <path d=\"M19 3H5c-1.1 0-2 .9-2 2v14c0 1.1.9 2 2 2h14c1.1 0 2-.9 2-2V5c0-1.1-.9-2-2-2zM9 17H7v-7h2v7zm4 0h-2V7h2v10zm4 0h-2v-4h2v4z\"/>\n",
              "    </g>\n",
              "</svg>\n",
              "  </button>\n",
              "\n",
              "<style>\n",
              "  .colab-df-quickchart {\n",
              "      --bg-color: #E8F0FE;\n",
              "      --fill-color: #1967D2;\n",
              "      --hover-bg-color: #E2EBFA;\n",
              "      --hover-fill-color: #174EA6;\n",
              "      --disabled-fill-color: #AAA;\n",
              "      --disabled-bg-color: #DDD;\n",
              "  }\n",
              "\n",
              "  [theme=dark] .colab-df-quickchart {\n",
              "      --bg-color: #3B4455;\n",
              "      --fill-color: #D2E3FC;\n",
              "      --hover-bg-color: #434B5C;\n",
              "      --hover-fill-color: #FFFFFF;\n",
              "      --disabled-bg-color: #3B4455;\n",
              "      --disabled-fill-color: #666;\n",
              "  }\n",
              "\n",
              "  .colab-df-quickchart {\n",
              "    background-color: var(--bg-color);\n",
              "    border: none;\n",
              "    border-radius: 50%;\n",
              "    cursor: pointer;\n",
              "    display: none;\n",
              "    fill: var(--fill-color);\n",
              "    height: 32px;\n",
              "    padding: 0;\n",
              "    width: 32px;\n",
              "  }\n",
              "\n",
              "  .colab-df-quickchart:hover {\n",
              "    background-color: var(--hover-bg-color);\n",
              "    box-shadow: 0 1px 2px rgba(60, 64, 67, 0.3), 0 1px 3px 1px rgba(60, 64, 67, 0.15);\n",
              "    fill: var(--button-hover-fill-color);\n",
              "  }\n",
              "\n",
              "  .colab-df-quickchart-complete:disabled,\n",
              "  .colab-df-quickchart-complete:disabled:hover {\n",
              "    background-color: var(--disabled-bg-color);\n",
              "    fill: var(--disabled-fill-color);\n",
              "    box-shadow: none;\n",
              "  }\n",
              "\n",
              "  .colab-df-spinner {\n",
              "    border: 2px solid var(--fill-color);\n",
              "    border-color: transparent;\n",
              "    border-bottom-color: var(--fill-color);\n",
              "    animation:\n",
              "      spin 1s steps(1) infinite;\n",
              "  }\n",
              "\n",
              "  @keyframes spin {\n",
              "    0% {\n",
              "      border-color: transparent;\n",
              "      border-bottom-color: var(--fill-color);\n",
              "      border-left-color: var(--fill-color);\n",
              "    }\n",
              "    20% {\n",
              "      border-color: transparent;\n",
              "      border-left-color: var(--fill-color);\n",
              "      border-top-color: var(--fill-color);\n",
              "    }\n",
              "    30% {\n",
              "      border-color: transparent;\n",
              "      border-left-color: var(--fill-color);\n",
              "      border-top-color: var(--fill-color);\n",
              "      border-right-color: var(--fill-color);\n",
              "    }\n",
              "    40% {\n",
              "      border-color: transparent;\n",
              "      border-right-color: var(--fill-color);\n",
              "      border-top-color: var(--fill-color);\n",
              "    }\n",
              "    60% {\n",
              "      border-color: transparent;\n",
              "      border-right-color: var(--fill-color);\n",
              "    }\n",
              "    80% {\n",
              "      border-color: transparent;\n",
              "      border-right-color: var(--fill-color);\n",
              "      border-bottom-color: var(--fill-color);\n",
              "    }\n",
              "    90% {\n",
              "      border-color: transparent;\n",
              "      border-bottom-color: var(--fill-color);\n",
              "    }\n",
              "  }\n",
              "</style>\n",
              "\n",
              "  <script>\n",
              "    async function quickchart(key) {\n",
              "      const quickchartButtonEl =\n",
              "        document.querySelector('#' + key + ' button');\n",
              "      quickchartButtonEl.disabled = true;  // To prevent multiple clicks.\n",
              "      quickchartButtonEl.classList.add('colab-df-spinner');\n",
              "      try {\n",
              "        const charts = await google.colab.kernel.invokeFunction(\n",
              "            'suggestCharts', [key], {});\n",
              "      } catch (error) {\n",
              "        console.error('Error during call to suggestCharts:', error);\n",
              "      }\n",
              "      quickchartButtonEl.classList.remove('colab-df-spinner');\n",
              "      quickchartButtonEl.classList.add('colab-df-quickchart-complete');\n",
              "    }\n",
              "    (() => {\n",
              "      let quickchartButtonEl =\n",
              "        document.querySelector('#df-4db275d2-92f7-46c7-971b-4a0f3987a701 button');\n",
              "      quickchartButtonEl.style.display =\n",
              "        google.colab.kernel.accessAllowed ? 'block' : 'none';\n",
              "    })();\n",
              "  </script>\n",
              "</div>\n",
              "    </div>\n",
              "  </div>\n"
            ],
            "application/vnd.google.colaboratory.intrinsic+json": {
              "type": "dataframe",
              "summary": "{\n  \"name\": \"df\",\n  \"rows\": 4,\n  \"fields\": [\n    {\n      \"column\": \"UserName\",\n      \"properties\": {\n        \"dtype\": \"number\",\n        \"std\": 4907,\n        \"min\": 25928,\n        \"max\": 36583,\n        \"num_unique_values\": 4,\n        \"samples\": [\n          27623,\n          33034,\n          36583\n        ],\n        \"semantic_type\": \"\",\n        \"description\": \"\"\n      }\n    },\n    {\n      \"column\": \"ScreenName\",\n      \"properties\": {\n        \"dtype\": \"number\",\n        \"std\": 4907,\n        \"min\": 70880,\n        \"max\": 81535,\n        \"num_unique_values\": 4,\n        \"samples\": [\n          72575,\n          77986,\n          81535\n        ],\n        \"semantic_type\": \"\",\n        \"description\": \"\"\n      }\n    },\n    {\n      \"column\": \"Location\",\n      \"properties\": {\n        \"dtype\": \"category\",\n        \"num_unique_values\": 1,\n        \"samples\": [\n          \"Bucure?ti, Rom\\u00c3\\u0083\\u00c2\\u00a2nia\"\n        ],\n        \"semantic_type\": \"\",\n        \"description\": \"\"\n      }\n    },\n    {\n      \"column\": \"TweetAt\",\n      \"properties\": {\n        \"dtype\": \"string\",\n        \"num_unique_values\": 4,\n        \"samples\": [\n          \"26-03-2020\"\n        ],\n        \"semantic_type\": \"\",\n        \"description\": \"\"\n      }\n    },\n    {\n      \"column\": \"OriginalTweet\",\n      \"properties\": {\n        \"dtype\": \"string\",\n        \"num_unique_values\": 4,\n        \"samples\": [\n          \"@Direct773 \\r\\r\\n@Direct7E\\r\\r\\n#Pennsylvania ya'll \\r\\r\\n#CoronaVirus \\r\\r\\nterrorist nutcase intentionally coughs on food in grocery store \\r\\r\\n#COVID19  https://t.co/o5MPeklxJC\"\n        ],\n        \"semantic_type\": \"\",\n        \"description\": \"\"\n      }\n    },\n    {\n      \"column\": \"Sentiment\",\n      \"properties\": {\n        \"dtype\": \"string\",\n        \"num_unique_values\": 3,\n        \"samples\": [\n          \"Positive\"\n        ],\n        \"semantic_type\": \"\",\n        \"description\": \"\"\n      }\n    }\n  ]\n}"
            }
          },
          "metadata": {},
          "execution_count": 3
        }
      ],
      "source": [
        "df = pd.read_csv('/content/tweets_coronavirus.csv', encoding='latin-1')\n",
        "df.sample(4)"
      ]
    },
    {
      "cell_type": "markdown",
      "metadata": {
        "id": "m2OiDog9ZBlS"
      },
      "source": [
        "Для каждого твитта указано:\n",
        "\n",
        "\n",
        "*   UserName - имя пользователя, заменено на целое число для анонимности\n",
        "*   ScreenName - отображающееся имя пользователя, заменено на целое число для анонимности\n",
        "*   Location - местоположение\n",
        "*   TweetAt - дата создания твитта\n",
        "*   OriginalTweet - текст твитта\n",
        "*   Sentiment - эмоциональная окраска твитта (целевая переменная)\n",
        "\n"
      ]
    },
    {
      "cell_type": "markdown",
      "metadata": {
        "id": "pZTMseDkhTC7"
      },
      "source": [
        "## Задание 1 Подготовка (0.5 балла)"
      ]
    },
    {
      "cell_type": "markdown",
      "metadata": {
        "id": "Xx2-odn9hdAW"
      },
      "source": [
        "Целевая переменная находится в колонке `Sentiment`.  Преобразуйте ее таким образом, чтобы она стала бинарной: 1 - если у твитта положительная эмоциональная окраска и 0 - если отрицательная."
      ]
    },
    {
      "cell_type": "code",
      "execution_count": null,
      "metadata": {
        "colab": {
          "base_uri": "https://localhost:8080/",
          "height": 241
        },
        "id": "d-htE2YsnmBg",
        "outputId": "46f45f6d-aa0c-47f0-b58b-c46494450917"
      },
      "outputs": [
        {
          "output_type": "execute_result",
          "data": {
            "text/plain": [
              "Sentiment\n",
              "Positive              11422\n",
              "Negative               9917\n",
              "Extremely Positive     6624\n",
              "Extremely Negative     5481\n",
              "Name: count, dtype: int64"
            ],
            "text/html": [
              "<div>\n",
              "<style scoped>\n",
              "    .dataframe tbody tr th:only-of-type {\n",
              "        vertical-align: middle;\n",
              "    }\n",
              "\n",
              "    .dataframe tbody tr th {\n",
              "        vertical-align: top;\n",
              "    }\n",
              "\n",
              "    .dataframe thead th {\n",
              "        text-align: right;\n",
              "    }\n",
              "</style>\n",
              "<table border=\"1\" class=\"dataframe\">\n",
              "  <thead>\n",
              "    <tr style=\"text-align: right;\">\n",
              "      <th></th>\n",
              "      <th>count</th>\n",
              "    </tr>\n",
              "    <tr>\n",
              "      <th>Sentiment</th>\n",
              "      <th></th>\n",
              "    </tr>\n",
              "  </thead>\n",
              "  <tbody>\n",
              "    <tr>\n",
              "      <th>Positive</th>\n",
              "      <td>11422</td>\n",
              "    </tr>\n",
              "    <tr>\n",
              "      <th>Negative</th>\n",
              "      <td>9917</td>\n",
              "    </tr>\n",
              "    <tr>\n",
              "      <th>Extremely Positive</th>\n",
              "      <td>6624</td>\n",
              "    </tr>\n",
              "    <tr>\n",
              "      <th>Extremely Negative</th>\n",
              "      <td>5481</td>\n",
              "    </tr>\n",
              "  </tbody>\n",
              "</table>\n",
              "</div><br><label><b>dtype:</b> int64</label>"
            ]
          },
          "metadata": {},
          "execution_count": 4
        }
      ],
      "source": [
        "df.iloc[:,5].value_counts()"
      ]
    },
    {
      "cell_type": "code",
      "execution_count": null,
      "metadata": {
        "id": "ZaQKQ1zEjP15"
      },
      "outputs": [],
      "source": [
        "def OHE(data: str):\n",
        "  if 'Positive' in data:\n",
        "    return 1\n",
        "  elif 'Negative' in data:\n",
        "    return 0\n",
        "\n",
        "df['Sentiment'] = df['Sentiment'].apply(OHE)"
      ]
    },
    {
      "cell_type": "code",
      "execution_count": null,
      "metadata": {
        "colab": {
          "base_uri": "https://localhost:8080/",
          "height": 206
        },
        "id": "WlS-qmYh-jY2",
        "outputId": "d4681131-ae2b-420e-afe2-02feb12e5fbc"
      },
      "outputs": [
        {
          "output_type": "execute_result",
          "data": {
            "text/plain": [
              "   UserName  ScreenName                     Location     TweetAt  \\\n",
              "0      3800       48752                           UK  16-03-2020   \n",
              "1      3801       48753                    Vagabonds  16-03-2020   \n",
              "2      3802       48754                          NaN  16-03-2020   \n",
              "3      3803       48755                          NaN  16-03-2020   \n",
              "4      3804       48756  ÃÂT: 36.319708,-82.363649  16-03-2020   \n",
              "\n",
              "                                       OriginalTweet  Sentiment  \n",
              "0  advice Talk to your neighbours family to excha...          1  \n",
              "1  Coronavirus Australia: Woolworths to give elde...          1  \n",
              "2  My food stock is not the only one which is emp...          1  \n",
              "3  Me, ready to go at supermarket during the #COV...          0  \n",
              "4  As news of the regionÃÂs first confirmed COV...          1  "
            ],
            "text/html": [
              "\n",
              "  <div id=\"df-a69d6074-722d-468e-8754-2bc3e5fdff11\" class=\"colab-df-container\">\n",
              "    <div>\n",
              "<style scoped>\n",
              "    .dataframe tbody tr th:only-of-type {\n",
              "        vertical-align: middle;\n",
              "    }\n",
              "\n",
              "    .dataframe tbody tr th {\n",
              "        vertical-align: top;\n",
              "    }\n",
              "\n",
              "    .dataframe thead th {\n",
              "        text-align: right;\n",
              "    }\n",
              "</style>\n",
              "<table border=\"1\" class=\"dataframe\">\n",
              "  <thead>\n",
              "    <tr style=\"text-align: right;\">\n",
              "      <th></th>\n",
              "      <th>UserName</th>\n",
              "      <th>ScreenName</th>\n",
              "      <th>Location</th>\n",
              "      <th>TweetAt</th>\n",
              "      <th>OriginalTweet</th>\n",
              "      <th>Sentiment</th>\n",
              "    </tr>\n",
              "  </thead>\n",
              "  <tbody>\n",
              "    <tr>\n",
              "      <th>0</th>\n",
              "      <td>3800</td>\n",
              "      <td>48752</td>\n",
              "      <td>UK</td>\n",
              "      <td>16-03-2020</td>\n",
              "      <td>advice Talk to your neighbours family to excha...</td>\n",
              "      <td>1</td>\n",
              "    </tr>\n",
              "    <tr>\n",
              "      <th>1</th>\n",
              "      <td>3801</td>\n",
              "      <td>48753</td>\n",
              "      <td>Vagabonds</td>\n",
              "      <td>16-03-2020</td>\n",
              "      <td>Coronavirus Australia: Woolworths to give elde...</td>\n",
              "      <td>1</td>\n",
              "    </tr>\n",
              "    <tr>\n",
              "      <th>2</th>\n",
              "      <td>3802</td>\n",
              "      <td>48754</td>\n",
              "      <td>NaN</td>\n",
              "      <td>16-03-2020</td>\n",
              "      <td>My food stock is not the only one which is emp...</td>\n",
              "      <td>1</td>\n",
              "    </tr>\n",
              "    <tr>\n",
              "      <th>3</th>\n",
              "      <td>3803</td>\n",
              "      <td>48755</td>\n",
              "      <td>NaN</td>\n",
              "      <td>16-03-2020</td>\n",
              "      <td>Me, ready to go at supermarket during the #COV...</td>\n",
              "      <td>0</td>\n",
              "    </tr>\n",
              "    <tr>\n",
              "      <th>4</th>\n",
              "      <td>3804</td>\n",
              "      <td>48756</td>\n",
              "      <td>ÃÂT: 36.319708,-82.363649</td>\n",
              "      <td>16-03-2020</td>\n",
              "      <td>As news of the regionÃÂs first confirmed COV...</td>\n",
              "      <td>1</td>\n",
              "    </tr>\n",
              "  </tbody>\n",
              "</table>\n",
              "</div>\n",
              "    <div class=\"colab-df-buttons\">\n",
              "\n",
              "  <div class=\"colab-df-container\">\n",
              "    <button class=\"colab-df-convert\" onclick=\"convertToInteractive('df-a69d6074-722d-468e-8754-2bc3e5fdff11')\"\n",
              "            title=\"Convert this dataframe to an interactive table.\"\n",
              "            style=\"display:none;\">\n",
              "\n",
              "  <svg xmlns=\"http://www.w3.org/2000/svg\" height=\"24px\" viewBox=\"0 -960 960 960\">\n",
              "    <path d=\"M120-120v-720h720v720H120Zm60-500h600v-160H180v160Zm220 220h160v-160H400v160Zm0 220h160v-160H400v160ZM180-400h160v-160H180v160Zm440 0h160v-160H620v160ZM180-180h160v-160H180v160Zm440 0h160v-160H620v160Z\"/>\n",
              "  </svg>\n",
              "    </button>\n",
              "\n",
              "  <style>\n",
              "    .colab-df-container {\n",
              "      display:flex;\n",
              "      gap: 12px;\n",
              "    }\n",
              "\n",
              "    .colab-df-convert {\n",
              "      background-color: #E8F0FE;\n",
              "      border: none;\n",
              "      border-radius: 50%;\n",
              "      cursor: pointer;\n",
              "      display: none;\n",
              "      fill: #1967D2;\n",
              "      height: 32px;\n",
              "      padding: 0 0 0 0;\n",
              "      width: 32px;\n",
              "    }\n",
              "\n",
              "    .colab-df-convert:hover {\n",
              "      background-color: #E2EBFA;\n",
              "      box-shadow: 0px 1px 2px rgba(60, 64, 67, 0.3), 0px 1px 3px 1px rgba(60, 64, 67, 0.15);\n",
              "      fill: #174EA6;\n",
              "    }\n",
              "\n",
              "    .colab-df-buttons div {\n",
              "      margin-bottom: 4px;\n",
              "    }\n",
              "\n",
              "    [theme=dark] .colab-df-convert {\n",
              "      background-color: #3B4455;\n",
              "      fill: #D2E3FC;\n",
              "    }\n",
              "\n",
              "    [theme=dark] .colab-df-convert:hover {\n",
              "      background-color: #434B5C;\n",
              "      box-shadow: 0px 1px 3px 1px rgba(0, 0, 0, 0.15);\n",
              "      filter: drop-shadow(0px 1px 2px rgba(0, 0, 0, 0.3));\n",
              "      fill: #FFFFFF;\n",
              "    }\n",
              "  </style>\n",
              "\n",
              "    <script>\n",
              "      const buttonEl =\n",
              "        document.querySelector('#df-a69d6074-722d-468e-8754-2bc3e5fdff11 button.colab-df-convert');\n",
              "      buttonEl.style.display =\n",
              "        google.colab.kernel.accessAllowed ? 'block' : 'none';\n",
              "\n",
              "      async function convertToInteractive(key) {\n",
              "        const element = document.querySelector('#df-a69d6074-722d-468e-8754-2bc3e5fdff11');\n",
              "        const dataTable =\n",
              "          await google.colab.kernel.invokeFunction('convertToInteractive',\n",
              "                                                    [key], {});\n",
              "        if (!dataTable) return;\n",
              "\n",
              "        const docLinkHtml = 'Like what you see? Visit the ' +\n",
              "          '<a target=\"_blank\" href=https://colab.research.google.com/notebooks/data_table.ipynb>data table notebook</a>'\n",
              "          + ' to learn more about interactive tables.';\n",
              "        element.innerHTML = '';\n",
              "        dataTable['output_type'] = 'display_data';\n",
              "        await google.colab.output.renderOutput(dataTable, element);\n",
              "        const docLink = document.createElement('div');\n",
              "        docLink.innerHTML = docLinkHtml;\n",
              "        element.appendChild(docLink);\n",
              "      }\n",
              "    </script>\n",
              "  </div>\n",
              "\n",
              "\n",
              "<div id=\"df-9d468503-f4ee-4ea9-a8e3-57feaa74093a\">\n",
              "  <button class=\"colab-df-quickchart\" onclick=\"quickchart('df-9d468503-f4ee-4ea9-a8e3-57feaa74093a')\"\n",
              "            title=\"Suggest charts\"\n",
              "            style=\"display:none;\">\n",
              "\n",
              "<svg xmlns=\"http://www.w3.org/2000/svg\" height=\"24px\"viewBox=\"0 0 24 24\"\n",
              "     width=\"24px\">\n",
              "    <g>\n",
              "        <path d=\"M19 3H5c-1.1 0-2 .9-2 2v14c0 1.1.9 2 2 2h14c1.1 0 2-.9 2-2V5c0-1.1-.9-2-2-2zM9 17H7v-7h2v7zm4 0h-2V7h2v10zm4 0h-2v-4h2v4z\"/>\n",
              "    </g>\n",
              "</svg>\n",
              "  </button>\n",
              "\n",
              "<style>\n",
              "  .colab-df-quickchart {\n",
              "      --bg-color: #E8F0FE;\n",
              "      --fill-color: #1967D2;\n",
              "      --hover-bg-color: #E2EBFA;\n",
              "      --hover-fill-color: #174EA6;\n",
              "      --disabled-fill-color: #AAA;\n",
              "      --disabled-bg-color: #DDD;\n",
              "  }\n",
              "\n",
              "  [theme=dark] .colab-df-quickchart {\n",
              "      --bg-color: #3B4455;\n",
              "      --fill-color: #D2E3FC;\n",
              "      --hover-bg-color: #434B5C;\n",
              "      --hover-fill-color: #FFFFFF;\n",
              "      --disabled-bg-color: #3B4455;\n",
              "      --disabled-fill-color: #666;\n",
              "  }\n",
              "\n",
              "  .colab-df-quickchart {\n",
              "    background-color: var(--bg-color);\n",
              "    border: none;\n",
              "    border-radius: 50%;\n",
              "    cursor: pointer;\n",
              "    display: none;\n",
              "    fill: var(--fill-color);\n",
              "    height: 32px;\n",
              "    padding: 0;\n",
              "    width: 32px;\n",
              "  }\n",
              "\n",
              "  .colab-df-quickchart:hover {\n",
              "    background-color: var(--hover-bg-color);\n",
              "    box-shadow: 0 1px 2px rgba(60, 64, 67, 0.3), 0 1px 3px 1px rgba(60, 64, 67, 0.15);\n",
              "    fill: var(--button-hover-fill-color);\n",
              "  }\n",
              "\n",
              "  .colab-df-quickchart-complete:disabled,\n",
              "  .colab-df-quickchart-complete:disabled:hover {\n",
              "    background-color: var(--disabled-bg-color);\n",
              "    fill: var(--disabled-fill-color);\n",
              "    box-shadow: none;\n",
              "  }\n",
              "\n",
              "  .colab-df-spinner {\n",
              "    border: 2px solid var(--fill-color);\n",
              "    border-color: transparent;\n",
              "    border-bottom-color: var(--fill-color);\n",
              "    animation:\n",
              "      spin 1s steps(1) infinite;\n",
              "  }\n",
              "\n",
              "  @keyframes spin {\n",
              "    0% {\n",
              "      border-color: transparent;\n",
              "      border-bottom-color: var(--fill-color);\n",
              "      border-left-color: var(--fill-color);\n",
              "    }\n",
              "    20% {\n",
              "      border-color: transparent;\n",
              "      border-left-color: var(--fill-color);\n",
              "      border-top-color: var(--fill-color);\n",
              "    }\n",
              "    30% {\n",
              "      border-color: transparent;\n",
              "      border-left-color: var(--fill-color);\n",
              "      border-top-color: var(--fill-color);\n",
              "      border-right-color: var(--fill-color);\n",
              "    }\n",
              "    40% {\n",
              "      border-color: transparent;\n",
              "      border-right-color: var(--fill-color);\n",
              "      border-top-color: var(--fill-color);\n",
              "    }\n",
              "    60% {\n",
              "      border-color: transparent;\n",
              "      border-right-color: var(--fill-color);\n",
              "    }\n",
              "    80% {\n",
              "      border-color: transparent;\n",
              "      border-right-color: var(--fill-color);\n",
              "      border-bottom-color: var(--fill-color);\n",
              "    }\n",
              "    90% {\n",
              "      border-color: transparent;\n",
              "      border-bottom-color: var(--fill-color);\n",
              "    }\n",
              "  }\n",
              "</style>\n",
              "\n",
              "  <script>\n",
              "    async function quickchart(key) {\n",
              "      const quickchartButtonEl =\n",
              "        document.querySelector('#' + key + ' button');\n",
              "      quickchartButtonEl.disabled = true;  // To prevent multiple clicks.\n",
              "      quickchartButtonEl.classList.add('colab-df-spinner');\n",
              "      try {\n",
              "        const charts = await google.colab.kernel.invokeFunction(\n",
              "            'suggestCharts', [key], {});\n",
              "      } catch (error) {\n",
              "        console.error('Error during call to suggestCharts:', error);\n",
              "      }\n",
              "      quickchartButtonEl.classList.remove('colab-df-spinner');\n",
              "      quickchartButtonEl.classList.add('colab-df-quickchart-complete');\n",
              "    }\n",
              "    (() => {\n",
              "      let quickchartButtonEl =\n",
              "        document.querySelector('#df-9d468503-f4ee-4ea9-a8e3-57feaa74093a button');\n",
              "      quickchartButtonEl.style.display =\n",
              "        google.colab.kernel.accessAllowed ? 'block' : 'none';\n",
              "    })();\n",
              "  </script>\n",
              "</div>\n",
              "    </div>\n",
              "  </div>\n"
            ],
            "application/vnd.google.colaboratory.intrinsic+json": {
              "type": "dataframe",
              "variable_name": "df",
              "summary": "{\n  \"name\": \"df\",\n  \"rows\": 33444,\n  \"fields\": [\n    {\n      \"column\": \"UserName\",\n      \"properties\": {\n        \"dtype\": \"number\",\n        \"std\": 11875,\n        \"min\": 3800,\n        \"max\": 44955,\n        \"num_unique_values\": 33444,\n        \"samples\": [\n          33995,\n          17124,\n          18421\n        ],\n        \"semantic_type\": \"\",\n        \"description\": \"\"\n      }\n    },\n    {\n      \"column\": \"ScreenName\",\n      \"properties\": {\n        \"dtype\": \"number\",\n        \"std\": 11875,\n        \"min\": 48752,\n        \"max\": 89907,\n        \"num_unique_values\": 33444,\n        \"samples\": [\n          78947,\n          62076,\n          63373\n        ],\n        \"semantic_type\": \"\",\n        \"description\": \"\"\n      }\n    },\n    {\n      \"column\": \"Location\",\n      \"properties\": {\n        \"dtype\": \"category\",\n        \"num_unique_values\": 10465,\n        \"samples\": [\n          \"Kitchener | Ontario | Canada\",\n          \"Montr\\u00c3\\u0083\\u00c2\\u00a9al\",\n          \"England. Germany.\"\n        ],\n        \"semantic_type\": \"\",\n        \"description\": \"\"\n      }\n    },\n    {\n      \"column\": \"TweetAt\",\n      \"properties\": {\n        \"dtype\": \"object\",\n        \"num_unique_values\": 30,\n        \"samples\": [\n          \"12-04-2020\",\n          \"31-03-2020\",\n          \"08-04-2020\"\n        ],\n        \"semantic_type\": \"\",\n        \"description\": \"\"\n      }\n    },\n    {\n      \"column\": \"OriginalTweet\",\n      \"properties\": {\n        \"dtype\": \"string\",\n        \"num_unique_values\": 33444,\n        \"samples\": [\n          \"US death toll is way less than estimated. This I hope will bring back consumer confidence #coronavirus #Covid_19 #CoronavirusUSA\",\n          \"We will get through this by people helping people and not stock piling food and toiletries, selfish pricks #Covid_19\",\n          \"#rice prices soar to two-year high, traders blame it on #coronavirus panic buying, writes #YasirWardad https://t.co/hIXzS1DKdo #FE via @febdonline\"\n        ],\n        \"semantic_type\": \"\",\n        \"description\": \"\"\n      }\n    },\n    {\n      \"column\": \"Sentiment\",\n      \"properties\": {\n        \"dtype\": \"number\",\n        \"std\": 0,\n        \"min\": 0,\n        \"max\": 1,\n        \"num_unique_values\": 2,\n        \"samples\": [\n          0,\n          1\n        ],\n        \"semantic_type\": \"\",\n        \"description\": \"\"\n      }\n    }\n  ]\n}"
            }
          },
          "metadata": {},
          "execution_count": 9
        }
      ],
      "source": [
        "df.head()"
      ]
    },
    {
      "cell_type": "markdown",
      "metadata": {
        "id": "pGq1FxJ-kBo5"
      },
      "source": [
        "Сбалансированы ли классы?"
      ]
    },
    {
      "cell_type": "code",
      "execution_count": null,
      "metadata": {
        "colab": {
          "base_uri": "https://localhost:8080/",
          "height": 178
        },
        "id": "DI6rPHMq_LAs",
        "outputId": "a8916a4c-08c3-42bb-f2fb-f70e093f3603"
      },
      "outputs": [
        {
          "output_type": "execute_result",
          "data": {
            "text/plain": [
              "Sentiment\n",
              "1    18046\n",
              "0    15398\n",
              "Name: count, dtype: int64"
            ],
            "text/html": [
              "<div>\n",
              "<style scoped>\n",
              "    .dataframe tbody tr th:only-of-type {\n",
              "        vertical-align: middle;\n",
              "    }\n",
              "\n",
              "    .dataframe tbody tr th {\n",
              "        vertical-align: top;\n",
              "    }\n",
              "\n",
              "    .dataframe thead th {\n",
              "        text-align: right;\n",
              "    }\n",
              "</style>\n",
              "<table border=\"1\" class=\"dataframe\">\n",
              "  <thead>\n",
              "    <tr style=\"text-align: right;\">\n",
              "      <th></th>\n",
              "      <th>count</th>\n",
              "    </tr>\n",
              "    <tr>\n",
              "      <th>Sentiment</th>\n",
              "      <th></th>\n",
              "    </tr>\n",
              "  </thead>\n",
              "  <tbody>\n",
              "    <tr>\n",
              "      <th>1</th>\n",
              "      <td>18046</td>\n",
              "    </tr>\n",
              "    <tr>\n",
              "      <th>0</th>\n",
              "      <td>15398</td>\n",
              "    </tr>\n",
              "  </tbody>\n",
              "</table>\n",
              "</div><br><label><b>dtype:</b> int64</label>"
            ]
          },
          "metadata": {},
          "execution_count": 10
        }
      ],
      "source": [
        "df['Sentiment'].value_counts()  # как мы видим, сумма дает 33444, то есть функция работает правильно"
      ]
    },
    {
      "cell_type": "markdown",
      "metadata": {
        "id": "Ng8BCelMkWb0"
      },
      "source": [
        "**Ответ:** Классы не сбаланисированы, потому что разница между позитивными и негативными твитами около 3000."
      ]
    },
    {
      "cell_type": "markdown",
      "metadata": {
        "id": "qmSIBSsLk5Zz"
      },
      "source": [
        "Выведете на экран информацию о пропусках в данных. Если пропуски присутствуют заполните их строкой 'Unknown'."
      ]
    },
    {
      "cell_type": "code",
      "execution_count": null,
      "metadata": {
        "colab": {
          "base_uri": "https://localhost:8080/",
          "height": 272
        },
        "id": "UhUVRkR5kxa7",
        "outputId": "82d0b7cd-5782-4293-adf5-273f9a40041a"
      },
      "outputs": [
        {
          "output_type": "execute_result",
          "data": {
            "text/plain": [
              "UserName            0\n",
              "ScreenName          0\n",
              "Location         7049\n",
              "TweetAt             0\n",
              "OriginalTweet       0\n",
              "Sentiment           0\n",
              "dtype: int64"
            ],
            "text/html": [
              "<div>\n",
              "<style scoped>\n",
              "    .dataframe tbody tr th:only-of-type {\n",
              "        vertical-align: middle;\n",
              "    }\n",
              "\n",
              "    .dataframe tbody tr th {\n",
              "        vertical-align: top;\n",
              "    }\n",
              "\n",
              "    .dataframe thead th {\n",
              "        text-align: right;\n",
              "    }\n",
              "</style>\n",
              "<table border=\"1\" class=\"dataframe\">\n",
              "  <thead>\n",
              "    <tr style=\"text-align: right;\">\n",
              "      <th></th>\n",
              "      <th>0</th>\n",
              "    </tr>\n",
              "  </thead>\n",
              "  <tbody>\n",
              "    <tr>\n",
              "      <th>UserName</th>\n",
              "      <td>0</td>\n",
              "    </tr>\n",
              "    <tr>\n",
              "      <th>ScreenName</th>\n",
              "      <td>0</td>\n",
              "    </tr>\n",
              "    <tr>\n",
              "      <th>Location</th>\n",
              "      <td>7049</td>\n",
              "    </tr>\n",
              "    <tr>\n",
              "      <th>TweetAt</th>\n",
              "      <td>0</td>\n",
              "    </tr>\n",
              "    <tr>\n",
              "      <th>OriginalTweet</th>\n",
              "      <td>0</td>\n",
              "    </tr>\n",
              "    <tr>\n",
              "      <th>Sentiment</th>\n",
              "      <td>0</td>\n",
              "    </tr>\n",
              "  </tbody>\n",
              "</table>\n",
              "</div><br><label><b>dtype:</b> int64</label>"
            ]
          },
          "metadata": {},
          "execution_count": 11
        }
      ],
      "source": [
        "df.isna().sum()"
      ]
    },
    {
      "cell_type": "markdown",
      "metadata": {
        "id": "-aWY16Wxqcox"
      },
      "source": [
        "Как можно заметить в столбце *Location* есть пропуски."
      ]
    },
    {
      "cell_type": "code",
      "execution_count": null,
      "metadata": {
        "id": "v1T6GsPGqnYR"
      },
      "outputs": [],
      "source": [
        "df[\"Location\"].fillna('Unknown', inplace=True)"
      ]
    },
    {
      "cell_type": "code",
      "execution_count": null,
      "metadata": {
        "colab": {
          "base_uri": "https://localhost:8080/",
          "height": 272
        },
        "id": "rTGhqWCB_lEh",
        "outputId": "715b912a-aa7f-4060-84bf-225c0988a1be"
      },
      "outputs": [
        {
          "output_type": "execute_result",
          "data": {
            "text/plain": [
              "UserName         False\n",
              "ScreenName       False\n",
              "Location         False\n",
              "TweetAt          False\n",
              "OriginalTweet    False\n",
              "Sentiment        False\n",
              "dtype: bool"
            ],
            "text/html": [
              "<div>\n",
              "<style scoped>\n",
              "    .dataframe tbody tr th:only-of-type {\n",
              "        vertical-align: middle;\n",
              "    }\n",
              "\n",
              "    .dataframe tbody tr th {\n",
              "        vertical-align: top;\n",
              "    }\n",
              "\n",
              "    .dataframe thead th {\n",
              "        text-align: right;\n",
              "    }\n",
              "</style>\n",
              "<table border=\"1\" class=\"dataframe\">\n",
              "  <thead>\n",
              "    <tr style=\"text-align: right;\">\n",
              "      <th></th>\n",
              "      <th>0</th>\n",
              "    </tr>\n",
              "  </thead>\n",
              "  <tbody>\n",
              "    <tr>\n",
              "      <th>UserName</th>\n",
              "      <td>False</td>\n",
              "    </tr>\n",
              "    <tr>\n",
              "      <th>ScreenName</th>\n",
              "      <td>False</td>\n",
              "    </tr>\n",
              "    <tr>\n",
              "      <th>Location</th>\n",
              "      <td>False</td>\n",
              "    </tr>\n",
              "    <tr>\n",
              "      <th>TweetAt</th>\n",
              "      <td>False</td>\n",
              "    </tr>\n",
              "    <tr>\n",
              "      <th>OriginalTweet</th>\n",
              "      <td>False</td>\n",
              "    </tr>\n",
              "    <tr>\n",
              "      <th>Sentiment</th>\n",
              "      <td>False</td>\n",
              "    </tr>\n",
              "  </tbody>\n",
              "</table>\n",
              "</div><br><label><b>dtype:</b> bool</label>"
            ]
          },
          "metadata": {},
          "execution_count": 13
        }
      ],
      "source": [
        "df.isna().any() #Везде false значит нет пропусков"
      ]
    },
    {
      "cell_type": "markdown",
      "metadata": {
        "id": "1tzt27tfjUpq"
      },
      "source": [
        "Разделите данные на обучающие и тестовые в соотношении 7 : 3 и `random_state=0`"
      ]
    },
    {
      "cell_type": "code",
      "execution_count": null,
      "metadata": {
        "id": "xSLOA9tIj9Z6"
      },
      "outputs": [],
      "source": [
        "from sklearn.model_selection import train_test_split\n",
        "\n",
        "train, test = train_test_split(df, test_size=0.3, random_state=0)"
      ]
    },
    {
      "cell_type": "markdown",
      "metadata": {
        "id": "J9RrPUsJlL60"
      },
      "source": [
        "## Задание 2 Токенизация (3 балла)"
      ]
    },
    {
      "cell_type": "markdown",
      "metadata": {
        "id": "2Dz_b7Xopc_R"
      },
      "source": [
        "Постройте словарь на основе обучающей выборки и посчитайте количество встреч каждого токена с использованием самой простой токенизации - деления текстов по пробельным символам и приведение токенов в нижний регистр"
      ]
    },
    {
      "cell_type": "code",
      "execution_count": null,
      "metadata": {
        "id": "SFr67WOJphny"
      },
      "outputs": [],
      "source": [
        "tweet_dict = {}\n",
        "tweet_str = ''\n",
        "for twit in train['OriginalTweet']:\n",
        "  tweet_str = twit.lower().split()\n",
        "  for row in tweet_str:\n",
        "    if row in tweet_dict.keys():\n",
        "      tweet_dict[row] +=1\n",
        "    else:\n",
        "      tweet_dict[row] = 1"
      ]
    },
    {
      "cell_type": "markdown",
      "metadata": {
        "id": "Pe0h2Jqkpnao"
      },
      "source": [
        "Какой размер словаря получился?"
      ]
    },
    {
      "cell_type": "code",
      "execution_count": null,
      "metadata": {
        "colab": {
          "base_uri": "https://localhost:8080/"
        },
        "id": "jD6dV5mlHDBp",
        "outputId": "80c630e7-e7b9-41ee-b3aa-6bdb33d2c988"
      },
      "outputs": [
        {
          "output_type": "execute_result",
          "data": {
            "text/plain": [
              "79755"
            ]
          },
          "metadata": {},
          "execution_count": 17
        }
      ],
      "source": [
        "len(tweet_dict)"
      ]
    },
    {
      "cell_type": "markdown",
      "metadata": {
        "id": "0d2G1Z-Qpqkd"
      },
      "source": [
        "Выведите 10 самых популярных токенов с количеством встреч каждого из них. Объясните, почему именно эти токены в топе"
      ]
    },
    {
      "cell_type": "code",
      "execution_count": null,
      "metadata": {
        "colab": {
          "base_uri": "https://localhost:8080/"
        },
        "id": "Impi32a_pssg",
        "outputId": "d1694e74-037e-45de-9a3c-d17d0fb04e73"
      },
      "outputs": [
        {
          "output_type": "stream",
          "name": "stdout",
          "text": [
            "the 26815\n",
            "to 23373\n",
            "and 14684\n",
            "of 13012\n",
            "a 11737\n",
            "in 11198\n",
            "for 8566\n",
            "#coronavirus 8223\n",
            "is 7383\n",
            "are 7050\n"
          ]
        }
      ],
      "source": [
        "sorted_tweet_dict = sorted(tweet_dict, key=tweet_dict.get, reverse=True)\n",
        "\n",
        "for key in sorted_tweet_dict[:10]:\n",
        "  print(key, tweet_dict[key])"
      ]
    },
    {
      "cell_type": "markdown",
      "metadata": {
        "id": "ZtuJCD0ApuFd"
      },
      "source": [
        "**Ответ:** Эти токены в топе, потому что в основном тут слова паразиты и стоп слова, которые мы в повседневной жизни очень часто используем. Также тут #coronavirus, так как тема про корону;)\n"
      ]
    },
    {
      "cell_type": "markdown",
      "metadata": {
        "id": "T7DTQDkWsVYp"
      },
      "source": [
        "Удалите стоп-слова из словаря и выведите новый топ-10 токенов (и количество встреч) по популярности.  Что можно сказать  о нем?"
      ]
    },
    {
      "cell_type": "code",
      "execution_count": null,
      "metadata": {
        "id": "8csSAdgTsnFx"
      },
      "outputs": [],
      "source": [
        "import nltk\n",
        "from nltk.corpus import stopwords\n",
        "\n",
        "nltk.download('stopwords', quiet=True)\n",
        "\n",
        "stop_words = set(stopwords.words(\"english\"))\n",
        "\n",
        "for word in stop_words:\n",
        "  if word in tweet_dict.keys():\n",
        "    del tweet_dict[word]"
      ]
    },
    {
      "cell_type": "code",
      "execution_count": null,
      "metadata": {
        "colab": {
          "base_uri": "https://localhost:8080/"
        },
        "id": "QpsIxGFUIJZy",
        "outputId": "527a8dd6-1db2-48ed-9afd-15827068e606"
      },
      "outputs": [
        {
          "output_type": "stream",
          "name": "stdout",
          "text": [
            "#coronavirus 8223\n",
            "prices 3891\n",
            "food 3820\n",
            "grocery 3469\n",
            "supermarket 3288\n",
            "people 3175\n",
            "covid-19 3173\n",
            "store 3155\n",
            "#covid19 2471\n",
            "&amp; 2314\n"
          ]
        }
      ],
      "source": [
        "sorted_tweet_dict_wt_sw = sorted(tweet_dict, key=tweet_dict.get, reverse=True) #wt_sw это without stopwords\n",
        "\n",
        "for key in sorted_tweet_dict_wt_sw[:10]:\n",
        "  print(key, tweet_dict[key])"
      ]
    },
    {
      "cell_type": "markdown",
      "metadata": {
        "id": "LZH0x2Lzs-Dh"
      },
      "source": [
        "**Ответ:**  Тут слова уже более осмысленные. Тут можно заметить, что в твиттере очень бурно обсуждали цены на продукцию, дифицит товаров и многое другое, что произошло во время короновируса. Ну и сам короновирус и 19 часто встречаются в твиттах."
      ]
    },
    {
      "cell_type": "markdown",
      "metadata": {
        "id": "TKSGRyI-uor0"
      },
      "source": [
        "Также выведите 20 самых непопулярных слов (если самых непопулярных слов больше выведите любые 20 из них) Почему эти токены непопулярны, требуется ли как-то дополнительно работать с ними?"
      ]
    },
    {
      "cell_type": "code",
      "execution_count": null,
      "metadata": {
        "colab": {
          "base_uri": "https://localhost:8080/"
        },
        "id": "moArbwfvun9t",
        "outputId": "ae9cabe2-0a97-416c-e494-c1525958d150"
      },
      "outputs": [
        {
          "output_type": "stream",
          "name": "stdout",
          "text": [
            "https://t.co/7j2y3rsld9 1\n",
            "@680news 1\n",
            "@torontopearson 1\n",
            "nothing... 1\n",
            "flew 1\n",
            "wage! 1\n",
            "renewing 1\n",
            "playersãâ 1\n",
            "subsidise 1\n",
            "non-playing 1\n",
            "premiership 1\n",
            "https://t.co/iaek4fwsgz 1\n",
            "@srinivasiyc 1\n",
            "https://t.co/zjcl195vqs 1\n",
            "#southkerry 1\n",
            "#skelligcoast2kms 1\n",
            "@skelligsix18 1\n",
            "closer!) 1\n",
            "coast! 1\n",
            "skellig 1\n"
          ]
        }
      ],
      "source": [
        "for key in sorted_tweet_dict_wt_sw[len(sorted_tweet_dict_wt_sw):len(sorted_tweet_dict_wt_sw)-21:-1]:\n",
        "  print(key, tweet_dict[key])"
      ]
    },
    {
      "cell_type": "markdown",
      "metadata": {
        "id": "uRp3J1gQunlR"
      },
      "source": [
        "**Ответ:** Эти токены непопулярные, так как тут присутствуют символы со словами и ссылки на другие твиты. С этими токенами скорее всего нужно дополнительно поработать, так как символы могут иметь важную роль при предсказании окраса твита (как способ выражения эмоций).\n",
        "\n"
      ]
    },
    {
      "cell_type": "markdown",
      "metadata": {
        "id": "wx9LQOSPzvjV"
      },
      "source": [
        "Теперь воспользуемся токенайзером получше - TweetTokenizer из библиотеки nltk. Примените его и посмотрите на топ-10 популярных слов. Чем он отличается от топа, который получался раньше? Почему?"
      ]
    },
    {
      "cell_type": "code",
      "execution_count": null,
      "metadata": {
        "id": "2G1UkyVxzvFY"
      },
      "outputs": [],
      "source": [
        "from nltk.tokenize import TweetTokenizer\n",
        "\n",
        "tweet_tokenizer = TweetTokenizer()\n",
        "\n",
        "tweet_dict_tt = {}\n",
        "tweet_str_tt = ''\n",
        "for twit in train['OriginalTweet']:\n",
        "  tweet_str_tt = tweet_tokenizer.tokenize(twit)\n",
        "  for row in tweet_str_tt:\n",
        "    if row.lower() in tweet_dict_tt.keys():\n",
        "      tweet_dict_tt[row.lower()] +=1\n",
        "    else:\n",
        "      tweet_dict_tt[row.lower()] = 1"
      ]
    },
    {
      "cell_type": "code",
      "execution_count": null,
      "metadata": {
        "colab": {
          "base_uri": "https://localhost:8080/"
        },
        "id": "zH1mspVRK3JL",
        "outputId": "43a02ef7-3b88-4280-a16b-e9d7f428fe0f"
      },
      "outputs": [
        {
          "output_type": "stream",
          "name": "stdout",
          "text": [
            "the 26993\n",
            ". 24118\n",
            "to 23478\n",
            ", 17571\n",
            "and 14825\n",
            "of 13044\n",
            "a 11891\n",
            "in 11348\n",
            "? 9524\n",
            "#coronavirus 8808\n"
          ]
        }
      ],
      "source": [
        "sorted_tweet_dict_tt = sorted(tweet_dict_tt, key=tweet_dict_tt.get, reverse=True)\n",
        "\n",
        "for key in sorted_tweet_dict_tt[:10]:\n",
        "  print(key, tweet_dict_tt[key])"
      ]
    },
    {
      "cell_type": "markdown",
      "metadata": {
        "id": "50eVUnJN1Zxl"
      },
      "source": [
        "**Ответ:** Как можно заметить, теперь самые популярные \"слова\" это символы. Так как *TweetTokenizer* разделяет символы от слов, в отличии от *split*, то топ сильно поменялся."
      ]
    },
    {
      "cell_type": "markdown",
      "metadata": {
        "id": "1gqQgiMs11bs"
      },
      "source": [
        "Удалите из словаря стоп-слова и пунктуацию, посмотрите на новый топ-10 слов с количеством встреч, есть ли теперь в нем что-то не похожее на слова?"
      ]
    },
    {
      "cell_type": "code",
      "execution_count": null,
      "metadata": {
        "id": "0yHWdFrp0Mup"
      },
      "outputs": [],
      "source": [
        "from string import punctuation\n",
        "\n",
        "for word in stop_words: #Удаляем стоп слова и слова паразиты\n",
        "  if word.lower() in tweet_dict_tt.keys():\n",
        "    del tweet_dict_tt[word]\n",
        "\n",
        "for pun in list(punctuation): #Удаляем пунктуацию\n",
        "  if pun in tweet_dict_tt.keys():\n",
        "    del tweet_dict_tt[pun]"
      ]
    },
    {
      "cell_type": "code",
      "execution_count": null,
      "metadata": {
        "colab": {
          "base_uri": "https://localhost:8080/"
        },
        "id": "sgXHmcrIRrX8",
        "outputId": "2c4fc1ac-1602-420e-d783-b6e24ee6e8f4"
      },
      "outputs": [
        {
          "output_type": "stream",
          "name": "stdout",
          "text": [
            "#coronavirus 8808\n",
            "â 7415\n",
            " 7311\n",
            "19 7167\n",
            "covid 6253\n",
            "prices 4601\n",
            " 4372\n",
            "food 4367\n",
            "store 3877\n",
            "supermarket 3805\n"
          ]
        }
      ],
      "source": [
        "sorted_tweet_dict_tt_clear = sorted(tweet_dict_tt, key=tweet_dict_tt.get, reverse=True)\n",
        "\n",
        "for key in sorted_tweet_dict_tt_clear[:10]:\n",
        "  print(key, tweet_dict_tt[key])"
      ]
    },
    {
      "cell_type": "markdown",
      "metadata": {
        "id": "8ZJqXELP_Yxy"
      },
      "source": [
        "**Ответ:** Теперь в топ какие то странные символы, которые не имеют смысла, и которые надо удалить."
      ]
    },
    {
      "cell_type": "markdown",
      "metadata": {
        "id": "rzXjMsSB_kXB"
      },
      "source": [
        "Удалите из словаря токены из одного символа, с позицией в таблице Unicode 128 и более (`ord(x) >= 128`)\n",
        "\n",
        "Выведите топ-10 самых популярных и топ-20 непопулярных слов. Чем полученные топы отличаются от итоговых топов, полученных при использовании токенизации по пробелам? Что теперь лучше, а что хуже?"
      ]
    },
    {
      "cell_type": "code",
      "execution_count": null,
      "metadata": {
        "id": "1695hlkS_1-J"
      },
      "outputs": [],
      "source": [
        "tweet_dict_tt_1 = tweet_dict_tt.copy()\n",
        "\n",
        "for key in tweet_dict_tt_1.keys():\n",
        "  if (len(key.lower())==1 and ord(key) >= 128):\n",
        "    del tweet_dict_tt[key]"
      ]
    },
    {
      "cell_type": "code",
      "execution_count": null,
      "metadata": {
        "colab": {
          "base_uri": "https://localhost:8080/"
        },
        "id": "F67NgyTiOwu0",
        "outputId": "55912c56-d988-4f4c-d7b8-6c3fd9dd9b41"
      },
      "outputs": [
        {
          "output_type": "stream",
          "name": "stdout",
          "text": [
            "#coronavirus 8808\n",
            "19 7167\n",
            "covid 6253\n",
            "prices 4601\n",
            "food 4367\n",
            "store 3877\n",
            "supermarket 3805\n",
            "grocery 3523\n",
            "people 3463\n",
            "#covid19 2589\n"
          ]
        }
      ],
      "source": [
        "sorted_tweet_dict_tt_clear2 = sorted(tweet_dict_tt, key=tweet_dict_tt.get, reverse=True)\n",
        "\n",
        "for word in sorted_tweet_dict_tt_clear2[:10]:\n",
        "  print(word, tweet_dict_tt[word])"
      ]
    },
    {
      "cell_type": "markdown",
      "metadata": {
        "id": "KzjHAKIlDvc6"
      },
      "source": [
        "**Ответ:** Теперь топы стали чище и лучше, теперь четко можно понять, что главной темой в твиттере была изменение цен на продукты в супермаркете."
      ]
    },
    {
      "cell_type": "markdown",
      "metadata": {
        "id": "EcDf9_6HB2zm"
      },
      "source": [
        "Выведите топ-10 популярных хештегов с количеством встреч. Что можно сказать о них?"
      ]
    },
    {
      "cell_type": "code",
      "execution_count": null,
      "metadata": {
        "colab": {
          "base_uri": "https://localhost:8080/"
        },
        "id": "kZuAFIjE5azC",
        "outputId": "4f438adc-9524-4abf-c543-77470d5e1301"
      },
      "outputs": [
        {
          "output_type": "stream",
          "name": "stdout",
          "text": [
            "#coronavirus 8808\n",
            "#covid19 2589\n",
            "#covid_19 1734\n",
            "#covid2019 946\n",
            "#toiletpaper 744\n",
            "#covid 641\n",
            "#socialdistancing 465\n",
            "#coronacrisis 448\n",
            "#pandemic 257\n",
            "#coronaviruspandemic 249\n"
          ]
        }
      ],
      "source": [
        "for_heshtag = {} # Пустой словарь\n",
        "target = \"#\"\n",
        "for word in tweet_dict_tt.keys():\n",
        "  if any(sym in word for sym in target):\n",
        "    dict_1 = {word:tweet_dict_tt[word]}\n",
        "    for_heshtag.update(dict_1) #Закидываем в пустой словарь\n",
        "\n",
        "sorted_dict_ht = sorted(for_heshtag, key=for_heshtag.get, reverse=True) #Сортируем по значению\n",
        "\n",
        "for key in sorted_dict_ht[:10]: #Выводим первые 10\n",
        "  print(key, for_heshtag[key])"
      ]
    },
    {
      "cell_type": "markdown",
      "metadata": {
        "id": "-6NeNWBkDxM7"
      },
      "source": [
        "**Ответ:** Все хэштегы про ковид 19, социальную дистанцию и туалетную бумагу;)"
      ]
    },
    {
      "cell_type": "markdown",
      "metadata": {
        "id": "LLYBg7caD5GA"
      },
      "source": [
        "То же самое проделайте для ссылок на сайт https://t.co Сравнима ли популярность ссылок с популярностью хештегов? Будет ли информация о ссылке на конкретную страницу полезна?"
      ]
    },
    {
      "cell_type": "code",
      "execution_count": null,
      "metadata": {
        "colab": {
          "base_uri": "https://localhost:8080/"
        },
        "id": "MXbm1oeaCK9S",
        "outputId": "31de9e8d-bb69-4dae-dbbf-5e6895254a38"
      },
      "outputs": [
        {
          "output_type": "stream",
          "name": "stdout",
          "text": [
            "https://t.co/oxa7swtond 5\n",
            "https://t.co/gp3eusapl8 4\n",
            "https://t.co/deftrui1pfãâ 3\n",
            "https://t.co/wrlhyzizaa 3\n",
            "https://t.co/kuwipf1kqw 3\n",
            "https://t.co/zjnrx6dkkn 3\n",
            "https://t.co/3gbbdpdjat 3\n",
            "https://t.co/e2znxajpre 3\n",
            "https://t.co/catkegayoy 3\n",
            "https://t.co/g63rp042ho 3\n"
          ]
        }
      ],
      "source": [
        "for_link = {} # Пустой словарь\n",
        "target_1 = [\"https://t.co\"]\n",
        "for word in tweet_dict_tt.keys():\n",
        "  if any(sym in word for sym in target_1):\n",
        "    dict_2 = {word:tweet_dict_tt[word]}\n",
        "    for_link.update(dict_2) #Закидываем в пустой словарь\n",
        "\n",
        "sorted_dict_link = sorted(for_link, key=for_link.get, reverse=True) #Сортируем по значению\n",
        "\n",
        "for key in sorted_dict_link[:10]: #Выводим первые 10\n",
        "  print(key, tweet_dict_tt[key])"
      ]
    },
    {
      "cell_type": "markdown",
      "metadata": {
        "id": "at6lRYZ8A07N"
      },
      "source": [
        "**Ответ:** Тут как можно заметить некоторые твиты повторяются, может быть они имеют важную ценность и могут помочь узнать эмоциональный окрас твита."
      ]
    },
    {
      "cell_type": "markdown",
      "metadata": {
        "id": "IOGdUU1kBU1D"
      },
      "source": [
        "Используем опыт предыдущих экспериментов и напишем собственный токенайзер, улучшив TweetTokenizer. Функция tokenize должна:\n",
        "\n",
        "\n",
        "\n",
        "*   Привести текст в нижний регистр\n",
        "*   Применить TweetTokenizer для изначального выделения токенов\n",
        "*   Удалить стоп-слова, пунктуацию, токены из одного символа, с позицией в таблице Unicode 128 и более и ссылки на t.co\n",
        "\n"
      ]
    },
    {
      "cell_type": "code",
      "execution_count": null,
      "metadata": {
        "id": "ctEsB6xkFrrK"
      },
      "outputs": [],
      "source": [
        "def custom_tokenizer(text):\n",
        "\n",
        "  text_1 = text.lower()\n",
        "  list_tokens = tweet_tokenizer.tokenize(text_1)\n",
        "  tokens = list_tokens.copy()\n",
        "  for word in list_tokens:\n",
        "     if word in list(stop_words) or word in list(punctuation) or (len(word) == 1 and ord(word) >= 128) or word[0:12] == 'https://t.co':\n",
        "      tokens.remove(word)\n",
        "\n",
        "  return tokens\n"
      ]
    },
    {
      "cell_type": "code",
      "execution_count": null,
      "metadata": {
        "colab": {
          "base_uri": "https://localhost:8080/"
        },
        "id": "XwbgtYkJGYym",
        "outputId": "22fdf32a-1852-44a7-b580-12e332c5c4ba"
      },
      "outputs": [
        {
          "output_type": "execute_result",
          "data": {
            "text/plain": [
              "['sample', 'text', '@sample_text', '#sampletext']"
            ]
          },
          "metadata": {},
          "execution_count": 31
        }
      ],
      "source": [
        "custom_tokenizer('This is sample text!!!! @Sample_text I, \\x92\\x92 https://t.co/sample  #sampletext')"
      ]
    },
    {
      "cell_type": "markdown",
      "metadata": {
        "id": "wURVABmXHk97"
      },
      "source": [
        "## Задание 3 Векторизация текстов (2 балла)"
      ]
    },
    {
      "cell_type": "markdown",
      "metadata": {
        "id": "H44iXkoHIQfN"
      },
      "source": [
        "Обучите CountVectorizer с использованием custom_tokenizer в качестве токенайзера. Как размер полученного словаря соотносится с размером изначального словаря из начала задания 2?"
      ]
    },
    {
      "cell_type": "code",
      "execution_count": null,
      "metadata": {
        "id": "q4KOzN-BDv0_"
      },
      "outputs": [],
      "source": [
        "import warnings\n",
        "warnings.filterwarnings('ignore')"
      ]
    },
    {
      "cell_type": "code",
      "execution_count": null,
      "metadata": {
        "colab": {
          "base_uri": "https://localhost:8080/"
        },
        "id": "vN6cNkNrSgXB",
        "outputId": "b9050d21-13c8-45d3-e8f3-6bc1c9e04b3f"
      },
      "outputs": [
        {
          "output_type": "stream",
          "name": "stdout",
          "text": [
            "45308\n"
          ]
        }
      ],
      "source": [
        "from sklearn.feature_extraction.text import CountVectorizer\n",
        "\n",
        "\n",
        "cv = CountVectorizer(tokenizer = custom_tokenizer)\n",
        "\n",
        "vectorized_cv = cv.fit_transform(train['OriginalTweet'])\n",
        "\n",
        "print(len(cv.vocabulary_))"
      ]
    },
    {
      "cell_type": "markdown",
      "metadata": {
        "id": "gsfmaSGoItUm"
      },
      "source": [
        "**Ответ:** Теперь словарь стал почти в 2 раза меньше"
      ]
    },
    {
      "cell_type": "markdown",
      "metadata": {
        "id": "lm6UHNmqKZT0"
      },
      "source": [
        "Посмотрим на какой-нибудь конкретный твитт:"
      ]
    },
    {
      "cell_type": "code",
      "execution_count": null,
      "metadata": {
        "colab": {
          "base_uri": "https://localhost:8080/"
        },
        "id": "aJVjjfqOJh8m",
        "outputId": "1cd24820-bd7b-4bae-8420-1439b80f3fba"
      },
      "outputs": [
        {
          "output_type": "execute_result",
          "data": {
            "text/plain": [
              "('Nice one @SkyNews lets not panic but show ppl in france queueing for food!!! #CoronavirusOutbreak #COVID2019 brainless!! Ffs',\n",
              " 0)"
            ]
          },
          "metadata": {},
          "execution_count": 34
        }
      ],
      "source": [
        "ind = 9023\n",
        "train.iloc[ind]['OriginalTweet'], train.iloc[ind]['Sentiment']"
      ]
    },
    {
      "cell_type": "markdown",
      "metadata": {
        "id": "PBMIHBI5KdaS"
      },
      "source": [
        "Автор твитта не доволен ситуацией с едой во Франции и текст имеет резко негативную окраску.\n",
        "\n",
        "Примените обученный CountVectorizer для векторизации данного текста, и попытайтесь определить самый важный токен и самый неважный токен (токен, компонента которого в векторе максимальна/минимальна, без учета 0). Хорошо ли они определились, почему?"
      ]
    },
    {
      "cell_type": "code",
      "execution_count": null,
      "metadata": {
        "colab": {
          "base_uri": "https://localhost:8080/"
        },
        "id": "7NcAllaEKsJj",
        "outputId": "c72f73ac-a767-4d88-8429-d18eabd91baf"
      },
      "outputs": [
        {
          "output_type": "execute_result",
          "data": {
            "text/plain": [
              "('#coronavirusoutbreak', '#coronavirusoutbreak')"
            ]
          },
          "metadata": {},
          "execution_count": 35
        }
      ],
      "source": [
        "text = [train.iloc[9023]['OriginalTweet']]\n",
        "vectorized_cv = cv.fit_transform(text)\n",
        "\n",
        "tokens_name = cv.get_feature_names_out(text)\n",
        "\n",
        "vector_array = vectorized_cv.toarray()\n",
        "\n",
        "important_token = tokens_name[np.argmax(vector_array)]\n",
        "unimportant_token = tokens_name[np.argmin(vector_array)]\n",
        "important_token, unimportant_token"
      ]
    },
    {
      "cell_type": "code",
      "execution_count": null,
      "metadata": {
        "colab": {
          "base_uri": "https://localhost:8080/",
          "height": 81
        },
        "id": "q2jOoUTqN5FF",
        "outputId": "a7c75f68-d598-4cc7-8363-9b67ebd70399"
      },
      "outputs": [
        {
          "output_type": "execute_result",
          "data": {
            "text/plain": [
              "   #coronavirusoutbreak  #covid2019  @skynews  brainless  ffs  food  france  \\\n",
              "0                     1           1         1          1    1     1       1   \n",
              "\n",
              "   lets  nice  one  panic  ppl  queueing  show  \n",
              "0     1     1    1      1    1         1     1  "
            ],
            "text/html": [
              "\n",
              "  <div id=\"df-b8b5d373-7a5d-4039-80d4-a389e74bd292\" class=\"colab-df-container\">\n",
              "    <div>\n",
              "<style scoped>\n",
              "    .dataframe tbody tr th:only-of-type {\n",
              "        vertical-align: middle;\n",
              "    }\n",
              "\n",
              "    .dataframe tbody tr th {\n",
              "        vertical-align: top;\n",
              "    }\n",
              "\n",
              "    .dataframe thead th {\n",
              "        text-align: right;\n",
              "    }\n",
              "</style>\n",
              "<table border=\"1\" class=\"dataframe\">\n",
              "  <thead>\n",
              "    <tr style=\"text-align: right;\">\n",
              "      <th></th>\n",
              "      <th>#coronavirusoutbreak</th>\n",
              "      <th>#covid2019</th>\n",
              "      <th>@skynews</th>\n",
              "      <th>brainless</th>\n",
              "      <th>ffs</th>\n",
              "      <th>food</th>\n",
              "      <th>france</th>\n",
              "      <th>lets</th>\n",
              "      <th>nice</th>\n",
              "      <th>one</th>\n",
              "      <th>panic</th>\n",
              "      <th>ppl</th>\n",
              "      <th>queueing</th>\n",
              "      <th>show</th>\n",
              "    </tr>\n",
              "  </thead>\n",
              "  <tbody>\n",
              "    <tr>\n",
              "      <th>0</th>\n",
              "      <td>1</td>\n",
              "      <td>1</td>\n",
              "      <td>1</td>\n",
              "      <td>1</td>\n",
              "      <td>1</td>\n",
              "      <td>1</td>\n",
              "      <td>1</td>\n",
              "      <td>1</td>\n",
              "      <td>1</td>\n",
              "      <td>1</td>\n",
              "      <td>1</td>\n",
              "      <td>1</td>\n",
              "      <td>1</td>\n",
              "      <td>1</td>\n",
              "    </tr>\n",
              "  </tbody>\n",
              "</table>\n",
              "</div>\n",
              "    <div class=\"colab-df-buttons\">\n",
              "\n",
              "  <div class=\"colab-df-container\">\n",
              "    <button class=\"colab-df-convert\" onclick=\"convertToInteractive('df-b8b5d373-7a5d-4039-80d4-a389e74bd292')\"\n",
              "            title=\"Convert this dataframe to an interactive table.\"\n",
              "            style=\"display:none;\">\n",
              "\n",
              "  <svg xmlns=\"http://www.w3.org/2000/svg\" height=\"24px\" viewBox=\"0 -960 960 960\">\n",
              "    <path d=\"M120-120v-720h720v720H120Zm60-500h600v-160H180v160Zm220 220h160v-160H400v160Zm0 220h160v-160H400v160ZM180-400h160v-160H180v160Zm440 0h160v-160H620v160ZM180-180h160v-160H180v160Zm440 0h160v-160H620v160Z\"/>\n",
              "  </svg>\n",
              "    </button>\n",
              "\n",
              "  <style>\n",
              "    .colab-df-container {\n",
              "      display:flex;\n",
              "      gap: 12px;\n",
              "    }\n",
              "\n",
              "    .colab-df-convert {\n",
              "      background-color: #E8F0FE;\n",
              "      border: none;\n",
              "      border-radius: 50%;\n",
              "      cursor: pointer;\n",
              "      display: none;\n",
              "      fill: #1967D2;\n",
              "      height: 32px;\n",
              "      padding: 0 0 0 0;\n",
              "      width: 32px;\n",
              "    }\n",
              "\n",
              "    .colab-df-convert:hover {\n",
              "      background-color: #E2EBFA;\n",
              "      box-shadow: 0px 1px 2px rgba(60, 64, 67, 0.3), 0px 1px 3px 1px rgba(60, 64, 67, 0.15);\n",
              "      fill: #174EA6;\n",
              "    }\n",
              "\n",
              "    .colab-df-buttons div {\n",
              "      margin-bottom: 4px;\n",
              "    }\n",
              "\n",
              "    [theme=dark] .colab-df-convert {\n",
              "      background-color: #3B4455;\n",
              "      fill: #D2E3FC;\n",
              "    }\n",
              "\n",
              "    [theme=dark] .colab-df-convert:hover {\n",
              "      background-color: #434B5C;\n",
              "      box-shadow: 0px 1px 3px 1px rgba(0, 0, 0, 0.15);\n",
              "      filter: drop-shadow(0px 1px 2px rgba(0, 0, 0, 0.3));\n",
              "      fill: #FFFFFF;\n",
              "    }\n",
              "  </style>\n",
              "\n",
              "    <script>\n",
              "      const buttonEl =\n",
              "        document.querySelector('#df-b8b5d373-7a5d-4039-80d4-a389e74bd292 button.colab-df-convert');\n",
              "      buttonEl.style.display =\n",
              "        google.colab.kernel.accessAllowed ? 'block' : 'none';\n",
              "\n",
              "      async function convertToInteractive(key) {\n",
              "        const element = document.querySelector('#df-b8b5d373-7a5d-4039-80d4-a389e74bd292');\n",
              "        const dataTable =\n",
              "          await google.colab.kernel.invokeFunction('convertToInteractive',\n",
              "                                                    [key], {});\n",
              "        if (!dataTable) return;\n",
              "\n",
              "        const docLinkHtml = 'Like what you see? Visit the ' +\n",
              "          '<a target=\"_blank\" href=https://colab.research.google.com/notebooks/data_table.ipynb>data table notebook</a>'\n",
              "          + ' to learn more about interactive tables.';\n",
              "        element.innerHTML = '';\n",
              "        dataTable['output_type'] = 'display_data';\n",
              "        await google.colab.output.renderOutput(dataTable, element);\n",
              "        const docLink = document.createElement('div');\n",
              "        docLink.innerHTML = docLinkHtml;\n",
              "        element.appendChild(docLink);\n",
              "      }\n",
              "    </script>\n",
              "  </div>\n",
              "\n",
              "    </div>\n",
              "  </div>\n"
            ],
            "application/vnd.google.colaboratory.intrinsic+json": {
              "type": "dataframe",
              "summary": "{\n  \"name\": \"pd\",\n  \"rows\": 1,\n  \"fields\": [\n    {\n      \"column\": \"#coronavirusoutbreak\",\n      \"properties\": {\n        \"dtype\": \"number\",\n        \"std\": null,\n        \"min\": 1,\n        \"max\": 1,\n        \"num_unique_values\": 1,\n        \"samples\": [\n          1\n        ],\n        \"semantic_type\": \"\",\n        \"description\": \"\"\n      }\n    },\n    {\n      \"column\": \"#covid2019\",\n      \"properties\": {\n        \"dtype\": \"number\",\n        \"std\": null,\n        \"min\": 1,\n        \"max\": 1,\n        \"num_unique_values\": 1,\n        \"samples\": [\n          1\n        ],\n        \"semantic_type\": \"\",\n        \"description\": \"\"\n      }\n    },\n    {\n      \"column\": \"@skynews\",\n      \"properties\": {\n        \"dtype\": \"number\",\n        \"std\": null,\n        \"min\": 1,\n        \"max\": 1,\n        \"num_unique_values\": 1,\n        \"samples\": [\n          1\n        ],\n        \"semantic_type\": \"\",\n        \"description\": \"\"\n      }\n    },\n    {\n      \"column\": \"brainless\",\n      \"properties\": {\n        \"dtype\": \"number\",\n        \"std\": null,\n        \"min\": 1,\n        \"max\": 1,\n        \"num_unique_values\": 1,\n        \"samples\": [\n          1\n        ],\n        \"semantic_type\": \"\",\n        \"description\": \"\"\n      }\n    },\n    {\n      \"column\": \"ffs\",\n      \"properties\": {\n        \"dtype\": \"number\",\n        \"std\": null,\n        \"min\": 1,\n        \"max\": 1,\n        \"num_unique_values\": 1,\n        \"samples\": [\n          1\n        ],\n        \"semantic_type\": \"\",\n        \"description\": \"\"\n      }\n    },\n    {\n      \"column\": \"food\",\n      \"properties\": {\n        \"dtype\": \"number\",\n        \"std\": null,\n        \"min\": 1,\n        \"max\": 1,\n        \"num_unique_values\": 1,\n        \"samples\": [\n          1\n        ],\n        \"semantic_type\": \"\",\n        \"description\": \"\"\n      }\n    },\n    {\n      \"column\": \"france\",\n      \"properties\": {\n        \"dtype\": \"number\",\n        \"std\": null,\n        \"min\": 1,\n        \"max\": 1,\n        \"num_unique_values\": 1,\n        \"samples\": [\n          1\n        ],\n        \"semantic_type\": \"\",\n        \"description\": \"\"\n      }\n    },\n    {\n      \"column\": \"lets\",\n      \"properties\": {\n        \"dtype\": \"number\",\n        \"std\": null,\n        \"min\": 1,\n        \"max\": 1,\n        \"num_unique_values\": 1,\n        \"samples\": [\n          1\n        ],\n        \"semantic_type\": \"\",\n        \"description\": \"\"\n      }\n    },\n    {\n      \"column\": \"nice\",\n      \"properties\": {\n        \"dtype\": \"number\",\n        \"std\": null,\n        \"min\": 1,\n        \"max\": 1,\n        \"num_unique_values\": 1,\n        \"samples\": [\n          1\n        ],\n        \"semantic_type\": \"\",\n        \"description\": \"\"\n      }\n    },\n    {\n      \"column\": \"one\",\n      \"properties\": {\n        \"dtype\": \"number\",\n        \"std\": null,\n        \"min\": 1,\n        \"max\": 1,\n        \"num_unique_values\": 1,\n        \"samples\": [\n          1\n        ],\n        \"semantic_type\": \"\",\n        \"description\": \"\"\n      }\n    },\n    {\n      \"column\": \"panic\",\n      \"properties\": {\n        \"dtype\": \"number\",\n        \"std\": null,\n        \"min\": 1,\n        \"max\": 1,\n        \"num_unique_values\": 1,\n        \"samples\": [\n          1\n        ],\n        \"semantic_type\": \"\",\n        \"description\": \"\"\n      }\n    },\n    {\n      \"column\": \"ppl\",\n      \"properties\": {\n        \"dtype\": \"number\",\n        \"std\": null,\n        \"min\": 1,\n        \"max\": 1,\n        \"num_unique_values\": 1,\n        \"samples\": [\n          1\n        ],\n        \"semantic_type\": \"\",\n        \"description\": \"\"\n      }\n    },\n    {\n      \"column\": \"queueing\",\n      \"properties\": {\n        \"dtype\": \"number\",\n        \"std\": null,\n        \"min\": 1,\n        \"max\": 1,\n        \"num_unique_values\": 1,\n        \"samples\": [\n          1\n        ],\n        \"semantic_type\": \"\",\n        \"description\": \"\"\n      }\n    },\n    {\n      \"column\": \"show\",\n      \"properties\": {\n        \"dtype\": \"number\",\n        \"std\": null,\n        \"min\": 1,\n        \"max\": 1,\n        \"num_unique_values\": 1,\n        \"samples\": [\n          1\n        ],\n        \"semantic_type\": \"\",\n        \"description\": \"\"\n      }\n    }\n  ]\n}"
            }
          },
          "metadata": {},
          "execution_count": 37
        }
      ],
      "source": [
        "pd.DataFrame(data=vector_array, columns=tokens_name)"
      ]
    },
    {
      "cell_type": "markdown",
      "metadata": {
        "id": "TpEsl1k_NF4T"
      },
      "source": [
        "**Ответ:** По датафрейму можно понять, что у всех слов весь равен 1, поэтому нельзя виделить наиболее или наименее важный токен.\n",
        "\n"
      ]
    },
    {
      "cell_type": "markdown",
      "metadata": {
        "id": "w4DsEQpLO3J6"
      },
      "source": [
        "Теперь примените TfidfVectorizer и  определите самый важный/неважный токены. Хорошо ли определились, почему?"
      ]
    },
    {
      "cell_type": "code",
      "execution_count": null,
      "metadata": {
        "id": "uSNzdK3ENGB3",
        "colab": {
          "base_uri": "https://localhost:8080/",
          "height": 101
        },
        "outputId": "70663712-560a-4390-cb48-54ec3df67ec0"
      },
      "outputs": [
        {
          "output_type": "execute_result",
          "data": {
            "text/plain": [
              "      #coronavirusoutbreak  #covid2019  @skynews  brainless       ffs  \\\n",
              "9023              0.225843    0.168252  0.310426   0.386764  0.324474   \n",
              "\n",
              "          food    france      lets      nice       one     panic       ppl  \\\n",
              "9023  0.113289  0.320473  0.301211  0.254273  0.163067  0.147595  0.255006   \n",
              "\n",
              "      queueing      show  \n",
              "9023  0.354346  0.244065  "
            ],
            "text/html": [
              "\n",
              "  <div id=\"df-c8b0191c-0802-4be0-95fa-1d777a2b70d8\" class=\"colab-df-container\">\n",
              "    <div>\n",
              "<style scoped>\n",
              "    .dataframe tbody tr th:only-of-type {\n",
              "        vertical-align: middle;\n",
              "    }\n",
              "\n",
              "    .dataframe tbody tr th {\n",
              "        vertical-align: top;\n",
              "    }\n",
              "\n",
              "    .dataframe thead th {\n",
              "        text-align: right;\n",
              "    }\n",
              "</style>\n",
              "<table border=\"1\" class=\"dataframe\">\n",
              "  <thead>\n",
              "    <tr style=\"text-align: right;\">\n",
              "      <th></th>\n",
              "      <th>#coronavirusoutbreak</th>\n",
              "      <th>#covid2019</th>\n",
              "      <th>@skynews</th>\n",
              "      <th>brainless</th>\n",
              "      <th>ffs</th>\n",
              "      <th>food</th>\n",
              "      <th>france</th>\n",
              "      <th>lets</th>\n",
              "      <th>nice</th>\n",
              "      <th>one</th>\n",
              "      <th>panic</th>\n",
              "      <th>ppl</th>\n",
              "      <th>queueing</th>\n",
              "      <th>show</th>\n",
              "    </tr>\n",
              "  </thead>\n",
              "  <tbody>\n",
              "    <tr>\n",
              "      <th>9023</th>\n",
              "      <td>0.225843</td>\n",
              "      <td>0.168252</td>\n",
              "      <td>0.310426</td>\n",
              "      <td>0.386764</td>\n",
              "      <td>0.324474</td>\n",
              "      <td>0.113289</td>\n",
              "      <td>0.320473</td>\n",
              "      <td>0.301211</td>\n",
              "      <td>0.254273</td>\n",
              "      <td>0.163067</td>\n",
              "      <td>0.147595</td>\n",
              "      <td>0.255006</td>\n",
              "      <td>0.354346</td>\n",
              "      <td>0.244065</td>\n",
              "    </tr>\n",
              "  </tbody>\n",
              "</table>\n",
              "</div>\n",
              "    <div class=\"colab-df-buttons\">\n",
              "\n",
              "  <div class=\"colab-df-container\">\n",
              "    <button class=\"colab-df-convert\" onclick=\"convertToInteractive('df-c8b0191c-0802-4be0-95fa-1d777a2b70d8')\"\n",
              "            title=\"Convert this dataframe to an interactive table.\"\n",
              "            style=\"display:none;\">\n",
              "\n",
              "  <svg xmlns=\"http://www.w3.org/2000/svg\" height=\"24px\" viewBox=\"0 -960 960 960\">\n",
              "    <path d=\"M120-120v-720h720v720H120Zm60-500h600v-160H180v160Zm220 220h160v-160H400v160Zm0 220h160v-160H400v160ZM180-400h160v-160H180v160Zm440 0h160v-160H620v160ZM180-180h160v-160H180v160Zm440 0h160v-160H620v160Z\"/>\n",
              "  </svg>\n",
              "    </button>\n",
              "\n",
              "  <style>\n",
              "    .colab-df-container {\n",
              "      display:flex;\n",
              "      gap: 12px;\n",
              "    }\n",
              "\n",
              "    .colab-df-convert {\n",
              "      background-color: #E8F0FE;\n",
              "      border: none;\n",
              "      border-radius: 50%;\n",
              "      cursor: pointer;\n",
              "      display: none;\n",
              "      fill: #1967D2;\n",
              "      height: 32px;\n",
              "      padding: 0 0 0 0;\n",
              "      width: 32px;\n",
              "    }\n",
              "\n",
              "    .colab-df-convert:hover {\n",
              "      background-color: #E2EBFA;\n",
              "      box-shadow: 0px 1px 2px rgba(60, 64, 67, 0.3), 0px 1px 3px 1px rgba(60, 64, 67, 0.15);\n",
              "      fill: #174EA6;\n",
              "    }\n",
              "\n",
              "    .colab-df-buttons div {\n",
              "      margin-bottom: 4px;\n",
              "    }\n",
              "\n",
              "    [theme=dark] .colab-df-convert {\n",
              "      background-color: #3B4455;\n",
              "      fill: #D2E3FC;\n",
              "    }\n",
              "\n",
              "    [theme=dark] .colab-df-convert:hover {\n",
              "      background-color: #434B5C;\n",
              "      box-shadow: 0px 1px 3px 1px rgba(0, 0, 0, 0.15);\n",
              "      filter: drop-shadow(0px 1px 2px rgba(0, 0, 0, 0.3));\n",
              "      fill: #FFFFFF;\n",
              "    }\n",
              "  </style>\n",
              "\n",
              "    <script>\n",
              "      const buttonEl =\n",
              "        document.querySelector('#df-c8b0191c-0802-4be0-95fa-1d777a2b70d8 button.colab-df-convert');\n",
              "      buttonEl.style.display =\n",
              "        google.colab.kernel.accessAllowed ? 'block' : 'none';\n",
              "\n",
              "      async function convertToInteractive(key) {\n",
              "        const element = document.querySelector('#df-c8b0191c-0802-4be0-95fa-1d777a2b70d8');\n",
              "        const dataTable =\n",
              "          await google.colab.kernel.invokeFunction('convertToInteractive',\n",
              "                                                    [key], {});\n",
              "        if (!dataTable) return;\n",
              "\n",
              "        const docLinkHtml = 'Like what you see? Visit the ' +\n",
              "          '<a target=\"_blank\" href=https://colab.research.google.com/notebooks/data_table.ipynb>data table notebook</a>'\n",
              "          + ' to learn more about interactive tables.';\n",
              "        element.innerHTML = '';\n",
              "        dataTable['output_type'] = 'display_data';\n",
              "        await google.colab.output.renderOutput(dataTable, element);\n",
              "        const docLink = document.createElement('div');\n",
              "        docLink.innerHTML = docLinkHtml;\n",
              "        element.appendChild(docLink);\n",
              "      }\n",
              "    </script>\n",
              "  </div>\n",
              "\n",
              "    </div>\n",
              "  </div>\n"
            ],
            "application/vnd.google.colaboratory.intrinsic+json": {
              "type": "dataframe",
              "variable_name": "vec",
              "summary": "{\n  \"name\": \"vec\",\n  \"rows\": 1,\n  \"fields\": [\n    {\n      \"column\": \"#coronavirusoutbreak\",\n      \"properties\": {\n        \"dtype\": \"number\",\n        \"std\": null,\n        \"min\": 0.22584265007428544,\n        \"max\": 0.22584265007428544,\n        \"num_unique_values\": 1,\n        \"samples\": [\n          0.22584265007428544\n        ],\n        \"semantic_type\": \"\",\n        \"description\": \"\"\n      }\n    },\n    {\n      \"column\": \"#covid2019\",\n      \"properties\": {\n        \"dtype\": \"number\",\n        \"std\": null,\n        \"min\": 0.16825192939361902,\n        \"max\": 0.16825192939361902,\n        \"num_unique_values\": 1,\n        \"samples\": [\n          0.16825192939361902\n        ],\n        \"semantic_type\": \"\",\n        \"description\": \"\"\n      }\n    },\n    {\n      \"column\": \"@skynews\",\n      \"properties\": {\n        \"dtype\": \"number\",\n        \"std\": null,\n        \"min\": 0.31042634466284263,\n        \"max\": 0.31042634466284263,\n        \"num_unique_values\": 1,\n        \"samples\": [\n          0.31042634466284263\n        ],\n        \"semantic_type\": \"\",\n        \"description\": \"\"\n      }\n    },\n    {\n      \"column\": \"brainless\",\n      \"properties\": {\n        \"dtype\": \"number\",\n        \"std\": null,\n        \"min\": 0.3867641170466375,\n        \"max\": 0.3867641170466375,\n        \"num_unique_values\": 1,\n        \"samples\": [\n          0.3867641170466375\n        ],\n        \"semantic_type\": \"\",\n        \"description\": \"\"\n      }\n    },\n    {\n      \"column\": \"ffs\",\n      \"properties\": {\n        \"dtype\": \"number\",\n        \"std\": null,\n        \"min\": 0.3244741764513268,\n        \"max\": 0.3244741764513268,\n        \"num_unique_values\": 1,\n        \"samples\": [\n          0.3244741764513268\n        ],\n        \"semantic_type\": \"\",\n        \"description\": \"\"\n      }\n    },\n    {\n      \"column\": \"food\",\n      \"properties\": {\n        \"dtype\": \"number\",\n        \"std\": null,\n        \"min\": 0.11328893069250721,\n        \"max\": 0.11328893069250721,\n        \"num_unique_values\": 1,\n        \"samples\": [\n          0.11328893069250721\n        ],\n        \"semantic_type\": \"\",\n        \"description\": \"\"\n      }\n    },\n    {\n      \"column\": \"france\",\n      \"properties\": {\n        \"dtype\": \"number\",\n        \"std\": null,\n        \"min\": 0.32047314046539654,\n        \"max\": 0.32047314046539654,\n        \"num_unique_values\": 1,\n        \"samples\": [\n          0.32047314046539654\n        ],\n        \"semantic_type\": \"\",\n        \"description\": \"\"\n      }\n    },\n    {\n      \"column\": \"lets\",\n      \"properties\": {\n        \"dtype\": \"number\",\n        \"std\": null,\n        \"min\": 0.30121070136861045,\n        \"max\": 0.30121070136861045,\n        \"num_unique_values\": 1,\n        \"samples\": [\n          0.30121070136861045\n        ],\n        \"semantic_type\": \"\",\n        \"description\": \"\"\n      }\n    },\n    {\n      \"column\": \"nice\",\n      \"properties\": {\n        \"dtype\": \"number\",\n        \"std\": null,\n        \"min\": 0.2542729176022132,\n        \"max\": 0.2542729176022132,\n        \"num_unique_values\": 1,\n        \"samples\": [\n          0.2542729176022132\n        ],\n        \"semantic_type\": \"\",\n        \"description\": \"\"\n      }\n    },\n    {\n      \"column\": \"one\",\n      \"properties\": {\n        \"dtype\": \"number\",\n        \"std\": null,\n        \"min\": 0.16306722855395073,\n        \"max\": 0.16306722855395073,\n        \"num_unique_values\": 1,\n        \"samples\": [\n          0.16306722855395073\n        ],\n        \"semantic_type\": \"\",\n        \"description\": \"\"\n      }\n    },\n    {\n      \"column\": \"panic\",\n      \"properties\": {\n        \"dtype\": \"number\",\n        \"std\": null,\n        \"min\": 0.14759470306326164,\n        \"max\": 0.14759470306326164,\n        \"num_unique_values\": 1,\n        \"samples\": [\n          0.14759470306326164\n        ],\n        \"semantic_type\": \"\",\n        \"description\": \"\"\n      }\n    },\n    {\n      \"column\": \"ppl\",\n      \"properties\": {\n        \"dtype\": \"number\",\n        \"std\": null,\n        \"min\": 0.2550064610386691,\n        \"max\": 0.2550064610386691,\n        \"num_unique_values\": 1,\n        \"samples\": [\n          0.2550064610386691\n        ],\n        \"semantic_type\": \"\",\n        \"description\": \"\"\n      }\n    },\n    {\n      \"column\": \"queueing\",\n      \"properties\": {\n        \"dtype\": \"number\",\n        \"std\": null,\n        \"min\": 0.35434556333216544,\n        \"max\": 0.35434556333216544,\n        \"num_unique_values\": 1,\n        \"samples\": [\n          0.35434556333216544\n        ],\n        \"semantic_type\": \"\",\n        \"description\": \"\"\n      }\n    },\n    {\n      \"column\": \"show\",\n      \"properties\": {\n        \"dtype\": \"number\",\n        \"std\": null,\n        \"min\": 0.24406492401820118,\n        \"max\": 0.24406492401820118,\n        \"num_unique_values\": 1,\n        \"samples\": [\n          0.24406492401820118\n        ],\n        \"semantic_type\": \"\",\n        \"description\": \"\"\n      }\n    }\n  ]\n}"
            }
          },
          "metadata": {},
          "execution_count": 38
        }
      ],
      "source": [
        "from sklearn.feature_extraction.text import TfidfVectorizer\n",
        "\n",
        "tfidf_vec = TfidfVectorizer(tokenizer = custom_tokenizer)\n",
        "\n",
        "full_text = tfidf_vec.fit_transform(train['OriginalTweet'])\n",
        "\n",
        "vec = pd.DataFrame(data=full_text.toarray(), columns=tfidf_vec.get_feature_names_out()).iloc[[9023]]\n",
        "vec = vec.drop(columns=vec.columns[vec.iloc[0] == 0])\n",
        "vec"
      ]
    },
    {
      "cell_type": "code",
      "execution_count": null,
      "metadata": {
        "colab": {
          "base_uri": "https://localhost:8080/"
        },
        "id": "gMC1Mlc0MxHR",
        "outputId": "63b575c2-03bb-4a5f-cc4a-7298cd2219bb"
      },
      "outputs": [
        {
          "output_type": "stream",
          "name": "stdout",
          "text": [
            "Максимальный вес имеет 9023    brainless\n",
            "dtype: object cо значением 9023    0.386764\n",
            "dtype: float64\n",
            "Минимальный вес имеет 9023    food\n",
            "dtype: object cо значением 9023    0.113289\n",
            "dtype: float64\n"
          ]
        }
      ],
      "source": [
        "max_w_name = vec.idxmax(axis=1)\n",
        "min_w_name = vec.idxmin(axis=1)\n",
        "max_w = vec.max(axis=1)\n",
        "min_w =vec.min(axis=1)\n",
        "print(f\"Максимальный вес имеет {max_w_name} cо значением {max_w}\")\n",
        "print(f\"Минимальный вес имеет {min_w_name} cо значением {min_w}\")"
      ]
    },
    {
      "cell_type": "markdown",
      "metadata": {
        "id": "NYao_UhqQADm"
      },
      "source": [
        "**Ответ:** Данный метод векторизации помог нам выделить самый важный токен - brainless, и наименее значимый токен - food."
      ]
    },
    {
      "cell_type": "markdown",
      "metadata": {
        "id": "LGRJPqfWSesQ"
      },
      "source": [
        "Найдите какой-нибудь положительно окрашенный твитт, где TfidfVectorizer хорошо (полезно для определения окраски) выделяет важный токен, поясните пример.\n",
        "\n",
        "*Подсказка:* явно положительные твитты можно искать при помощи положительных слов (good, great, amazing и т. д.)"
      ]
    },
    {
      "cell_type": "code",
      "execution_count": null,
      "metadata": {
        "colab": {
          "base_uri": "https://localhost:8080/",
          "height": 676
        },
        "id": "bRbQ2CHiSuJI",
        "outputId": "401bd7a8-bb39-4f51-c925-ccfc776278f2"
      },
      "outputs": [
        {
          "output_type": "execute_result",
          "data": {
            "text/plain": [
              "       UserName  ScreenName                       Location     TweetAt  \\\n",
              "21031     29445       74397               Falls Church, VA  01-04-2020   \n",
              "24347     33577       78529                        Unknown  05-04-2020   \n",
              "29486     39993       84945                  New York, USA  09-04-2020   \n",
              "14334     21202       66154                      Ohio, USA  23-03-2020   \n",
              "8740      14419       59371                         Nevada  20-03-2020   \n",
              "18296     26062       71014                 Somerville, MA  25-03-2020   \n",
              "14563     21497       66449                     Manchester  23-03-2020   \n",
              "24155     33326       78278                   Langtoun, UK  05-04-2020   \n",
              "11469     17705       62657                Zurich - Dublin  21-03-2020   \n",
              "19273     27258       72210  3rd planet in minor solar sys  26-03-2020   \n",
              "13355     20006       64958                Los Angeles, CA  22-03-2020   \n",
              "25447     34966       79918                          India  06-04-2020   \n",
              "31279     42276       87228         DÃÂ¼sseldorf, Germany  11-04-2020   \n",
              "19660     27738       72690                        Unknown  26-03-2020   \n",
              "28949     39313       84265                        Unknown  09-04-2020   \n",
              "29159     39582       84534                        Alabama  09-04-2020   \n",
              "27273     37248       82200                   Brooklyn, NY  08-04-2020   \n",
              "17124     24641       69593                      Miami, FL  25-03-2020   \n",
              "23842     32939       77891                        England  05-04-2020   \n",
              "30061     40719       85671                        Unknown  10-04-2020   \n",
              "\n",
              "                                           OriginalTweet  Sentiment  \n",
              "21031  I have to shout @Publix grocery store ? you gu...          1  \n",
              "24347  Massive thanks to @waitrose for my delivery of...          1  \n",
              "29486  Finances are a real issue for many Learn about...          1  \n",
              "14334  @drsmadden A5: I think brands are doing an exc...          1  \n",
              "8740   My betrothed is a type-1 diabetic and manager ...          1  \n",
              "18296  @UMassBoston @UMB_UR_BEST doctoral students wr...          1  \n",
              "14563  An excellent description from of the six thres...          1  \n",
              "24155  Local supermarket has a pre-opening hour exclu...          1  \n",
              "11469  we ve put together a list of excellent recipe ...          1  \n",
              "19273  Talked to the excellent about about transmissi...          1  \n",
              "13355  \"This particular edition of Writer's Lounge is...          1  \n",
              "25447  Our ALL internal #auditor #Training  #course #...          1  \n",
              "31279  Pro tip: wonder what to do with all the #toile...          1  \n",
              "19660  Harris Farm introduces excellent measures to f...          1  \n",
              "28949  There are some excellent online drop in sessio...          1  \n",
              "29159  This is an excellent idea , this stuff is rare...          1  \n",
              "27273  I m currently furloughed from my grocery store...          1  \n",
              "17124  So just CNN Or how about the Daily Mail that h...          1  \n",
              "23842  Tonight s much requested video is How to make ...          1  \n",
              "30061  The @ftc has compiled an excellent list of res...          1  "
            ],
            "text/html": [
              "\n",
              "  <div id=\"df-32ea6a1a-1cb8-4dc7-8af1-c0b008f498ef\" class=\"colab-df-container\">\n",
              "    <div>\n",
              "<style scoped>\n",
              "    .dataframe tbody tr th:only-of-type {\n",
              "        vertical-align: middle;\n",
              "    }\n",
              "\n",
              "    .dataframe tbody tr th {\n",
              "        vertical-align: top;\n",
              "    }\n",
              "\n",
              "    .dataframe thead th {\n",
              "        text-align: right;\n",
              "    }\n",
              "</style>\n",
              "<table border=\"1\" class=\"dataframe\">\n",
              "  <thead>\n",
              "    <tr style=\"text-align: right;\">\n",
              "      <th></th>\n",
              "      <th>UserName</th>\n",
              "      <th>ScreenName</th>\n",
              "      <th>Location</th>\n",
              "      <th>TweetAt</th>\n",
              "      <th>OriginalTweet</th>\n",
              "      <th>Sentiment</th>\n",
              "    </tr>\n",
              "  </thead>\n",
              "  <tbody>\n",
              "    <tr>\n",
              "      <th>21031</th>\n",
              "      <td>29445</td>\n",
              "      <td>74397</td>\n",
              "      <td>Falls Church, VA</td>\n",
              "      <td>01-04-2020</td>\n",
              "      <td>I have to shout @Publix grocery store ? you gu...</td>\n",
              "      <td>1</td>\n",
              "    </tr>\n",
              "    <tr>\n",
              "      <th>24347</th>\n",
              "      <td>33577</td>\n",
              "      <td>78529</td>\n",
              "      <td>Unknown</td>\n",
              "      <td>05-04-2020</td>\n",
              "      <td>Massive thanks to @waitrose for my delivery of...</td>\n",
              "      <td>1</td>\n",
              "    </tr>\n",
              "    <tr>\n",
              "      <th>29486</th>\n",
              "      <td>39993</td>\n",
              "      <td>84945</td>\n",
              "      <td>New York, USA</td>\n",
              "      <td>09-04-2020</td>\n",
              "      <td>Finances are a real issue for many Learn about...</td>\n",
              "      <td>1</td>\n",
              "    </tr>\n",
              "    <tr>\n",
              "      <th>14334</th>\n",
              "      <td>21202</td>\n",
              "      <td>66154</td>\n",
              "      <td>Ohio, USA</td>\n",
              "      <td>23-03-2020</td>\n",
              "      <td>@drsmadden A5: I think brands are doing an exc...</td>\n",
              "      <td>1</td>\n",
              "    </tr>\n",
              "    <tr>\n",
              "      <th>8740</th>\n",
              "      <td>14419</td>\n",
              "      <td>59371</td>\n",
              "      <td>Nevada</td>\n",
              "      <td>20-03-2020</td>\n",
              "      <td>My betrothed is a type-1 diabetic and manager ...</td>\n",
              "      <td>1</td>\n",
              "    </tr>\n",
              "    <tr>\n",
              "      <th>18296</th>\n",
              "      <td>26062</td>\n",
              "      <td>71014</td>\n",
              "      <td>Somerville, MA</td>\n",
              "      <td>25-03-2020</td>\n",
              "      <td>@UMassBoston @UMB_UR_BEST doctoral students wr...</td>\n",
              "      <td>1</td>\n",
              "    </tr>\n",
              "    <tr>\n",
              "      <th>14563</th>\n",
              "      <td>21497</td>\n",
              "      <td>66449</td>\n",
              "      <td>Manchester</td>\n",
              "      <td>23-03-2020</td>\n",
              "      <td>An excellent description from of the six thres...</td>\n",
              "      <td>1</td>\n",
              "    </tr>\n",
              "    <tr>\n",
              "      <th>24155</th>\n",
              "      <td>33326</td>\n",
              "      <td>78278</td>\n",
              "      <td>Langtoun, UK</td>\n",
              "      <td>05-04-2020</td>\n",
              "      <td>Local supermarket has a pre-opening hour exclu...</td>\n",
              "      <td>1</td>\n",
              "    </tr>\n",
              "    <tr>\n",
              "      <th>11469</th>\n",
              "      <td>17705</td>\n",
              "      <td>62657</td>\n",
              "      <td>Zurich - Dublin</td>\n",
              "      <td>21-03-2020</td>\n",
              "      <td>we ve put together a list of excellent recipe ...</td>\n",
              "      <td>1</td>\n",
              "    </tr>\n",
              "    <tr>\n",
              "      <th>19273</th>\n",
              "      <td>27258</td>\n",
              "      <td>72210</td>\n",
              "      <td>3rd planet in minor solar sys</td>\n",
              "      <td>26-03-2020</td>\n",
              "      <td>Talked to the excellent about about transmissi...</td>\n",
              "      <td>1</td>\n",
              "    </tr>\n",
              "    <tr>\n",
              "      <th>13355</th>\n",
              "      <td>20006</td>\n",
              "      <td>64958</td>\n",
              "      <td>Los Angeles, CA</td>\n",
              "      <td>22-03-2020</td>\n",
              "      <td>\"This particular edition of Writer's Lounge is...</td>\n",
              "      <td>1</td>\n",
              "    </tr>\n",
              "    <tr>\n",
              "      <th>25447</th>\n",
              "      <td>34966</td>\n",
              "      <td>79918</td>\n",
              "      <td>India</td>\n",
              "      <td>06-04-2020</td>\n",
              "      <td>Our ALL internal #auditor #Training  #course #...</td>\n",
              "      <td>1</td>\n",
              "    </tr>\n",
              "    <tr>\n",
              "      <th>31279</th>\n",
              "      <td>42276</td>\n",
              "      <td>87228</td>\n",
              "      <td>DÃÂ¼sseldorf, Germany</td>\n",
              "      <td>11-04-2020</td>\n",
              "      <td>Pro tip: wonder what to do with all the #toile...</td>\n",
              "      <td>1</td>\n",
              "    </tr>\n",
              "    <tr>\n",
              "      <th>19660</th>\n",
              "      <td>27738</td>\n",
              "      <td>72690</td>\n",
              "      <td>Unknown</td>\n",
              "      <td>26-03-2020</td>\n",
              "      <td>Harris Farm introduces excellent measures to f...</td>\n",
              "      <td>1</td>\n",
              "    </tr>\n",
              "    <tr>\n",
              "      <th>28949</th>\n",
              "      <td>39313</td>\n",
              "      <td>84265</td>\n",
              "      <td>Unknown</td>\n",
              "      <td>09-04-2020</td>\n",
              "      <td>There are some excellent online drop in sessio...</td>\n",
              "      <td>1</td>\n",
              "    </tr>\n",
              "    <tr>\n",
              "      <th>29159</th>\n",
              "      <td>39582</td>\n",
              "      <td>84534</td>\n",
              "      <td>Alabama</td>\n",
              "      <td>09-04-2020</td>\n",
              "      <td>This is an excellent idea , this stuff is rare...</td>\n",
              "      <td>1</td>\n",
              "    </tr>\n",
              "    <tr>\n",
              "      <th>27273</th>\n",
              "      <td>37248</td>\n",
              "      <td>82200</td>\n",
              "      <td>Brooklyn, NY</td>\n",
              "      <td>08-04-2020</td>\n",
              "      <td>I m currently furloughed from my grocery store...</td>\n",
              "      <td>1</td>\n",
              "    </tr>\n",
              "    <tr>\n",
              "      <th>17124</th>\n",
              "      <td>24641</td>\n",
              "      <td>69593</td>\n",
              "      <td>Miami, FL</td>\n",
              "      <td>25-03-2020</td>\n",
              "      <td>So just CNN Or how about the Daily Mail that h...</td>\n",
              "      <td>1</td>\n",
              "    </tr>\n",
              "    <tr>\n",
              "      <th>23842</th>\n",
              "      <td>32939</td>\n",
              "      <td>77891</td>\n",
              "      <td>England</td>\n",
              "      <td>05-04-2020</td>\n",
              "      <td>Tonight s much requested video is How to make ...</td>\n",
              "      <td>1</td>\n",
              "    </tr>\n",
              "    <tr>\n",
              "      <th>30061</th>\n",
              "      <td>40719</td>\n",
              "      <td>85671</td>\n",
              "      <td>Unknown</td>\n",
              "      <td>10-04-2020</td>\n",
              "      <td>The @ftc has compiled an excellent list of res...</td>\n",
              "      <td>1</td>\n",
              "    </tr>\n",
              "  </tbody>\n",
              "</table>\n",
              "</div>\n",
              "    <div class=\"colab-df-buttons\">\n",
              "\n",
              "  <div class=\"colab-df-container\">\n",
              "    <button class=\"colab-df-convert\" onclick=\"convertToInteractive('df-32ea6a1a-1cb8-4dc7-8af1-c0b008f498ef')\"\n",
              "            title=\"Convert this dataframe to an interactive table.\"\n",
              "            style=\"display:none;\">\n",
              "\n",
              "  <svg xmlns=\"http://www.w3.org/2000/svg\" height=\"24px\" viewBox=\"0 -960 960 960\">\n",
              "    <path d=\"M120-120v-720h720v720H120Zm60-500h600v-160H180v160Zm220 220h160v-160H400v160Zm0 220h160v-160H400v160ZM180-400h160v-160H180v160Zm440 0h160v-160H620v160ZM180-180h160v-160H180v160Zm440 0h160v-160H620v160Z\"/>\n",
              "  </svg>\n",
              "    </button>\n",
              "\n",
              "  <style>\n",
              "    .colab-df-container {\n",
              "      display:flex;\n",
              "      gap: 12px;\n",
              "    }\n",
              "\n",
              "    .colab-df-convert {\n",
              "      background-color: #E8F0FE;\n",
              "      border: none;\n",
              "      border-radius: 50%;\n",
              "      cursor: pointer;\n",
              "      display: none;\n",
              "      fill: #1967D2;\n",
              "      height: 32px;\n",
              "      padding: 0 0 0 0;\n",
              "      width: 32px;\n",
              "    }\n",
              "\n",
              "    .colab-df-convert:hover {\n",
              "      background-color: #E2EBFA;\n",
              "      box-shadow: 0px 1px 2px rgba(60, 64, 67, 0.3), 0px 1px 3px 1px rgba(60, 64, 67, 0.15);\n",
              "      fill: #174EA6;\n",
              "    }\n",
              "\n",
              "    .colab-df-buttons div {\n",
              "      margin-bottom: 4px;\n",
              "    }\n",
              "\n",
              "    [theme=dark] .colab-df-convert {\n",
              "      background-color: #3B4455;\n",
              "      fill: #D2E3FC;\n",
              "    }\n",
              "\n",
              "    [theme=dark] .colab-df-convert:hover {\n",
              "      background-color: #434B5C;\n",
              "      box-shadow: 0px 1px 3px 1px rgba(0, 0, 0, 0.15);\n",
              "      filter: drop-shadow(0px 1px 2px rgba(0, 0, 0, 0.3));\n",
              "      fill: #FFFFFF;\n",
              "    }\n",
              "  </style>\n",
              "\n",
              "    <script>\n",
              "      const buttonEl =\n",
              "        document.querySelector('#df-32ea6a1a-1cb8-4dc7-8af1-c0b008f498ef button.colab-df-convert');\n",
              "      buttonEl.style.display =\n",
              "        google.colab.kernel.accessAllowed ? 'block' : 'none';\n",
              "\n",
              "      async function convertToInteractive(key) {\n",
              "        const element = document.querySelector('#df-32ea6a1a-1cb8-4dc7-8af1-c0b008f498ef');\n",
              "        const dataTable =\n",
              "          await google.colab.kernel.invokeFunction('convertToInteractive',\n",
              "                                                    [key], {});\n",
              "        if (!dataTable) return;\n",
              "\n",
              "        const docLinkHtml = 'Like what you see? Visit the ' +\n",
              "          '<a target=\"_blank\" href=https://colab.research.google.com/notebooks/data_table.ipynb>data table notebook</a>'\n",
              "          + ' to learn more about interactive tables.';\n",
              "        element.innerHTML = '';\n",
              "        dataTable['output_type'] = 'display_data';\n",
              "        await google.colab.output.renderOutput(dataTable, element);\n",
              "        const docLink = document.createElement('div');\n",
              "        docLink.innerHTML = docLinkHtml;\n",
              "        element.appendChild(docLink);\n",
              "      }\n",
              "    </script>\n",
              "  </div>\n",
              "\n",
              "\n",
              "<div id=\"df-5cb7bc55-1106-4d5e-ab8e-0b8be4770969\">\n",
              "  <button class=\"colab-df-quickchart\" onclick=\"quickchart('df-5cb7bc55-1106-4d5e-ab8e-0b8be4770969')\"\n",
              "            title=\"Suggest charts\"\n",
              "            style=\"display:none;\">\n",
              "\n",
              "<svg xmlns=\"http://www.w3.org/2000/svg\" height=\"24px\"viewBox=\"0 0 24 24\"\n",
              "     width=\"24px\">\n",
              "    <g>\n",
              "        <path d=\"M19 3H5c-1.1 0-2 .9-2 2v14c0 1.1.9 2 2 2h14c1.1 0 2-.9 2-2V5c0-1.1-.9-2-2-2zM9 17H7v-7h2v7zm4 0h-2V7h2v10zm4 0h-2v-4h2v4z\"/>\n",
              "    </g>\n",
              "</svg>\n",
              "  </button>\n",
              "\n",
              "<style>\n",
              "  .colab-df-quickchart {\n",
              "      --bg-color: #E8F0FE;\n",
              "      --fill-color: #1967D2;\n",
              "      --hover-bg-color: #E2EBFA;\n",
              "      --hover-fill-color: #174EA6;\n",
              "      --disabled-fill-color: #AAA;\n",
              "      --disabled-bg-color: #DDD;\n",
              "  }\n",
              "\n",
              "  [theme=dark] .colab-df-quickchart {\n",
              "      --bg-color: #3B4455;\n",
              "      --fill-color: #D2E3FC;\n",
              "      --hover-bg-color: #434B5C;\n",
              "      --hover-fill-color: #FFFFFF;\n",
              "      --disabled-bg-color: #3B4455;\n",
              "      --disabled-fill-color: #666;\n",
              "  }\n",
              "\n",
              "  .colab-df-quickchart {\n",
              "    background-color: var(--bg-color);\n",
              "    border: none;\n",
              "    border-radius: 50%;\n",
              "    cursor: pointer;\n",
              "    display: none;\n",
              "    fill: var(--fill-color);\n",
              "    height: 32px;\n",
              "    padding: 0;\n",
              "    width: 32px;\n",
              "  }\n",
              "\n",
              "  .colab-df-quickchart:hover {\n",
              "    background-color: var(--hover-bg-color);\n",
              "    box-shadow: 0 1px 2px rgba(60, 64, 67, 0.3), 0 1px 3px 1px rgba(60, 64, 67, 0.15);\n",
              "    fill: var(--button-hover-fill-color);\n",
              "  }\n",
              "\n",
              "  .colab-df-quickchart-complete:disabled,\n",
              "  .colab-df-quickchart-complete:disabled:hover {\n",
              "    background-color: var(--disabled-bg-color);\n",
              "    fill: var(--disabled-fill-color);\n",
              "    box-shadow: none;\n",
              "  }\n",
              "\n",
              "  .colab-df-spinner {\n",
              "    border: 2px solid var(--fill-color);\n",
              "    border-color: transparent;\n",
              "    border-bottom-color: var(--fill-color);\n",
              "    animation:\n",
              "      spin 1s steps(1) infinite;\n",
              "  }\n",
              "\n",
              "  @keyframes spin {\n",
              "    0% {\n",
              "      border-color: transparent;\n",
              "      border-bottom-color: var(--fill-color);\n",
              "      border-left-color: var(--fill-color);\n",
              "    }\n",
              "    20% {\n",
              "      border-color: transparent;\n",
              "      border-left-color: var(--fill-color);\n",
              "      border-top-color: var(--fill-color);\n",
              "    }\n",
              "    30% {\n",
              "      border-color: transparent;\n",
              "      border-left-color: var(--fill-color);\n",
              "      border-top-color: var(--fill-color);\n",
              "      border-right-color: var(--fill-color);\n",
              "    }\n",
              "    40% {\n",
              "      border-color: transparent;\n",
              "      border-right-color: var(--fill-color);\n",
              "      border-top-color: var(--fill-color);\n",
              "    }\n",
              "    60% {\n",
              "      border-color: transparent;\n",
              "      border-right-color: var(--fill-color);\n",
              "    }\n",
              "    80% {\n",
              "      border-color: transparent;\n",
              "      border-right-color: var(--fill-color);\n",
              "      border-bottom-color: var(--fill-color);\n",
              "    }\n",
              "    90% {\n",
              "      border-color: transparent;\n",
              "      border-bottom-color: var(--fill-color);\n",
              "    }\n",
              "  }\n",
              "</style>\n",
              "\n",
              "  <script>\n",
              "    async function quickchart(key) {\n",
              "      const quickchartButtonEl =\n",
              "        document.querySelector('#' + key + ' button');\n",
              "      quickchartButtonEl.disabled = true;  // To prevent multiple clicks.\n",
              "      quickchartButtonEl.classList.add('colab-df-spinner');\n",
              "      try {\n",
              "        const charts = await google.colab.kernel.invokeFunction(\n",
              "            'suggestCharts', [key], {});\n",
              "      } catch (error) {\n",
              "        console.error('Error during call to suggestCharts:', error);\n",
              "      }\n",
              "      quickchartButtonEl.classList.remove('colab-df-spinner');\n",
              "      quickchartButtonEl.classList.add('colab-df-quickchart-complete');\n",
              "    }\n",
              "    (() => {\n",
              "      let quickchartButtonEl =\n",
              "        document.querySelector('#df-5cb7bc55-1106-4d5e-ab8e-0b8be4770969 button');\n",
              "      quickchartButtonEl.style.display =\n",
              "        google.colab.kernel.accessAllowed ? 'block' : 'none';\n",
              "    })();\n",
              "  </script>\n",
              "</div>\n",
              "    </div>\n",
              "  </div>\n"
            ],
            "application/vnd.google.colaboratory.intrinsic+json": {
              "type": "dataframe",
              "summary": "{\n  \"name\": \"train[train['OriginalTweet']\",\n  \"rows\": 20,\n  \"fields\": [\n    {\n      \"column\": \"UserName\",\n      \"properties\": {\n        \"dtype\": \"number\",\n        \"std\": 8440,\n        \"min\": 14419,\n        \"max\": 42276,\n        \"num_unique_values\": 20,\n        \"samples\": [\n          29445,\n          24641,\n          39582\n        ],\n        \"semantic_type\": \"\",\n        \"description\": \"\"\n      }\n    },\n    {\n      \"column\": \"ScreenName\",\n      \"properties\": {\n        \"dtype\": \"number\",\n        \"std\": 8440,\n        \"min\": 59371,\n        \"max\": 87228,\n        \"num_unique_values\": 20,\n        \"samples\": [\n          74397,\n          69593,\n          84534\n        ],\n        \"semantic_type\": \"\",\n        \"description\": \"\"\n      }\n    },\n    {\n      \"column\": \"Location\",\n      \"properties\": {\n        \"dtype\": \"string\",\n        \"num_unique_values\": 17,\n        \"samples\": [\n          \"Falls Church, VA\",\n          \"Unknown\",\n          \"Somerville, MA\"\n        ],\n        \"semantic_type\": \"\",\n        \"description\": \"\"\n      }\n    },\n    {\n      \"column\": \"TweetAt\",\n      \"properties\": {\n        \"dtype\": \"string\",\n        \"num_unique_values\": 13,\n        \"samples\": [\n          \"08-04-2020\",\n          \"06-04-2020\",\n          \"01-04-2020\"\n        ],\n        \"semantic_type\": \"\",\n        \"description\": \"\"\n      }\n    },\n    {\n      \"column\": \"OriginalTweet\",\n      \"properties\": {\n        \"dtype\": \"string\",\n        \"num_unique_values\": 20,\n        \"samples\": [\n          \"I have to shout @Publix grocery store ? you guys are doing a excellent job keeping the Shelves stock with Food I thank you ?? and all your employees #COVID?19 #coronavirus #GroceryStores #groceryshopping ??????\",\n          \"So just CNN Or how about the Daily Mail that had that excellent story on how people should eat fish tank chemicals\",\n          \"This is an excellent idea , this stuff is rare. ??? https://t.co/ksqL90CCeG\"\n        ],\n        \"semantic_type\": \"\",\n        \"description\": \"\"\n      }\n    },\n    {\n      \"column\": \"Sentiment\",\n      \"properties\": {\n        \"dtype\": \"number\",\n        \"std\": 0,\n        \"min\": 1,\n        \"max\": 1,\n        \"num_unique_values\": 1,\n        \"samples\": [\n          1\n        ],\n        \"semantic_type\": \"\",\n        \"description\": \"\"\n      }\n    }\n  ]\n}"
            }
          },
          "metadata": {},
          "execution_count": 40
        }
      ],
      "source": [
        "train[train['OriginalTweet'].apply(lambda x: 'excellent' in x) & (train['Sentiment'] == 1)]"
      ]
    },
    {
      "cell_type": "code",
      "execution_count": null,
      "metadata": {
        "colab": {
          "base_uri": "https://localhost:8080/",
          "height": 81
        },
        "id": "jSjbKPCWk87K",
        "outputId": "2f7466a8-54aa-4382-c354-a16261b4a1f7"
      },
      "outputs": [
        {
          "output_type": "execute_result",
          "data": {
            "text/plain": [
              "      behavior  consumer  description  excellent     means    phases  \\\n",
              "5462  0.256677  0.148265      0.45937   0.337931  0.272415  0.410693   \n",
              "\n",
              "        result      six  thresholds  \n",
              "5462  0.265492  0.31334    0.418772  "
            ],
            "text/html": [
              "\n",
              "  <div id=\"df-f1d9624b-4a07-4462-bb45-ae727990dad6\" class=\"colab-df-container\">\n",
              "    <div>\n",
              "<style scoped>\n",
              "    .dataframe tbody tr th:only-of-type {\n",
              "        vertical-align: middle;\n",
              "    }\n",
              "\n",
              "    .dataframe tbody tr th {\n",
              "        vertical-align: top;\n",
              "    }\n",
              "\n",
              "    .dataframe thead th {\n",
              "        text-align: right;\n",
              "    }\n",
              "</style>\n",
              "<table border=\"1\" class=\"dataframe\">\n",
              "  <thead>\n",
              "    <tr style=\"text-align: right;\">\n",
              "      <th></th>\n",
              "      <th>behavior</th>\n",
              "      <th>consumer</th>\n",
              "      <th>description</th>\n",
              "      <th>excellent</th>\n",
              "      <th>means</th>\n",
              "      <th>phases</th>\n",
              "      <th>result</th>\n",
              "      <th>six</th>\n",
              "      <th>thresholds</th>\n",
              "    </tr>\n",
              "  </thead>\n",
              "  <tbody>\n",
              "    <tr>\n",
              "      <th>5462</th>\n",
              "      <td>0.256677</td>\n",
              "      <td>0.148265</td>\n",
              "      <td>0.45937</td>\n",
              "      <td>0.337931</td>\n",
              "      <td>0.272415</td>\n",
              "      <td>0.410693</td>\n",
              "      <td>0.265492</td>\n",
              "      <td>0.31334</td>\n",
              "      <td>0.418772</td>\n",
              "    </tr>\n",
              "  </tbody>\n",
              "</table>\n",
              "</div>\n",
              "    <div class=\"colab-df-buttons\">\n",
              "\n",
              "  <div class=\"colab-df-container\">\n",
              "    <button class=\"colab-df-convert\" onclick=\"convertToInteractive('df-f1d9624b-4a07-4462-bb45-ae727990dad6')\"\n",
              "            title=\"Convert this dataframe to an interactive table.\"\n",
              "            style=\"display:none;\">\n",
              "\n",
              "  <svg xmlns=\"http://www.w3.org/2000/svg\" height=\"24px\" viewBox=\"0 -960 960 960\">\n",
              "    <path d=\"M120-120v-720h720v720H120Zm60-500h600v-160H180v160Zm220 220h160v-160H400v160Zm0 220h160v-160H400v160ZM180-400h160v-160H180v160Zm440 0h160v-160H620v160ZM180-180h160v-160H180v160Zm440 0h160v-160H620v160Z\"/>\n",
              "  </svg>\n",
              "    </button>\n",
              "\n",
              "  <style>\n",
              "    .colab-df-container {\n",
              "      display:flex;\n",
              "      gap: 12px;\n",
              "    }\n",
              "\n",
              "    .colab-df-convert {\n",
              "      background-color: #E8F0FE;\n",
              "      border: none;\n",
              "      border-radius: 50%;\n",
              "      cursor: pointer;\n",
              "      display: none;\n",
              "      fill: #1967D2;\n",
              "      height: 32px;\n",
              "      padding: 0 0 0 0;\n",
              "      width: 32px;\n",
              "    }\n",
              "\n",
              "    .colab-df-convert:hover {\n",
              "      background-color: #E2EBFA;\n",
              "      box-shadow: 0px 1px 2px rgba(60, 64, 67, 0.3), 0px 1px 3px 1px rgba(60, 64, 67, 0.15);\n",
              "      fill: #174EA6;\n",
              "    }\n",
              "\n",
              "    .colab-df-buttons div {\n",
              "      margin-bottom: 4px;\n",
              "    }\n",
              "\n",
              "    [theme=dark] .colab-df-convert {\n",
              "      background-color: #3B4455;\n",
              "      fill: #D2E3FC;\n",
              "    }\n",
              "\n",
              "    [theme=dark] .colab-df-convert:hover {\n",
              "      background-color: #434B5C;\n",
              "      box-shadow: 0px 1px 3px 1px rgba(0, 0, 0, 0.15);\n",
              "      filter: drop-shadow(0px 1px 2px rgba(0, 0, 0, 0.3));\n",
              "      fill: #FFFFFF;\n",
              "    }\n",
              "  </style>\n",
              "\n",
              "    <script>\n",
              "      const buttonEl =\n",
              "        document.querySelector('#df-f1d9624b-4a07-4462-bb45-ae727990dad6 button.colab-df-convert');\n",
              "      buttonEl.style.display =\n",
              "        google.colab.kernel.accessAllowed ? 'block' : 'none';\n",
              "\n",
              "      async function convertToInteractive(key) {\n",
              "        const element = document.querySelector('#df-f1d9624b-4a07-4462-bb45-ae727990dad6');\n",
              "        const dataTable =\n",
              "          await google.colab.kernel.invokeFunction('convertToInteractive',\n",
              "                                                    [key], {});\n",
              "        if (!dataTable) return;\n",
              "\n",
              "        const docLinkHtml = 'Like what you see? Visit the ' +\n",
              "          '<a target=\"_blank\" href=https://colab.research.google.com/notebooks/data_table.ipynb>data table notebook</a>'\n",
              "          + ' to learn more about interactive tables.';\n",
              "        element.innerHTML = '';\n",
              "        dataTable['output_type'] = 'display_data';\n",
              "        await google.colab.output.renderOutput(dataTable, element);\n",
              "        const docLink = document.createElement('div');\n",
              "        docLink.innerHTML = docLinkHtml;\n",
              "        element.appendChild(docLink);\n",
              "      }\n",
              "    </script>\n",
              "  </div>\n",
              "\n",
              "    </div>\n",
              "  </div>\n"
            ],
            "application/vnd.google.colaboratory.intrinsic+json": {
              "type": "dataframe",
              "variable_name": "vec_1",
              "summary": "{\n  \"name\": \"vec_1\",\n  \"rows\": 1,\n  \"fields\": [\n    {\n      \"column\": \"behavior\",\n      \"properties\": {\n        \"dtype\": \"number\",\n        \"std\": null,\n        \"min\": 0.25667680910909446,\n        \"max\": 0.25667680910909446,\n        \"num_unique_values\": 1,\n        \"samples\": [\n          0.25667680910909446\n        ],\n        \"semantic_type\": \"\",\n        \"description\": \"\"\n      }\n    },\n    {\n      \"column\": \"consumer\",\n      \"properties\": {\n        \"dtype\": \"number\",\n        \"std\": null,\n        \"min\": 0.1482648299923846,\n        \"max\": 0.1482648299923846,\n        \"num_unique_values\": 1,\n        \"samples\": [\n          0.1482648299923846\n        ],\n        \"semantic_type\": \"\",\n        \"description\": \"\"\n      }\n    },\n    {\n      \"column\": \"description\",\n      \"properties\": {\n        \"dtype\": \"number\",\n        \"std\": null,\n        \"min\": 0.4593699414050845,\n        \"max\": 0.4593699414050845,\n        \"num_unique_values\": 1,\n        \"samples\": [\n          0.4593699414050845\n        ],\n        \"semantic_type\": \"\",\n        \"description\": \"\"\n      }\n    },\n    {\n      \"column\": \"excellent\",\n      \"properties\": {\n        \"dtype\": \"number\",\n        \"std\": null,\n        \"min\": 0.33793069591347896,\n        \"max\": 0.33793069591347896,\n        \"num_unique_values\": 1,\n        \"samples\": [\n          0.33793069591347896\n        ],\n        \"semantic_type\": \"\",\n        \"description\": \"\"\n      }\n    },\n    {\n      \"column\": \"means\",\n      \"properties\": {\n        \"dtype\": \"number\",\n        \"std\": null,\n        \"min\": 0.272414910250524,\n        \"max\": 0.272414910250524,\n        \"num_unique_values\": 1,\n        \"samples\": [\n          0.272414910250524\n        ],\n        \"semantic_type\": \"\",\n        \"description\": \"\"\n      }\n    },\n    {\n      \"column\": \"phases\",\n      \"properties\": {\n        \"dtype\": \"number\",\n        \"std\": null,\n        \"min\": 0.41069338740738137,\n        \"max\": 0.41069338740738137,\n        \"num_unique_values\": 1,\n        \"samples\": [\n          0.41069338740738137\n        ],\n        \"semantic_type\": \"\",\n        \"description\": \"\"\n      }\n    },\n    {\n      \"column\": \"result\",\n      \"properties\": {\n        \"dtype\": \"number\",\n        \"std\": null,\n        \"min\": 0.26549192352500045,\n        \"max\": 0.26549192352500045,\n        \"num_unique_values\": 1,\n        \"samples\": [\n          0.26549192352500045\n        ],\n        \"semantic_type\": \"\",\n        \"description\": \"\"\n      }\n    },\n    {\n      \"column\": \"six\",\n      \"properties\": {\n        \"dtype\": \"number\",\n        \"std\": null,\n        \"min\": 0.3133402794119749,\n        \"max\": 0.3133402794119749,\n        \"num_unique_values\": 1,\n        \"samples\": [\n          0.3133402794119749\n        ],\n        \"semantic_type\": \"\",\n        \"description\": \"\"\n      }\n    },\n    {\n      \"column\": \"thresholds\",\n      \"properties\": {\n        \"dtype\": \"number\",\n        \"std\": null,\n        \"min\": 0.4187715649371316,\n        \"max\": 0.4187715649371316,\n        \"num_unique_values\": 1,\n        \"samples\": [\n          0.4187715649371316\n        ],\n        \"semantic_type\": \"\",\n        \"description\": \"\"\n      }\n    }\n  ]\n}"
            }
          },
          "metadata": {},
          "execution_count": 36
        }
      ],
      "source": [
        "index = 5462\n",
        "vec_1 = pd.DataFrame(data=full_text.toarray(), columns=tfidf_vec.get_feature_names_out()).iloc[[index]]\n",
        "vec_1 = vec_1.drop(columns=vec_1.columns[vec_1.iloc[0] == 0])\n",
        "vec_1"
      ]
    },
    {
      "cell_type": "code",
      "execution_count": null,
      "metadata": {
        "colab": {
          "base_uri": "https://localhost:8080/",
          "height": 36
        },
        "id": "qGD_-tyQWVDu",
        "outputId": "5a461f40-1080-49b1-bbae-f1c5ce0c9710"
      },
      "outputs": [
        {
          "output_type": "execute_result",
          "data": {
            "text/plain": [
              "'Nice one @SkyNews lets not panic but show ppl in france queueing for food!!! #CoronavirusOutbreak #COVID2019 brainless!! Ffs'"
            ],
            "application/vnd.google.colaboratory.intrinsic+json": {
              "type": "string"
            }
          },
          "metadata": {},
          "execution_count": 42
        }
      ],
      "source": [
        "train.iloc[ind]['OriginalTweet']"
      ]
    },
    {
      "cell_type": "markdown",
      "metadata": {
        "id": "JTv9ST2_U6NA"
      },
      "source": [
        "**Ответ:** Я выбрал слово 'excellent', и как мы видим, он имеет большой вес для описания твита, так как тут написано как хорошо были описаны какие-то фазы поведения человека."
      ]
    },
    {
      "cell_type": "markdown",
      "metadata": {
        "id": "JVEuZm8BHms6"
      },
      "source": [
        "## Задание 4 Обучение первых моделей (1 балл)"
      ]
    },
    {
      "cell_type": "markdown",
      "metadata": {
        "id": "JADkO3sfXdOG"
      },
      "source": [
        "Примените оба векторайзера для получения матриц с признаками текстов.  Выделите целевую переменную."
      ]
    },
    {
      "cell_type": "code",
      "execution_count": null,
      "metadata": {
        "id": "DguoiXhCX2oN"
      },
      "outputs": [],
      "source": [
        "X_train = train.loc[:, train.columns != 'Sentiment']\n",
        "y_train = train['Sentiment']\n",
        "\n",
        "X_test = test.loc[:, test.columns != 'Sentiment']\n",
        "y_test = test['Sentiment']\n",
        "\n",
        "train_tweet_cv = cv.fit_transform(X_train['OriginalTweet'])\n",
        "test_tweet_cv = cv.transform(X_test['OriginalTweet'])\n",
        "\n",
        "train_tweet_tfidf = tfidf_vec.fit_transform(X_train['OriginalTweet'])\n",
        "test_tweet_tfidf = tfidf_vec.transform(X_test['OriginalTweet'])"
      ]
    },
    {
      "cell_type": "markdown",
      "metadata": {
        "id": "_FX1KSOfYSx4"
      },
      "source": [
        "Обучите логистическую регрессию на векторах из обоих векторайзеров. Посчитайте долю правильных ответов на обучающих и тестовых данных. Какой векторайзер показал лучший результат? Что можно сказать о моделях?"
      ]
    },
    {
      "cell_type": "code",
      "execution_count": null,
      "metadata": {
        "colab": {
          "base_uri": "https://localhost:8080/"
        },
        "id": "-Tb3eh8UXJ6v",
        "outputId": "6abb3b4e-b180-4496-e4a0-e475b35dcae0"
      },
      "outputs": [
        {
          "output_type": "stream",
          "name": "stdout",
          "text": [
            "Accuracy для cv на train 0.9844510892780863\n",
            "Accuracy для cv на test 0.8674506677297189\n"
          ]
        }
      ],
      "source": [
        "from sklearn.linear_model import LogisticRegression\n",
        "from sklearn.metrics import accuracy_score\n",
        "\n",
        "logreg = LogisticRegression()\n",
        "for_cv_fit = logreg.fit(train_tweet_cv, y_train)\n",
        "\n",
        "print(f\"Accuracy для cv на train {accuracy_score(for_cv_fit.predict(train_tweet_cv),y_train)}\")\n",
        "print(f\"Accuracy для cv на test {accuracy_score(for_cv_fit.predict(test_tweet_cv),y_test)}\")"
      ]
    },
    {
      "cell_type": "code",
      "execution_count": null,
      "metadata": {
        "id": "9NIY9g5S5ySt"
      },
      "outputs": [],
      "source": [
        "for_tfidf_fit = logreg.fit(train_tweet_tfidf, y_train)\n",
        "print(f\"Accuracy для tfidf на train {accuracy_score(for_tfidf_fit.predict(train_tweet_tfidf),y_train)}\")\n",
        "print(f\"Accuracy для tfidf на test {accuracy_score(for_tfidf_fit.predict(test_tweet_tfidf),y_test)}\")"
      ]
    },
    {
      "cell_type": "markdown",
      "metadata": {
        "id": "8y_wO7rCmv7K"
      },
      "source": [
        "**Ответ:** На countvectorizer-e качество хуже, чем y tfidf. Также можно заметить переобучение у CV."
      ]
    },
    {
      "cell_type": "markdown",
      "metadata": {
        "id": "rSOR1i3mjrys"
      },
      "source": [
        "## Задание 5 Стемминг (0.5 балла)"
      ]
    },
    {
      "cell_type": "markdown",
      "metadata": {
        "id": "i6ONBWNPjuq-"
      },
      "source": [
        "Для уменьшения словаря можно использовать стемминг.\n",
        "\n",
        "Модифицируйте написанный токенайзер, добавив в него стемминг с использованием SnowballStemmer. Обучите Count- и Tfidf- векторайзеры. Как изменился размер словаря?"
      ]
    },
    {
      "cell_type": "code",
      "execution_count": null,
      "metadata": {
        "id": "oVfA2-iMkQBb"
      },
      "outputs": [],
      "source": [
        "from nltk.stem.snowball import SnowballStemmer\n",
        "stemmer = SnowballStemmer(\"english\")\n",
        "def custom_stem_tokenizer(text):\n",
        "  text_1 = text.lower()\n",
        "  list_tokens = tweet_tokenizer.tokenize(text_1)\n",
        "  tokens = list_tokens.copy()\n",
        "  for word in list_tokens:\n",
        "     if word in list(stop_words) or word in list(punctuation) or (len(word) == 1 and ord(word) >= 128) or word[0:12] == 'https://t.co':\n",
        "      tokens.remove(word)\n",
        "\n",
        "  tokens_new = []\n",
        "  for word in tokens:\n",
        "    token_stem = stemmer.stem(word)\n",
        "    tokens_new.append(token_stem)\n",
        "\n",
        "  return tokens_new"
      ]
    },
    {
      "cell_type": "code",
      "execution_count": null,
      "metadata": {
        "colab": {
          "base_uri": "https://localhost:8080/"
        },
        "id": "9QmrjYtqnlPd",
        "outputId": "25ec98b1-7504-4b1b-8a87-12289b2fe9f6"
      },
      "outputs": [
        {
          "output_type": "execute_result",
          "data": {
            "text/plain": [
              "['sampl', 'text', '@sample_text', '#sampletext', 'ad', 'word', 'check', 'stem']"
            ]
          },
          "metadata": {},
          "execution_count": 42
        }
      ],
      "source": [
        "custom_stem_tokenizer('This is sample text!!!! @Sample_text I, \\x92\\x92 https://t.co/sample  #sampletext adding more words to check stemming')"
      ]
    },
    {
      "cell_type": "code",
      "execution_count": null,
      "metadata": {
        "colab": {
          "base_uri": "https://localhost:8080/"
        },
        "id": "vu_pq14O2GnK",
        "outputId": "6edae4e4-a458-4430-928c-e1b0ee802009"
      },
      "outputs": [
        {
          "output_type": "stream",
          "name": "stdout",
          "text": [
            "36652\n"
          ]
        }
      ],
      "source": [
        "cv = CountVectorizer(tokenizer = custom_stem_tokenizer)\n",
        "tfidf = TfidfVectorizer(tokenizer = custom_stem_tokenizer)\n",
        "\n",
        "train_tweet_cv = cv.fit_transform(X_train['OriginalTweet'])\n",
        "train_tweet_tfidf = tfidf.fit_transform(X_train['OriginalTweet'])\n",
        "\n",
        "print(len(cv.vocabulary_))"
      ]
    },
    {
      "cell_type": "markdown",
      "metadata": {
        "id": "Oyzs5TaAoHP6"
      },
      "source": [
        "**Ответ** Словарь уменьшился около на 12к слов, что поможет сократить время при обучении модели и сохранить самые важные токены.\n"
      ]
    },
    {
      "cell_type": "markdown",
      "metadata": {
        "id": "1OkncHI8oRmd"
      },
      "source": [
        "Обучите логистическую регрессию с использованием обоих векторайзеров. Изменилось ли качество? Есть ли смысл применять стемминг?"
      ]
    },
    {
      "cell_type": "code",
      "execution_count": null,
      "metadata": {
        "colab": {
          "base_uri": "https://localhost:8080/"
        },
        "id": "ykZJPphEoZ5W",
        "outputId": "fea56ed9-d25b-436c-f035-b2d14eff022e"
      },
      "outputs": [
        {
          "output_type": "stream",
          "name": "stdout",
          "text": [
            "Accuracy для cv на train 0.9717642033319095\n",
            "Accuracy для cv на test 0.8674506677297189\n"
          ]
        }
      ],
      "source": [
        "test_tweet_cv = cv.transform(X_test['OriginalTweet'])\n",
        "\n",
        "logreg.fit(train_tweet_cv, y_train)\n",
        "print(f\"Accuracy для cv на train {accuracy_score(logreg.predict(train_tweet_cv),y_train)}\")\n",
        "print(f\"Accuracy для cv на test {accuracy_score(logreg.predict(test_tweet_cv),y_test)}\")"
      ]
    },
    {
      "cell_type": "code",
      "execution_count": null,
      "metadata": {
        "colab": {
          "base_uri": "https://localhost:8080/"
        },
        "id": "KFcdmtAA7YdO",
        "outputId": "08bfc1c5-3855-4aeb-d013-7818c97e78f4"
      },
      "outputs": [
        {
          "output_type": "stream",
          "name": "stdout",
          "text": [
            "Accuracy для tfidf на train 0.9158906450234943\n",
            "Accuracy для tfidf на test 0.8560892963922663\n"
          ]
        }
      ],
      "source": [
        "test_tweet_tfidf = tfidf.transform(X_test['OriginalTweet'])\n",
        "\n",
        "logreg.fit(train_tweet_tfidf, y_train)\n",
        "print(f\"Accuracy для tfidf на train {accuracy_score(logreg.predict(train_tweet_tfidf),y_train)}\")\n",
        "print(f\"Accuracy для tfidf на test {accuracy_score(logreg.predict(test_tweet_tfidf),y_test)}\")"
      ]
    },
    {
      "cell_type": "markdown",
      "metadata": {
        "id": "bCRlrODro0h8"
      },
      "source": [
        "**Ответ:** В целом, изменение токенайзера нам ничего не дало, изменение качетсв моделей почти несущественное."
      ]
    },
    {
      "cell_type": "markdown",
      "metadata": {
        "id": "hYWGQNEDqLC-"
      },
      "source": [
        "## Задание  6 Работа с частотами (1.5 балла)"
      ]
    },
    {
      "cell_type": "markdown",
      "metadata": {
        "id": "8Hq-tl5mqUSn"
      },
      "source": [
        "Еще один способ уменьшить количество признаков - это использовать параметры min_df и max_df при построении векторайзера  эти параметры помогают ограничить требуемую частоту встречаемости токена в документах.\n",
        "\n",
        "По умолчанию берутся все токены, которые встретились хотя бы один раз.\n",
        "\n"
      ]
    },
    {
      "cell_type": "markdown",
      "metadata": {
        "id": "m1SiD4DE3WZ2"
      },
      "source": [
        "Подберите max_df такой, что размер словаря будет 36651 (на 1 меньше, чем было). Почему параметр получился такой большой/маленький?"
      ]
    },
    {
      "cell_type": "code",
      "execution_count": null,
      "metadata": {
        "colab": {
          "base_uri": "https://localhost:8080/"
        },
        "id": "VOYM-IlaVzwB",
        "outputId": "9fd4abc5-e9cb-4118-ffa3-b14d74d47bc0"
      },
      "outputs": [
        {
          "output_type": "stream",
          "name": "stdout",
          "text": [
            "36651\n"
          ]
        }
      ],
      "source": [
        "cv_df_max = CountVectorizer(tokenizer=custom_stem_tokenizer,\n",
        "                        max_df=7000\n",
        "                        ).fit(\n",
        "                            train['OriginalTweet']\n",
        "                            )\n",
        "print(len(cv_df_max.vocabulary_))"
      ]
    },
    {
      "cell_type": "code",
      "execution_count": null,
      "metadata": {
        "colab": {
          "base_uri": "https://localhost:8080/"
        },
        "id": "tyEpkJUkjnuK",
        "outputId": "f2544b1f-9d19-4be9-c1be-6811fdff827d"
      },
      "outputs": [
        {
          "output_type": "stream",
          "name": "stdout",
          "text": [
            "Accuracy для cv на train 0.9716360529688167\n",
            "Accuracy для cv на test 0.8681482957942994\n"
          ]
        }
      ],
      "source": [
        "# Обучу логрег тут для df_max\n",
        "\n",
        "train_tweet_cv_df_max = cv_df_max.fit_transform(X_train['OriginalTweet'])\n",
        "test_tweet_cv_df_max = cv_df_max.transform(X_test['OriginalTweet'])\n",
        "\n",
        "logreg.fit(train_tweet_cv_df_max, y_train)\n",
        "\n",
        "print(f\"Accuracy для cv на train {accuracy_score(logreg.predict(train_tweet_cv_df_max),y_train)}\")\n",
        "print(f\"Accuracy для cv на test {accuracy_score(logreg.predict(test_tweet_cv_df_max),y_test)}\")"
      ]
    },
    {
      "cell_type": "markdown",
      "metadata": {
        "id": "UdZYoGZR4UsA"
      },
      "source": [
        "**Ответ:** Ну мы убрали одно слово (скорее всего #coronavirus) из-за этого качество модели почти не изменилось по сравнению с предыдущим обучением. Параметр такой большой, так как мы выкинули всего лишь одно слово, и это самое популярное слово.\n"
      ]
    },
    {
      "cell_type": "markdown",
      "metadata": {
        "id": "_gRIUaB1u32f"
      },
      "source": [
        "Подберите min_df (используйте дефолтное значение max_df) в CountVectorizer таким образом, чтобы размер словаря был 3700 токенов (при использовании токенайзера со стеммингом), а качество осталось таким же, как и было. Что можно сказать о результатах?"
      ]
    },
    {
      "cell_type": "code",
      "execution_count": null,
      "metadata": {
        "colab": {
          "base_uri": "https://localhost:8080/"
        },
        "id": "kSnMJkn9XmsT",
        "outputId": "4d6af872-bfd9-4440-c571-b85771fa3194"
      },
      "outputs": [
        {
          "output_type": "stream",
          "name": "stdout",
          "text": [
            "3700\n"
          ]
        }
      ],
      "source": [
        "cv_df_min = CountVectorizer(tokenizer=custom_stem_tokenizer,\n",
        "                        min_df=11\n",
        "                        ).fit(\n",
        "                            train['OriginalTweet']\n",
        "                            )\n",
        "print(len(cv_df_min.vocabulary_))"
      ]
    },
    {
      "cell_type": "code",
      "execution_count": null,
      "metadata": {
        "colab": {
          "base_uri": "https://localhost:8080/"
        },
        "id": "mvMDwpdfjm8Y",
        "outputId": "8afa7c2d-ec96-458b-c46e-f99f6142317a"
      },
      "outputs": [
        {
          "output_type": "stream",
          "name": "stdout",
          "text": [
            "Accuracy для cv на train 0.9284493806065783\n",
            "Accuracy для cv на test 0.8677496511859677\n"
          ]
        }
      ],
      "source": [
        "# Обучу логрег тут тоже для df_min\n",
        "\n",
        "train_tweet_cv_df_min = cv_df_min.fit_transform(X_train['OriginalTweet'])\n",
        "test_tweet_cv_df_min = cv_df_min.transform(X_test['OriginalTweet'])\n",
        "\n",
        "logreg.fit(train_tweet_cv_df_min, y_train)\n",
        "\n",
        "print(f\"Accuracy для cv на train {accuracy_score(logreg.predict(train_tweet_cv_df_min),y_train)}\")\n",
        "print(f\"Accuracy для cv на test {accuracy_score(logreg.predict(test_tweet_cv_df_min),y_test)}\")"
      ]
    },
    {
      "cell_type": "markdown",
      "metadata": {
        "id": "3fGYpUIZx0fk"
      },
      "source": [
        "**Ответ:** На трейне accuracy сильно упал, а на тесте ничего не изменилось. Можно сказать, что модель теперь не переобучен."
      ]
    },
    {
      "cell_type": "markdown",
      "metadata": {
        "id": "Gx_h_-inKbBl"
      },
      "source": [
        "В предыдущих заданиях признаки не скалировались. Отскалируйте данные (при словаре размера 3.7 тысяч, векторизованные CountVectorizer), обучите логистическую регрессию, посмотрите качество и выведите `berplot` содержащий по 10 токенов, с наибольшим по модулю положительными/отрицательными весами. Что можно сказать об этих токенах?"
      ]
    },
    {
      "cell_type": "code",
      "execution_count": null,
      "metadata": {
        "colab": {
          "base_uri": "https://localhost:8080/"
        },
        "id": "KBATXJX6LG9q",
        "outputId": "9497596f-24f2-4f4e-8f86-5edb42b711ba"
      },
      "outputs": [
        {
          "output_type": "stream",
          "name": "stdout",
          "text": [
            "Accuracy для cv на train 0.9416915847928236\n",
            "Accuracy для cv на test 0.8447279250548136\n"
          ]
        }
      ],
      "source": [
        "from sklearn.preprocessing import StandardScaler\n",
        "\n",
        "scaler = StandardScaler(with_mean=False).fit(train_tweet_cv_df_min)\n",
        "train_tweet_cv_df_min_scaled = scaler.transform(train_tweet_cv_df_min)\n",
        "test_tweet_cv_df_min_scaled = scaler.transform(test_tweet_cv_df_min)\n",
        "\n",
        "logreg.fit(train_tweet_cv_df_min_scaled, y_train)\n",
        "\n",
        "print(f\"Accuracy для cv на train {accuracy_score(logreg.predict(train_tweet_cv_df_min_scaled),y_train)}\")\n",
        "print(f\"Accuracy для cv на test {accuracy_score(logreg.predict(test_tweet_cv_df_min_scaled),y_test)}\")"
      ]
    },
    {
      "cell_type": "markdown",
      "metadata": {
        "id": "L4-W0gOIyEVl"
      },
      "source": [
        "Качество модели на тесте увеличилось,как и на трейне по сравнению с предыдущим пунктом."
      ]
    },
    {
      "cell_type": "code",
      "execution_count": null,
      "metadata": {
        "colab": {
          "base_uri": "https://localhost:8080/",
          "height": 472
        },
        "id": "WV3KLX0Fimbx",
        "outputId": "829a7d90-c6fa-4f19-a36e-99f4dcfdd987"
      },
      "outputs": [
        {
          "output_type": "display_data",
          "data": {
            "text/plain": [
              "<Figure size 640x480 with 1 Axes>"
            ],
            "image/png": "[encoded data removed]"
          },
          "metadata": {}
        }
      ],
      "source": [
        "# Теперь надо будет нарисовать график\n",
        "\n",
        "coefs = np.abs(logreg.coef_[0])\n",
        "feature_names = cv_df_min.get_feature_names_out()\n",
        "top_10_max_w = np.sort(coefs)[-10:]\n",
        "top_10_max_w_indexes = np.argsort(coefs)[-10:]\n",
        "top_10_max_w_names = [feature_names[name] for name in top_10_max_w_indexes]\n",
        "\n",
        "sns.barplot(y=top_10_max_w, x = top_10_max_w_names)\n",
        "plt.title('Веса и их названия')\n",
        "plt.xlabel('Названия весов')\n",
        "plt.ylabel('Значение весов')\n",
        "plt.show()"
      ]
    },
    {
      "cell_type": "markdown",
      "metadata": {
        "id": "ThcEfzY1LHET"
      },
      "source": [
        "**Ответ:** Тут в основном слова, которые хорошо описывают ситуацию или затрагивают важные темы 2020г. Напрмер, кризис, паника, помощь и тд."
      ]
    },
    {
      "cell_type": "markdown",
      "metadata": {
        "id": "ktJVOdrIHq7B"
      },
      "source": [
        "## Задание 7 Другие признаки (1.5 балла)"
      ]
    },
    {
      "cell_type": "markdown",
      "metadata": {
        "id": "Yt3jRCZ2H0Og"
      },
      "source": [
        "Мы были сконцентрированы на работе с текстами твиттов и не использовали другие признаки - имена пользователя, дату и местоположение"
      ]
    },
    {
      "cell_type": "markdown",
      "metadata": {
        "id": "52wjewCCo_di"
      },
      "source": [
        "Изучите признаки UserName и ScreenName. полезны ли они? Если полезны, то закодируйте их, добавьте к матрице с отскалированными признаками, обучите логистическую регрессию, замерьте качество."
      ]
    },
    {
      "cell_type": "code",
      "execution_count": null,
      "metadata": {
        "colab": {
          "base_uri": "https://localhost:8080/"
        },
        "id": "63thouYZptj6",
        "outputId": "52668ce2-13a7-41fa-b0ce-a5ac487b1c42"
      },
      "outputs": [
        {
          "output_type": "execute_result",
          "data": {
            "text/plain": [
              "ScreenName\n",
              "80130    1\n",
              "80550    1\n",
              "71612    1\n",
              "54533    1\n",
              "53399    1\n",
              "        ..\n",
              "65753    1\n",
              "75228    1\n",
              "64997    1\n",
              "77271    1\n",
              "52056    1\n",
              "Name: count, Length: 23410, dtype: int64"
            ]
          },
          "metadata": {},
          "execution_count": 52
        }
      ],
      "source": [
        "train['ScreenName'].value_counts(ascending=False)"
      ]
    },
    {
      "cell_type": "code",
      "execution_count": null,
      "metadata": {
        "colab": {
          "base_uri": "https://localhost:8080/"
        },
        "id": "a1E3bXrw30uY",
        "outputId": "9059eb19-84ac-4013-a965-95a94d8b85b4"
      },
      "outputs": [
        {
          "output_type": "execute_result",
          "data": {
            "text/plain": [
              "UserName\n",
              "35178    1\n",
              "35598    1\n",
              "26660    1\n",
              "9581     1\n",
              "8447     1\n",
              "        ..\n",
              "20801    1\n",
              "30276    1\n",
              "20045    1\n",
              "32319    1\n",
              "7104     1\n",
              "Name: count, Length: 23410, dtype: int64"
            ]
          },
          "metadata": {},
          "execution_count": 53
        }
      ],
      "source": [
        "train['UserName'].value_counts(ascending=False)"
      ]
    },
    {
      "cell_type": "markdown",
      "metadata": {
        "id": "r8_qR-gnpT3a"
      },
      "source": [
        "**Ответ:** Как мы видим, каждый username и screenname появляется все лишь один раз, поэтому их закодировать и использовать в дальнейшем для построения модели смысла нет."
      ]
    },
    {
      "cell_type": "markdown",
      "metadata": {
        "id": "ythEcFSkt7y3"
      },
      "source": [
        "Изучите признак TweetAt в обучающей выборке: преобразуйте его к типу datetime и нарисуйте его гистограмму с разделением по цвету на оспнове целевой переменной. Полезен ли он? Если полезен, то закодируйте его, добавьте к матрице с отскалированными признаками, обучите логистическую регрессию, замерьте качество."
      ]
    },
    {
      "cell_type": "code",
      "execution_count": null,
      "metadata": {
        "colab": {
          "base_uri": "https://localhost:8080/",
          "height": 472
        },
        "id": "Lxb_k0JLirNv",
        "outputId": "afd146d2-c8cb-421a-ed2f-222ae8c57151"
      },
      "outputs": [
        {
          "output_type": "display_data",
          "data": {
            "text/plain": [
              "<Figure size 640x480 with 1 Axes>"
            ],
            "image/png": "[encoded data removed]"
          },
          "metadata": {}
        }
      ],
      "source": [
        "df['TweetAt'] = pd.to_datetime(df['TweetAt'])\n",
        "\n",
        "sns.barplot(y=train['TweetAt'], x=y_train, ci=None, hue=train['TweetAt'])\n",
        "sns.color_palette(\"tab10\")\n",
        "plt.title('Количество твитов в день')\n",
        "plt.xlabel('Количество')\n",
        "plt.ylabel('Дата')\n",
        "plt.show()"
      ]
    },
    {
      "cell_type": "markdown",
      "metadata": {
        "id": "asARPFzATIuP"
      },
      "source": [
        "Как можно видеть в некоторые дни положительные отзыви сильно увеличивались, поэтому можно сказать, что этот столбец важен для нас."
      ]
    },
    {
      "cell_type": "code",
      "execution_count": null,
      "metadata": {
        "colab": {
          "base_uri": "https://localhost:8080/"
        },
        "id": "-vkqcQd5VlI9",
        "outputId": "3bdef07b-a5a2-4c60-d91c-7719a2901dbd"
      },
      "outputs": [
        {
          "output_type": "stream",
          "name": "stdout",
          "text": [
            "Accuracy для cv на train 0.9434429730884237\n",
            "Accuracy для cv на test 0.8427347020131553\n"
          ]
        }
      ],
      "source": [
        "# Подготовка данных\n",
        "train_new = pd.get_dummies(train['TweetAt'], drop_first=False, dtype=int)\n",
        "train_new.reset_index(drop = True , inplace = True)\n",
        "train_new['index'] = train_new.index\n",
        "scaled_dataframe = pd.DataFrame(data=train_tweet_cv_df_min_scaled.toarray(), columns=cv_df_min.get_feature_names_out())\n",
        "scaled_dataframe['index'] = scaled_dataframe.index\n",
        "train_modify = train_new.merge(scaled_dataframe, on='index')\n",
        "train_modify = train_modify.loc[:, train_modify.columns != 'index']\n",
        "\n",
        "test_new = pd.get_dummies(test['TweetAt'], drop_first=False, dtype=int)\n",
        "test_new.reset_index(drop = True , inplace = True)\n",
        "test_new['index'] = test_new.index\n",
        "scaled_dataframe_1 = pd.DataFrame(data=test_tweet_cv_df_min_scaled.toarray(), columns=cv_df_min.get_feature_names_out())\n",
        "scaled_dataframe_1['index'] = scaled_dataframe_1.index\n",
        "test_modify = test_new.merge(scaled_dataframe_1, on='index')\n",
        "test_modify = test_modify.loc[:, test_modify.columns != 'index']\n",
        "# Сверху я пытался всеми способами объеденить 2 таблицы так, чтобы не появились Nan-ы, хотя размеры таблиц совпадают, поэтому не надо меня жестко судить\n",
        "# Теперь обучим модель\n",
        "\n",
        "logreg.fit(train_modify, y_train)\n",
        "print(f\"Accuracy для cv на train {accuracy_score(logreg.predict(train_modify),y_train)}\")\n",
        "print(f\"Accuracy для cv на test {accuracy_score(logreg.predict(test_modify),y_test)}\")"
      ]
    },
    {
      "cell_type": "markdown",
      "metadata": {
        "id": "4IdLBdpQxM-G"
      },
      "source": [
        "**Ответ:** В итоге у меня модель стала хуже на тесте и чуть лучге на трейне, поэтому не имеет смысла использовать время и дни.\n",
        "\n"
      ]
    },
    {
      "cell_type": "markdown",
      "metadata": {
        "id": "r2JtRPhNP6qx"
      },
      "source": [
        "Поработайте с признаком Location в обучающей выборке. Сколько уникальных значений?"
      ]
    },
    {
      "cell_type": "code",
      "execution_count": null,
      "metadata": {
        "colab": {
          "base_uri": "https://localhost:8080/"
        },
        "id": "xYQZQ1FRNpoe",
        "outputId": "b1a056b2-ad78-450c-957c-189e4222455b"
      },
      "outputs": [
        {
          "output_type": "execute_result",
          "data": {
            "text/plain": [
              "7949"
            ]
          },
          "metadata": {},
          "execution_count": 56
        }
      ],
      "source": [
        "len(train['Location'].unique()) # Количество уникальных значений включая Unknown"
      ]
    },
    {
      "cell_type": "markdown",
      "metadata": {
        "id": "6k4JwpRTQISa"
      },
      "source": [
        "Постройте гистограмму топ-10 по популярности местоположений (исключая Unknown)"
      ]
    },
    {
      "cell_type": "code",
      "execution_count": null,
      "metadata": {
        "colab": {
          "base_uri": "https://localhost:8080/",
          "height": 472
        },
        "id": "J91YkhegJ0mz",
        "outputId": "d9381ee1-5a02-43b0-ea3a-1eb236a40451"
      },
      "outputs": [
        {
          "output_type": "display_data",
          "data": {
            "text/plain": [
              "<Figure size 640x480 with 1 Axes>"
            ],
            "image/png": "[encoded data removed]"
          },
          "metadata": {}
        }
      ],
      "source": [
        "data_for_location = train[train['Location'] != 'Unknown']\n",
        "\n",
        "sns.barplot(x=data_for_location['Location'].value_counts(ascending=False).values[:10],\n",
        "            y=data_for_location['Location'].value_counts(ascending=False).index[:10],\n",
        "            hue = data_for_location['Location'].value_counts(ascending=False).index[:10])\n",
        "plt.title('Топ самых популярных локаций')\n",
        "plt.xlabel('Количество повторений')\n",
        "plt.ylabel('Самые популярные локации')\n",
        "plt.show()"
      ]
    },
    {
      "cell_type": "markdown",
      "metadata": {
        "id": "ZOsv3lODTfYB"
      },
      "source": [
        "Видно, что многие местоположения включают в себя более точное название места, чем другие (Например, у некоторых стоит London, UK; а у некоторых просто UK или United Kingdom).\n",
        "\n",
        "Создайте новый признак WiderLocation, который содержит самое широкое местоположение (например, из London, UK должно получиться UK). Сколько уникальных категорий теперь? Постройте аналогичную гистограмму."
      ]
    },
    {
      "cell_type": "code",
      "execution_count": null,
      "metadata": {
        "colab": {
          "base_uri": "https://localhost:8080/"
        },
        "id": "mSkow6acOMyD",
        "outputId": "1ec4f568-b57b-427a-adf8-16dfdceff9fb"
      },
      "outputs": [
        {
          "output_type": "execute_result",
          "data": {
            "text/plain": [
              "4766"
            ]
          },
          "metadata": {},
          "execution_count": 58
        }
      ],
      "source": [
        "train['WiderLocation'] = train['Location'].apply(lambda x: x.split(',')[-1].strip() if ',' in x else x)\n",
        "test['WiderLocation'] = test['Location'].apply(lambda x: x.split(',')[-1].strip() if ',' in x else x)\n",
        "\n",
        "len(train['WiderLocation'].unique()) #Включая Unknown"
      ]
    },
    {
      "cell_type": "code",
      "execution_count": null,
      "metadata": {
        "colab": {
          "base_uri": "https://localhost:8080/",
          "height": 472
        },
        "id": "oEpcC1dQrtY7",
        "outputId": "35b4590b-6456-4240-ce54-807b96685ad6"
      },
      "outputs": [
        {
          "output_type": "display_data",
          "data": {
            "text/plain": [
              "<Figure size 640x480 with 1 Axes>"
            ],
            "image/png": "[encoded data removed]"
          },
          "metadata": {}
        }
      ],
      "source": [
        "train_for_widerlocation = train[train['WiderLocation'] != 'Unknown']\n",
        "sns.barplot(x=train_for_widerlocation['WiderLocation'].value_counts(ascending=False).values[:10],\n",
        "            y=train_for_widerlocation['WiderLocation'].value_counts(ascending=False).index[:10],\n",
        "            hue = train_for_widerlocation['WiderLocation'].value_counts(ascending=False).index[:10])\n",
        "plt.title('Топ самых популярных локаций (Train)')\n",
        "plt.xlabel('Количество повторений')\n",
        "plt.ylabel('Самые популярные локации')\n",
        "plt.show()"
      ]
    },
    {
      "cell_type": "markdown",
      "metadata": {
        "id": "IWn6h4W9eD3S"
      },
      "source": [
        "## Задание 8 Хорошее качество (Бонус 1 балл)"
      ]
    },
    {
      "cell_type": "markdown",
      "metadata": {
        "id": "-HDI0SU6eLgi"
      },
      "source": [
        "Добейтесь accuracy=0.9 на тестовой выборке (можно сменить токенайзер, векторайзер, модель и т.д.)"
      ]
    },
    {
      "cell_type": "code",
      "execution_count": null,
      "metadata": {
        "id": "5unxGFLQdHFs"
      },
      "outputs": [],
      "source": [
        "punc = ['\"','#','$',\n",
        " '%',\n",
        " '&',\n",
        " \"'\",\n",
        " '*',\n",
        " '+',\n",
        " ',',\n",
        " '-',\n",
        " '.',\n",
        " '<',\n",
        " '=',\n",
        " '>',\n",
        " '@',\n",
        " '[',\n",
        " '\\\\',\n",
        " ']',\n",
        " '_',\n",
        " '`',\n",
        " '{',\n",
        " '|',\n",
        " '}',\n",
        " '~']"
      ]
    },
    {
      "cell_type": "code",
      "execution_count": null,
      "metadata": {
        "id": "k3WMbE8edhlW"
      },
      "outputs": [],
      "source": [
        "# Ну попробуем хотя бы это\n",
        "# Создам новый токенайзер\n",
        "from nltk.tokenize import word_tokenize\n",
        "nltk.download(\"punkt\", quiet=True)\n",
        "def custom_stem_tokenizer_modify(text):\n",
        "  text_1 = text.lower()\n",
        "  list_tokens = tweet_tokenizer.tokenize(text_1)\n",
        "  tokens = list_tokens.copy()\n",
        "  for word in list_tokens:\n",
        "     if word in list(stop_words) or word in punc or (len(word) == 1 and ord(word) >= 128) or word[0:12] == 'https://t.co':\n",
        "      tokens.remove(word)\n",
        "\n",
        "  tokens_new = []\n",
        "  for word in tokens:\n",
        "    token_stem = stemmer.stem(word)\n",
        "    tokens_new.append(token_stem)\n",
        "\n",
        "  return tokens_new"
      ]
    },
    {
      "cell_type": "code",
      "execution_count": null,
      "metadata": {
        "id": "0qW1XrryphoV"
      },
      "outputs": [],
      "source": [
        "cv_mod = CountVectorizer(tokenizer = custom_stem_tokenizer_modify, min_df=8, max_df=3000)\n",
        "\n",
        "train_tweet_cv_mod = cv_mod.fit_transform(X_train['OriginalTweet'])\n",
        "test_tweet_cv_mod = cv_mod.transform(X_test['OriginalTweet'])"
      ]
    },
    {
      "cell_type": "code",
      "execution_count": null,
      "metadata": {
        "colab": {
          "base_uri": "https://localhost:8080/"
        },
        "id": "NNy_IEdRX_iD",
        "outputId": "b872e395-1267-4cec-e943-d7dd70179a2a"
      },
      "outputs": [
        {
          "output_type": "stream",
          "name": "stdout",
          "text": [
            "Accuracy для cv_mod на train 0.9358821016659548\n",
            "Accuracy для cv_mod на test 0.8702411799880406\n"
          ]
        }
      ],
      "source": [
        "logreg_new = LogisticRegression()\n",
        "logreg_new.fit(train_tweet_cv_mod, y_train)\n",
        "\n",
        "print(f\"Accuracy для cv_mod на train {accuracy_score(logreg_new.predict(train_tweet_cv_mod),y_train)}\")\n",
        "print(f\"Accuracy для cv_mod на test {accuracy_score(logreg_new.predict(test_tweet_cv_mod),y_test)}\")"
      ]
    }
  ],
  "metadata": {
    "colab": {
      "provenance": []
    },
    "kernelspec": {
      "display_name": "Python 3",
      "name": "python3"
    },
    "language_info": {
      "name": "python"
    }
  },
  "nbformat": 4,
  "nbformat_minor": 0
}